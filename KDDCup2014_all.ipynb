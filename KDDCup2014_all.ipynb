{
 "cells": [
  {
   "cell_type": "code",
   "execution_count": 2,
   "outputs": [],
   "source": [
    "name = \"kdd-cup-2014-predicting-excitement-at-donors-choose\""
   ],
   "metadata": {
    "collapsed": false,
    "ExecuteTime": {
     "end_time": "2023-09-07T11:41:03.904008Z",
     "start_time": "2023-09-07T11:41:03.861023Z"
    }
   }
  },
  {
   "cell_type": "code",
   "execution_count": 3,
   "outputs": [],
   "source": [
    "import pandas as pd\n",
    "# loading all dataframes\n",
    "donations_df = pd.read_csv(f'datasets_kaggle/{name}/donations.csv')\n",
    "essays_df = pd.read_csv(f'datasets_kaggle/{name}/essays.csv')\n",
    "outcomes_df = pd.read_csv(f'datasets_kaggle/{name}/outcomes.csv')\n",
    "projects_df = pd.read_csv(f'datasets_kaggle/{name}/projects.csv')\n",
    "resources_df = pd.read_csv(f'datasets_kaggle/{name}/resources.csv')\n",
    "sample_submission_df = pd.read_csv(f'datasets_kaggle/{name}/sampleSubmission.csv')"
   ],
   "metadata": {
    "collapsed": false,
    "ExecuteTime": {
     "end_time": "2023-09-07T11:43:18.446369Z",
     "start_time": "2023-09-07T11:41:05.720843Z"
    }
   }
  },
  {
   "cell_type": "markdown",
   "source": [
    "# Applying Jimmy's Code"
   ],
   "metadata": {
    "collapsed": false
   }
  },
  {
   "cell_type": "code",
   "execution_count": 4,
   "outputs": [],
   "source": [
    "# Joining projects with outcomes\n",
    "# Usefulness: This forms the base dataframe where we can add more features that will help in predicting the \"is_exciting\" label.\n",
    "# Input samples: 'projectid' from projects_df: ['dd291f97dc6b32b7c9f052794efc4929', '673d26170aeaf573d6e4c7565a65915b', '8f0e3bc89dc5304f71f167201242fa5e']\n",
    "#                'projectid' from outcomes_df: ['c6bc4035d501cc99ab78072d8544e3e4', 'cc7e0ca72280d0b08846ec7f15549406', 'a75a074419bcd15f3c22a8dcddd5f7cb']\n",
    "merged_df = pd.merge(projects_df, outcomes_df, on='projectid', how='inner')"
   ],
   "metadata": {
    "collapsed": false,
    "ExecuteTime": {
     "end_time": "2023-09-07T11:43:43.876974Z",
     "start_time": "2023-09-07T11:43:39.847899Z"
    }
   }
  },
  {
   "cell_type": "code",
   "execution_count": 6,
   "outputs": [
    {
     "data": {
      "text/plain": "                               projectid                    teacher_acctid  \\\n0       62526d85d2a1818432d03d600969e99c  ebc7c90b6c92a069432e0714b8d93dfd   \n1       33d59ac771b80222ad63ef0f4ac47ade  de83b4c1f6428a15032c207c1d5e572a   \n2       1a3aaeffc56dd2a421e37d8298024c0a  f4c9ed095b85458dcf858e25f203af00   \n3       33aa19ee4da4c5adf47d0dfb84fab5ef  17768031eb40de8d4497dbb54df48742   \n4       e31c0ea8b68f404699dfb0d39e9bc99b  0f1bc5b4700fd33383be104442660178   \n...                                  ...                               ...   \n619321  a7236ea96c812895cafc5d700d779147  c4f90a541cb81e68cd7ad180309985ae   \n619322  e02da37beb332eb66c2d2ba989c597ad  d95c94eea994274d614be50bddd89973   \n619323  82e536f14eadf2671a70e03416f695a3  b00d2790934ce7487c99bc9d6e1d5d4d   \n619324  e139df754a873a62d93daa56acbf8040  e5476c2ef97b33614445a17554535adc   \n619325  77558a6eda151deee9a00553f7fccfc7  21abe0cd2a09a218888d2c4659c58f43   \n\n                                schoolid  school_ncesid  school_latitude  \\\n0       5aca9711ff0e4b37db48701f46f73036   1.713710e+11        41.972419   \n1       d91a805b213bf74ae77b94e0de2b73ad   1.601530e+11        43.501154   \n2       9310d3eb447a4e46bc5fc31ed007ceac   3.302610e+11        42.888244   \n3       9ac70da58322783f82152eecc140a812   5.103240e+11        37.476158   \n4       cb9f688cf59e3ee22a087d616ca8f5d7   1.709930e+11        41.952851   \n...                                  ...            ...              ...   \n619321  a1e14d253e77ffccc074705527845b4a   3.600081e+11        40.809677   \n619322  bbd70e92262f0f0a342df5d1f3119d8e   3.600097e+11        40.701778   \n619323  0c5b1a4b6985dcd42c72b732c774474c   3.600077e+11        40.770233   \n619324  a81c26262a3ad70702a8f14e5329b023   3.600077e+11        40.765517   \n619325  873147e8c4c1ce73bd10eab2ffe8577e   3.600097e+11        40.688454   \n\n        school_longitude  school_city school_state  school_zip school_metro  \\\n0             -88.174597     Bartlett           IL     60103.0     suburban   \n1            -112.056780  Idaho Falls           ID     83402.0        urban   \n2             -71.320224        Derry           NH      3038.0     suburban   \n3             -77.488397     Richmond           VA     23224.0        urban   \n4             -87.650233      Chicago           IL     60613.0        urban   \n...                  ...          ...          ...         ...          ...   \n619321        -73.939178     New York           NY     10037.0        urban   \n619322        -74.011840     New York           NY     10004.0        urban   \n619323        -73.950760     New York           NY     10075.0        urban   \n619324        -73.960090     New York           NY     10065.0          NaN   \n619325        -73.910432     Brooklyn           NY     11207.0        urban   \n\n        ... at_least_1_green_donation great_chat  \\\n0       ...                         f          t   \n1       ...                       NaN          f   \n2       ...                         t          f   \n3       ...                         t          f   \n4       ...                         t          f   \n...     ...                       ...        ...   \n619321  ...                         t          f   \n619322  ...                         t          f   \n619323  ...                         t          f   \n619324  ...                         t          f   \n619325  ...                         t          f   \n\n       three_or_more_non_teacher_referred_donors  \\\n0                                              t   \n1                                            NaN   \n2                                              f   \n3                                              f   \n4                                              f   \n...                                          ...   \n619321                                         f   \n619322                                         f   \n619323                                         f   \n619324                                         f   \n619325                                         f   \n\n       one_non_teacher_referred_donor_giving_100_plus  \\\n0                                                   t   \n1                                                 NaN   \n2                                                   f   \n3                                                   f   \n4                                                   t   \n...                                               ...   \n619321                                              t   \n619322                                              t   \n619323                                              t   \n619324                                              t   \n619325                                              t   \n\n       donation_from_thoughtful_donor great_messages_proportion  \\\n0                                   f                      80.0   \n1                                 NaN                       NaN   \n2                                   f                       NaN   \n3                                   f                       NaN   \n4                                   f                      50.0   \n...                               ...                       ...   \n619321                              f                       NaN   \n619322                              f                       NaN   \n619323                              f                       NaN   \n619324                              f                       NaN   \n619325                              f                       NaN   \n\n       teacher_referred_count non_teacher_referred_count  \\\n0                         0.0                        6.0   \n1                         NaN                        NaN   \n2                         0.0                        2.0   \n3                         0.0                        1.0   \n4                         0.0                        2.0   \n...                       ...                        ...   \n619321                    0.0                        1.0   \n619322                    0.0                        1.0   \n619323                    0.0                        1.0   \n619324                    0.0                        1.0   \n619325                    0.0                        1.0   \n\n       total_price_with_fulfillment students_per_dollar  \n0                            474.36            0.014757  \n1                            263.24            0.113964  \n2                            315.09            0.729950  \n3                            262.94            0.068457  \n4                            543.41            0.128816  \n...                             ...                 ...  \n619321                          NaN                 NaN  \n619322                          NaN                 NaN  \n619323                          NaN                 NaN  \n619324                          NaN                 NaN  \n619325                          NaN                 NaN  \n\n[619326 rows x 48 columns]",
      "text/html": "<div>\n<style scoped>\n    .dataframe tbody tr th:only-of-type {\n        vertical-align: middle;\n    }\n\n    .dataframe tbody tr th {\n        vertical-align: top;\n    }\n\n    .dataframe thead th {\n        text-align: right;\n    }\n</style>\n<table border=\"1\" class=\"dataframe\">\n  <thead>\n    <tr style=\"text-align: right;\">\n      <th></th>\n      <th>projectid</th>\n      <th>teacher_acctid</th>\n      <th>schoolid</th>\n      <th>school_ncesid</th>\n      <th>school_latitude</th>\n      <th>school_longitude</th>\n      <th>school_city</th>\n      <th>school_state</th>\n      <th>school_zip</th>\n      <th>school_metro</th>\n      <th>...</th>\n      <th>at_least_1_green_donation</th>\n      <th>great_chat</th>\n      <th>three_or_more_non_teacher_referred_donors</th>\n      <th>one_non_teacher_referred_donor_giving_100_plus</th>\n      <th>donation_from_thoughtful_donor</th>\n      <th>great_messages_proportion</th>\n      <th>teacher_referred_count</th>\n      <th>non_teacher_referred_count</th>\n      <th>total_price_with_fulfillment</th>\n      <th>students_per_dollar</th>\n    </tr>\n  </thead>\n  <tbody>\n    <tr>\n      <th>0</th>\n      <td>62526d85d2a1818432d03d600969e99c</td>\n      <td>ebc7c90b6c92a069432e0714b8d93dfd</td>\n      <td>5aca9711ff0e4b37db48701f46f73036</td>\n      <td>1.713710e+11</td>\n      <td>41.972419</td>\n      <td>-88.174597</td>\n      <td>Bartlett</td>\n      <td>IL</td>\n      <td>60103.0</td>\n      <td>suburban</td>\n      <td>...</td>\n      <td>f</td>\n      <td>t</td>\n      <td>t</td>\n      <td>t</td>\n      <td>f</td>\n      <td>80.0</td>\n      <td>0.0</td>\n      <td>6.0</td>\n      <td>474.36</td>\n      <td>0.014757</td>\n    </tr>\n    <tr>\n      <th>1</th>\n      <td>33d59ac771b80222ad63ef0f4ac47ade</td>\n      <td>de83b4c1f6428a15032c207c1d5e572a</td>\n      <td>d91a805b213bf74ae77b94e0de2b73ad</td>\n      <td>1.601530e+11</td>\n      <td>43.501154</td>\n      <td>-112.056780</td>\n      <td>Idaho Falls</td>\n      <td>ID</td>\n      <td>83402.0</td>\n      <td>urban</td>\n      <td>...</td>\n      <td>NaN</td>\n      <td>f</td>\n      <td>NaN</td>\n      <td>NaN</td>\n      <td>NaN</td>\n      <td>NaN</td>\n      <td>NaN</td>\n      <td>NaN</td>\n      <td>263.24</td>\n      <td>0.113964</td>\n    </tr>\n    <tr>\n      <th>2</th>\n      <td>1a3aaeffc56dd2a421e37d8298024c0a</td>\n      <td>f4c9ed095b85458dcf858e25f203af00</td>\n      <td>9310d3eb447a4e46bc5fc31ed007ceac</td>\n      <td>3.302610e+11</td>\n      <td>42.888244</td>\n      <td>-71.320224</td>\n      <td>Derry</td>\n      <td>NH</td>\n      <td>3038.0</td>\n      <td>suburban</td>\n      <td>...</td>\n      <td>t</td>\n      <td>f</td>\n      <td>f</td>\n      <td>f</td>\n      <td>f</td>\n      <td>NaN</td>\n      <td>0.0</td>\n      <td>2.0</td>\n      <td>315.09</td>\n      <td>0.729950</td>\n    </tr>\n    <tr>\n      <th>3</th>\n      <td>33aa19ee4da4c5adf47d0dfb84fab5ef</td>\n      <td>17768031eb40de8d4497dbb54df48742</td>\n      <td>9ac70da58322783f82152eecc140a812</td>\n      <td>5.103240e+11</td>\n      <td>37.476158</td>\n      <td>-77.488397</td>\n      <td>Richmond</td>\n      <td>VA</td>\n      <td>23224.0</td>\n      <td>urban</td>\n      <td>...</td>\n      <td>t</td>\n      <td>f</td>\n      <td>f</td>\n      <td>f</td>\n      <td>f</td>\n      <td>NaN</td>\n      <td>0.0</td>\n      <td>1.0</td>\n      <td>262.94</td>\n      <td>0.068457</td>\n    </tr>\n    <tr>\n      <th>4</th>\n      <td>e31c0ea8b68f404699dfb0d39e9bc99b</td>\n      <td>0f1bc5b4700fd33383be104442660178</td>\n      <td>cb9f688cf59e3ee22a087d616ca8f5d7</td>\n      <td>1.709930e+11</td>\n      <td>41.952851</td>\n      <td>-87.650233</td>\n      <td>Chicago</td>\n      <td>IL</td>\n      <td>60613.0</td>\n      <td>urban</td>\n      <td>...</td>\n      <td>t</td>\n      <td>f</td>\n      <td>f</td>\n      <td>t</td>\n      <td>f</td>\n      <td>50.0</td>\n      <td>0.0</td>\n      <td>2.0</td>\n      <td>543.41</td>\n      <td>0.128816</td>\n    </tr>\n    <tr>\n      <th>...</th>\n      <td>...</td>\n      <td>...</td>\n      <td>...</td>\n      <td>...</td>\n      <td>...</td>\n      <td>...</td>\n      <td>...</td>\n      <td>...</td>\n      <td>...</td>\n      <td>...</td>\n      <td>...</td>\n      <td>...</td>\n      <td>...</td>\n      <td>...</td>\n      <td>...</td>\n      <td>...</td>\n      <td>...</td>\n      <td>...</td>\n      <td>...</td>\n      <td>...</td>\n      <td>...</td>\n    </tr>\n    <tr>\n      <th>619321</th>\n      <td>a7236ea96c812895cafc5d700d779147</td>\n      <td>c4f90a541cb81e68cd7ad180309985ae</td>\n      <td>a1e14d253e77ffccc074705527845b4a</td>\n      <td>3.600081e+11</td>\n      <td>40.809677</td>\n      <td>-73.939178</td>\n      <td>New York</td>\n      <td>NY</td>\n      <td>10037.0</td>\n      <td>urban</td>\n      <td>...</td>\n      <td>t</td>\n      <td>f</td>\n      <td>f</td>\n      <td>t</td>\n      <td>f</td>\n      <td>NaN</td>\n      <td>0.0</td>\n      <td>1.0</td>\n      <td>NaN</td>\n      <td>NaN</td>\n    </tr>\n    <tr>\n      <th>619322</th>\n      <td>e02da37beb332eb66c2d2ba989c597ad</td>\n      <td>d95c94eea994274d614be50bddd89973</td>\n      <td>bbd70e92262f0f0a342df5d1f3119d8e</td>\n      <td>3.600097e+11</td>\n      <td>40.701778</td>\n      <td>-74.011840</td>\n      <td>New York</td>\n      <td>NY</td>\n      <td>10004.0</td>\n      <td>urban</td>\n      <td>...</td>\n      <td>t</td>\n      <td>f</td>\n      <td>f</td>\n      <td>t</td>\n      <td>f</td>\n      <td>NaN</td>\n      <td>0.0</td>\n      <td>1.0</td>\n      <td>NaN</td>\n      <td>NaN</td>\n    </tr>\n    <tr>\n      <th>619323</th>\n      <td>82e536f14eadf2671a70e03416f695a3</td>\n      <td>b00d2790934ce7487c99bc9d6e1d5d4d</td>\n      <td>0c5b1a4b6985dcd42c72b732c774474c</td>\n      <td>3.600077e+11</td>\n      <td>40.770233</td>\n      <td>-73.950760</td>\n      <td>New York</td>\n      <td>NY</td>\n      <td>10075.0</td>\n      <td>urban</td>\n      <td>...</td>\n      <td>t</td>\n      <td>f</td>\n      <td>f</td>\n      <td>t</td>\n      <td>f</td>\n      <td>NaN</td>\n      <td>0.0</td>\n      <td>1.0</td>\n      <td>NaN</td>\n      <td>NaN</td>\n    </tr>\n    <tr>\n      <th>619324</th>\n      <td>e139df754a873a62d93daa56acbf8040</td>\n      <td>e5476c2ef97b33614445a17554535adc</td>\n      <td>a81c26262a3ad70702a8f14e5329b023</td>\n      <td>3.600077e+11</td>\n      <td>40.765517</td>\n      <td>-73.960090</td>\n      <td>New York</td>\n      <td>NY</td>\n      <td>10065.0</td>\n      <td>NaN</td>\n      <td>...</td>\n      <td>t</td>\n      <td>f</td>\n      <td>f</td>\n      <td>t</td>\n      <td>f</td>\n      <td>NaN</td>\n      <td>0.0</td>\n      <td>1.0</td>\n      <td>NaN</td>\n      <td>NaN</td>\n    </tr>\n    <tr>\n      <th>619325</th>\n      <td>77558a6eda151deee9a00553f7fccfc7</td>\n      <td>21abe0cd2a09a218888d2c4659c58f43</td>\n      <td>873147e8c4c1ce73bd10eab2ffe8577e</td>\n      <td>3.600097e+11</td>\n      <td>40.688454</td>\n      <td>-73.910432</td>\n      <td>Brooklyn</td>\n      <td>NY</td>\n      <td>11207.0</td>\n      <td>urban</td>\n      <td>...</td>\n      <td>t</td>\n      <td>f</td>\n      <td>f</td>\n      <td>t</td>\n      <td>f</td>\n      <td>NaN</td>\n      <td>0.0</td>\n      <td>1.0</td>\n      <td>NaN</td>\n      <td>NaN</td>\n    </tr>\n  </tbody>\n</table>\n<p>619326 rows × 48 columns</p>\n</div>"
     },
     "execution_count": 6,
     "metadata": {},
     "output_type": "execute_result"
    }
   ],
   "source": [
    "merged_df"
   ],
   "metadata": {
    "collapsed": false,
    "ExecuteTime": {
     "end_time": "2023-09-07T11:45:19.085974Z",
     "start_time": "2023-09-07T11:45:11.636524Z"
    }
   }
  },
  {
   "cell_type": "code",
   "execution_count": 7,
   "outputs": [],
   "source": [
    "\n",
    "#### Feature 1: `total_price_with_fulfillment`\n",
    "#Calculate the total price of a project including the `fulfillment_labor_materials`.\n",
    "\n",
    "# Feature: Total price of the project including fulfillment labor materials\n",
    "# Usefulness: The total financial burden of a project, including hidden costs, may influence its chances of being considered \"exciting.\"\n",
    "# Input samples: 'total_price_excluding_optional_support': [2148.49, 227.37, 188.80], 'fulfillment_labor_materials': [30.0, 35.0, 35.0]\n",
    "merged_df['total_price_with_fulfillment'] = merged_df['total_price_excluding_optional_support'] + merged_df['fulfillment_labor_materials']\n",
    "\n",
    "#### Feature 2: `students_per_dollar`\n",
    "#Calculate the number of students reached per dollar spent on the project.\n",
    "\n",
    "# Feature: Number of students reached per dollar\n",
    "# Usefulness: Projects that impact more students per dollar may be more \"exciting\" due to their cost-effectiveness.\n",
    "# Input samples: 'students_reached': [125.0, 62.0, 80.0], 'total_price_with_fulfillment': [2178.49, 262.37, 223.80]\n",
    "merged_df['students_per_dollar'] = merged_df['students_reached'] / merged_df['total_price_with_fulfillment']\n",
    "\n",
    "#### Drop Columns\n",
    "#We will drop the columns that are already transformed or do not add much information to the predictive model.\n",
    "\n",
    "# Explanation: Dropping columns that have been transformed or are not directly useful for predicting 'is_exciting'\n",
    "merged_df.drop(columns=['total_price_excluding_optional_support', 'fulfillment_labor_materials'], inplace=True)"
   ],
   "metadata": {
    "collapsed": false,
    "ExecuteTime": {
     "end_time": "2023-09-07T11:46:21.580396Z",
     "start_time": "2023-09-07T11:46:12.922053Z"
    }
   }
  },
  {
   "cell_type": "code",
   "execution_count": 8,
   "outputs": [],
   "source": [
    "# Joining merged_df with donations_df on projectid\n",
    "# Usefulness: This allows us to add features based on the donations each project received, which could be a strong indicator of whether a project is \"exciting.\"\n",
    "# Input samples: 'projectid' from merged_df: ['195d03cc23a38b2990dff4b81e774f28', '3c884a0ee29b7dea836b887d60d79c08', 'ce4c4ef12a619490c211f9534797796b']\n",
    "#                'projectid' from donations_df: ['54622a1620e0047229ab1a466f2092dd', 'be8d90d9c4c8f4cbe8e75b39a835f46a', 'b5a6a8c2df3137d3be7f1b0d03f7ffed']\n",
    "merged_with_donations_df = pd.merge(merged_df, donations_df, on='projectid', how='left')\n",
    "\n",
    "#### Feature 3: `average_donation_amount`\n",
    "#Calculate the average donation amount received by each project.\n",
    "\n",
    "# Feature: Average donation amount for each project\n",
    "# Usefulness: A higher average donation amount could indicate that donors find the project more compelling or \"exciting.\"\n",
    "# Input samples: 'donation_total': [17.65, 25.00, 100.00]\n",
    "merged_with_donations_df['average_donation_amount'] = merged_with_donations_df.groupby('projectid')['donation_total'].transform('mean')\n",
    "\n",
    "#### Feature 4: `donor_teacher_ratio`\n",
    "# Calculate the ratio of teacher to non-teacher donors for each project.\n",
    "\n",
    "# Feature: Ratio of teacher donors to non-teacher donors for each project\n",
    "# Usefulness: A higher ratio of teacher donors could indicate that the project is more \"exciting\" to educators, which may be a good sign.\n",
    "# Input samples: 'is_teacher_acct': ['t', 'f', 'f']\n",
    "merged_with_donations_df['is_teacher'] = merged_with_donations_df['is_teacher_acct'].apply(lambda x: 1 if x == 't' else 0)\n",
    "merged_with_donations_df['teacher_donor_ratio'] = merged_with_donations_df.groupby('projectid')['is_teacher'].transform('mean')\n",
    "\n",
    "#### Drop Columns\n",
    "# We'll drop columns that have been used for aggregations or transformations and won't be directly useful for the model.\n",
    "\n",
    "# Explanation: Dropping columns that have been used for aggregation or transformation\n",
    "merged_with_donations_df.drop(columns=['donation_total', 'is_teacher_acct', 'is_teacher'], inplace=True)"
   ],
   "metadata": {
    "collapsed": false,
    "ExecuteTime": {
     "end_time": "2023-09-07T11:48:26.847489Z",
     "start_time": "2023-09-07T11:46:53.397419Z"
    }
   }
  },
  {
   "cell_type": "code",
   "execution_count": 11,
   "outputs": [
    {
     "data": {
      "text/plain": "       school_ncesid  school_latitude  school_longitude    school_zip  \\\ncount   6.261300e+04     67076.000000      67076.000000  67076.000000   \nmean    2.557701e+11        37.187369        -94.360712  54169.825452   \nstd     1.623766e+11         4.781100         18.213328  31581.476464   \nmin     1.000050e+10        18.249140       -164.792083   1020.000000   \n25%     8.033600e+10        34.026493       -117.089933  27832.000000   \n50%     2.502790e+11        37.462179        -87.785355  54301.000000   \n75%     3.704720e+11        40.758002        -79.825195  90003.000000   \nmax     6.100003e+11        67.258157        -66.628036  99827.000000   \n\n       total_price_including_optional_support  students_reached   is_exciting  \\\ncount                            6.707600e+04      67066.000000  67076.000000   \nmean                             1.381381e+03         92.891868      0.108608   \nstd                              2.902883e+04        166.633026      0.311149   \nmin                              0.000000e+00          0.000000      0.000000   \n25%                              3.553500e+02         22.000000      0.000000   \n50%                              5.159500e+02         30.000000      0.000000   \n75%                              7.658600e+02         96.000000      0.000000   \nmax                              1.219512e+06      15000.000000      1.000000   \n\n       great_messages_proportion  teacher_referred_count  \\\ncount               55155.000000            61195.000000   \nmean                   53.870166                1.787597   \nstd                    31.308943                4.722826   \nmin                     0.000000                0.000000   \n25%                    33.000000                0.000000   \n50%                    54.000000                0.000000   \n75%                    77.000000                2.000000   \nmax                   100.000000               83.000000   \n\n       non_teacher_referred_count  total_price_with_fulfillment  \\\ncount                61195.000000                  64738.000000   \nmean                     9.539505                    609.771172   \nstd                     13.956722                   1065.627774   \nmin                      0.000000                     44.680000   \n25%                      2.000000                    330.050000   \n50%                      5.000000                    464.850000   \n75%                     11.000000                    675.920000   \nmax                    161.000000                 139755.410000   \n\n       students_per_dollar     donor_zip  donation_to_project  \\\ncount         64728.000000  21602.000000         48483.000000   \nmean              0.210185  51199.365568            65.839890   \nstd               0.404640  33301.982044           255.531649   \nmin               0.000188      0.000000             0.000000   \n25%               0.044922  20141.000000             9.350000   \n50%               0.083243  48047.000000            21.250000   \n75%               0.194455  90016.000000            50.000000   \nmax              20.256310  99775.000000         33475.410000   \n\n       donation_optional_support  average_donation_amount  teacher_donor_ratio  \ncount               48483.000000             48483.000000         67076.000000  \nmean                   10.409881                76.249771             0.085783  \nstd                    27.068378               234.161226             0.207913  \nmin                     0.000000                 0.220000             0.000000  \n25%                     1.500000                18.333333             0.000000  \n50%                     3.750000                32.690000             0.000000  \n75%                     7.500000                69.496667             0.000000  \nmax                  1599.820000             33475.410000             1.000000  ",
      "text/html": "<div>\n<style scoped>\n    .dataframe tbody tr th:only-of-type {\n        vertical-align: middle;\n    }\n\n    .dataframe tbody tr th {\n        vertical-align: top;\n    }\n\n    .dataframe thead th {\n        text-align: right;\n    }\n</style>\n<table border=\"1\" class=\"dataframe\">\n  <thead>\n    <tr style=\"text-align: right;\">\n      <th></th>\n      <th>school_ncesid</th>\n      <th>school_latitude</th>\n      <th>school_longitude</th>\n      <th>school_zip</th>\n      <th>total_price_including_optional_support</th>\n      <th>students_reached</th>\n      <th>is_exciting</th>\n      <th>great_messages_proportion</th>\n      <th>teacher_referred_count</th>\n      <th>non_teacher_referred_count</th>\n      <th>total_price_with_fulfillment</th>\n      <th>students_per_dollar</th>\n      <th>donor_zip</th>\n      <th>donation_to_project</th>\n      <th>donation_optional_support</th>\n      <th>average_donation_amount</th>\n      <th>teacher_donor_ratio</th>\n    </tr>\n  </thead>\n  <tbody>\n    <tr>\n      <th>count</th>\n      <td>6.261300e+04</td>\n      <td>67076.000000</td>\n      <td>67076.000000</td>\n      <td>67076.000000</td>\n      <td>6.707600e+04</td>\n      <td>67066.000000</td>\n      <td>67076.000000</td>\n      <td>55155.000000</td>\n      <td>61195.000000</td>\n      <td>61195.000000</td>\n      <td>64738.000000</td>\n      <td>64728.000000</td>\n      <td>21602.000000</td>\n      <td>48483.000000</td>\n      <td>48483.000000</td>\n      <td>48483.000000</td>\n      <td>67076.000000</td>\n    </tr>\n    <tr>\n      <th>mean</th>\n      <td>2.557701e+11</td>\n      <td>37.187369</td>\n      <td>-94.360712</td>\n      <td>54169.825452</td>\n      <td>1.381381e+03</td>\n      <td>92.891868</td>\n      <td>0.108608</td>\n      <td>53.870166</td>\n      <td>1.787597</td>\n      <td>9.539505</td>\n      <td>609.771172</td>\n      <td>0.210185</td>\n      <td>51199.365568</td>\n      <td>65.839890</td>\n      <td>10.409881</td>\n      <td>76.249771</td>\n      <td>0.085783</td>\n    </tr>\n    <tr>\n      <th>std</th>\n      <td>1.623766e+11</td>\n      <td>4.781100</td>\n      <td>18.213328</td>\n      <td>31581.476464</td>\n      <td>2.902883e+04</td>\n      <td>166.633026</td>\n      <td>0.311149</td>\n      <td>31.308943</td>\n      <td>4.722826</td>\n      <td>13.956722</td>\n      <td>1065.627774</td>\n      <td>0.404640</td>\n      <td>33301.982044</td>\n      <td>255.531649</td>\n      <td>27.068378</td>\n      <td>234.161226</td>\n      <td>0.207913</td>\n    </tr>\n    <tr>\n      <th>min</th>\n      <td>1.000050e+10</td>\n      <td>18.249140</td>\n      <td>-164.792083</td>\n      <td>1020.000000</td>\n      <td>0.000000e+00</td>\n      <td>0.000000</td>\n      <td>0.000000</td>\n      <td>0.000000</td>\n      <td>0.000000</td>\n      <td>0.000000</td>\n      <td>44.680000</td>\n      <td>0.000188</td>\n      <td>0.000000</td>\n      <td>0.000000</td>\n      <td>0.000000</td>\n      <td>0.220000</td>\n      <td>0.000000</td>\n    </tr>\n    <tr>\n      <th>25%</th>\n      <td>8.033600e+10</td>\n      <td>34.026493</td>\n      <td>-117.089933</td>\n      <td>27832.000000</td>\n      <td>3.553500e+02</td>\n      <td>22.000000</td>\n      <td>0.000000</td>\n      <td>33.000000</td>\n      <td>0.000000</td>\n      <td>2.000000</td>\n      <td>330.050000</td>\n      <td>0.044922</td>\n      <td>20141.000000</td>\n      <td>9.350000</td>\n      <td>1.500000</td>\n      <td>18.333333</td>\n      <td>0.000000</td>\n    </tr>\n    <tr>\n      <th>50%</th>\n      <td>2.502790e+11</td>\n      <td>37.462179</td>\n      <td>-87.785355</td>\n      <td>54301.000000</td>\n      <td>5.159500e+02</td>\n      <td>30.000000</td>\n      <td>0.000000</td>\n      <td>54.000000</td>\n      <td>0.000000</td>\n      <td>5.000000</td>\n      <td>464.850000</td>\n      <td>0.083243</td>\n      <td>48047.000000</td>\n      <td>21.250000</td>\n      <td>3.750000</td>\n      <td>32.690000</td>\n      <td>0.000000</td>\n    </tr>\n    <tr>\n      <th>75%</th>\n      <td>3.704720e+11</td>\n      <td>40.758002</td>\n      <td>-79.825195</td>\n      <td>90003.000000</td>\n      <td>7.658600e+02</td>\n      <td>96.000000</td>\n      <td>0.000000</td>\n      <td>77.000000</td>\n      <td>2.000000</td>\n      <td>11.000000</td>\n      <td>675.920000</td>\n      <td>0.194455</td>\n      <td>90016.000000</td>\n      <td>50.000000</td>\n      <td>7.500000</td>\n      <td>69.496667</td>\n      <td>0.000000</td>\n    </tr>\n    <tr>\n      <th>max</th>\n      <td>6.100003e+11</td>\n      <td>67.258157</td>\n      <td>-66.628036</td>\n      <td>99827.000000</td>\n      <td>1.219512e+06</td>\n      <td>15000.000000</td>\n      <td>1.000000</td>\n      <td>100.000000</td>\n      <td>83.000000</td>\n      <td>161.000000</td>\n      <td>139755.410000</td>\n      <td>20.256310</td>\n      <td>99775.000000</td>\n      <td>33475.410000</td>\n      <td>1599.820000</td>\n      <td>33475.410000</td>\n      <td>1.000000</td>\n    </tr>\n  </tbody>\n</table>\n</div>"
     },
     "execution_count": 11,
     "metadata": {},
     "output_type": "execute_result"
    }
   ],
   "source": [
    "merged_with_donations_df.describe()"
   ],
   "metadata": {
    "collapsed": false,
    "ExecuteTime": {
     "end_time": "2023-09-07T10:41:23.841831Z",
     "start_time": "2023-09-07T10:41:22.912408Z"
    }
   }
  },
  {
   "cell_type": "code",
   "execution_count": 27,
   "outputs": [
    {
     "data": {
      "text/plain": "0         4\n1        28\n2         4\n3        22\n4         0\n         ..\n67071     2\n67072     4\n67073     2\n67074     2\n67075    21\nLength: 67076, dtype: int64"
     },
     "execution_count": 27,
     "metadata": {},
     "output_type": "execute_result"
    }
   ],
   "source": [
    "merged_with_donations_df.isna().sum(axis=1)"
   ],
   "metadata": {
    "collapsed": false,
    "ExecuteTime": {
     "end_time": "2023-09-07T11:20:41.628544Z",
     "start_time": "2023-09-07T11:20:39.593216Z"
    }
   }
  },
  {
   "cell_type": "code",
   "execution_count": 9,
   "outputs": [],
   "source": [
    "from sklearn.ensemble import RandomForestClassifier\n",
    "from sklearn.model_selection import train_test_split\n",
    "from sklearn.metrics import accuracy_score\n",
    "from sklearn.preprocessing import LabelEncoder\n",
    "\n",
    "# Assume merged_with_donations_sampled_df is the final DataFrame after feature engineering\n",
    "# Convert 'is_exciting' to numerical labels\n",
    "label_encoder = LabelEncoder()\n",
    "merged_with_donations_df['is_exciting'] = label_encoder.fit_transform(merged_with_donations_df['is_exciting'])\n",
    "\n",
    "# Select features and target variable\n",
    "features = ['total_price_with_fulfillment', 'students_per_dollar', 'average_donation_amount', 'teacher_donor_ratio']\n",
    "X = merged_with_donations_df[features]\n",
    "y = merged_with_donations_df['is_exciting']\n",
    "\n",
    "# Drop rows with missing values in feature columns\n",
    "X_dropped = X.dropna()\n",
    "# Drop corresponding rows in target variable\n",
    "y_dropped = y.loc[X_dropped.index]\n"
   ],
   "metadata": {
    "collapsed": false,
    "ExecuteTime": {
     "end_time": "2023-09-07T11:49:36.118630Z",
     "start_time": "2023-09-07T11:49:06.336888Z"
    }
   }
  },
  {
   "cell_type": "code",
   "execution_count": 10,
   "outputs": [
    {
     "data": {
      "text/plain": "3042874"
     },
     "execution_count": 10,
     "metadata": {},
     "output_type": "execute_result"
    }
   ],
   "source": [
    "X_dropped.isna().sum(axis=1)\n",
    "len(X_dropped)"
   ],
   "metadata": {
    "collapsed": false,
    "ExecuteTime": {
     "end_time": "2023-09-07T11:51:55.035500Z",
     "start_time": "2023-09-07T11:51:53.702404Z"
    }
   }
  },
  {
   "cell_type": "code",
   "execution_count": 11,
   "outputs": [
    {
     "ename": "KeyboardInterrupt",
     "evalue": "",
     "output_type": "error",
     "traceback": [
      "\u001B[0;31m---------------------------------------------------------------------------\u001B[0m",
      "\u001B[0;31mKeyboardInterrupt\u001B[0m                         Traceback (most recent call last)",
      "Cell \u001B[0;32mIn[11], line 8\u001B[0m\n\u001B[1;32m      5\u001B[0m clf \u001B[38;5;241m=\u001B[39m RandomForestClassifier(n_estimators\u001B[38;5;241m=\u001B[39m\u001B[38;5;241m100\u001B[39m, random_state\u001B[38;5;241m=\u001B[39m\u001B[38;5;241m42\u001B[39m)\n\u001B[1;32m      7\u001B[0m \u001B[38;5;66;03m# Train the classifier\u001B[39;00m\n\u001B[0;32m----> 8\u001B[0m \u001B[43mclf\u001B[49m\u001B[38;5;241;43m.\u001B[39;49m\u001B[43mfit\u001B[49m\u001B[43m(\u001B[49m\u001B[43mX_train\u001B[49m\u001B[43m,\u001B[49m\u001B[43m \u001B[49m\u001B[43my_train\u001B[49m\u001B[43m)\u001B[49m\n\u001B[1;32m     10\u001B[0m \u001B[38;5;66;03m# Make predictions\u001B[39;00m\n\u001B[1;32m     11\u001B[0m y_pred \u001B[38;5;241m=\u001B[39m clf\u001B[38;5;241m.\u001B[39mpredict(X_test)\n",
      "File \u001B[0;32m~/git/CAAFE-Multiple-Tables/vevn/lib/python3.8/site-packages/sklearn/base.py:1151\u001B[0m, in \u001B[0;36m_fit_context.<locals>.decorator.<locals>.wrapper\u001B[0;34m(estimator, *args, **kwargs)\u001B[0m\n\u001B[1;32m   1144\u001B[0m     estimator\u001B[38;5;241m.\u001B[39m_validate_params()\n\u001B[1;32m   1146\u001B[0m \u001B[38;5;28;01mwith\u001B[39;00m config_context(\n\u001B[1;32m   1147\u001B[0m     skip_parameter_validation\u001B[38;5;241m=\u001B[39m(\n\u001B[1;32m   1148\u001B[0m         prefer_skip_nested_validation \u001B[38;5;129;01mor\u001B[39;00m global_skip_validation\n\u001B[1;32m   1149\u001B[0m     )\n\u001B[1;32m   1150\u001B[0m ):\n\u001B[0;32m-> 1151\u001B[0m     \u001B[38;5;28;01mreturn\u001B[39;00m \u001B[43mfit_method\u001B[49m\u001B[43m(\u001B[49m\u001B[43mestimator\u001B[49m\u001B[43m,\u001B[49m\u001B[43m \u001B[49m\u001B[38;5;241;43m*\u001B[39;49m\u001B[43margs\u001B[49m\u001B[43m,\u001B[49m\u001B[43m \u001B[49m\u001B[38;5;241;43m*\u001B[39;49m\u001B[38;5;241;43m*\u001B[39;49m\u001B[43mkwargs\u001B[49m\u001B[43m)\u001B[49m\n",
      "File \u001B[0;32m~/git/CAAFE-Multiple-Tables/vevn/lib/python3.8/site-packages/sklearn/ensemble/_forest.py:456\u001B[0m, in \u001B[0;36mBaseForest.fit\u001B[0;34m(self, X, y, sample_weight)\u001B[0m\n\u001B[1;32m    445\u001B[0m trees \u001B[38;5;241m=\u001B[39m [\n\u001B[1;32m    446\u001B[0m     \u001B[38;5;28mself\u001B[39m\u001B[38;5;241m.\u001B[39m_make_estimator(append\u001B[38;5;241m=\u001B[39m\u001B[38;5;28;01mFalse\u001B[39;00m, random_state\u001B[38;5;241m=\u001B[39mrandom_state)\n\u001B[1;32m    447\u001B[0m     \u001B[38;5;28;01mfor\u001B[39;00m i \u001B[38;5;129;01min\u001B[39;00m \u001B[38;5;28mrange\u001B[39m(n_more_estimators)\n\u001B[1;32m    448\u001B[0m ]\n\u001B[1;32m    450\u001B[0m \u001B[38;5;66;03m# Parallel loop: we prefer the threading backend as the Cython code\u001B[39;00m\n\u001B[1;32m    451\u001B[0m \u001B[38;5;66;03m# for fitting the trees is internally releasing the Python GIL\u001B[39;00m\n\u001B[1;32m    452\u001B[0m \u001B[38;5;66;03m# making threading more efficient than multiprocessing in\u001B[39;00m\n\u001B[1;32m    453\u001B[0m \u001B[38;5;66;03m# that case. However, for joblib 0.12+ we respect any\u001B[39;00m\n\u001B[1;32m    454\u001B[0m \u001B[38;5;66;03m# parallel_backend contexts set at a higher level,\u001B[39;00m\n\u001B[1;32m    455\u001B[0m \u001B[38;5;66;03m# since correctness does not rely on using threads.\u001B[39;00m\n\u001B[0;32m--> 456\u001B[0m trees \u001B[38;5;241m=\u001B[39m \u001B[43mParallel\u001B[49m\u001B[43m(\u001B[49m\n\u001B[1;32m    457\u001B[0m \u001B[43m    \u001B[49m\u001B[43mn_jobs\u001B[49m\u001B[38;5;241;43m=\u001B[39;49m\u001B[38;5;28;43mself\u001B[39;49m\u001B[38;5;241;43m.\u001B[39;49m\u001B[43mn_jobs\u001B[49m\u001B[43m,\u001B[49m\n\u001B[1;32m    458\u001B[0m \u001B[43m    \u001B[49m\u001B[43mverbose\u001B[49m\u001B[38;5;241;43m=\u001B[39;49m\u001B[38;5;28;43mself\u001B[39;49m\u001B[38;5;241;43m.\u001B[39;49m\u001B[43mverbose\u001B[49m\u001B[43m,\u001B[49m\n\u001B[1;32m    459\u001B[0m \u001B[43m    \u001B[49m\u001B[43mprefer\u001B[49m\u001B[38;5;241;43m=\u001B[39;49m\u001B[38;5;124;43m\"\u001B[39;49m\u001B[38;5;124;43mthreads\u001B[39;49m\u001B[38;5;124;43m\"\u001B[39;49m\u001B[43m,\u001B[49m\n\u001B[1;32m    460\u001B[0m \u001B[43m\u001B[49m\u001B[43m)\u001B[49m\u001B[43m(\u001B[49m\n\u001B[1;32m    461\u001B[0m \u001B[43m    \u001B[49m\u001B[43mdelayed\u001B[49m\u001B[43m(\u001B[49m\u001B[43m_parallel_build_trees\u001B[49m\u001B[43m)\u001B[49m\u001B[43m(\u001B[49m\n\u001B[1;32m    462\u001B[0m \u001B[43m        \u001B[49m\u001B[43mt\u001B[49m\u001B[43m,\u001B[49m\n\u001B[1;32m    463\u001B[0m \u001B[43m        \u001B[49m\u001B[38;5;28;43mself\u001B[39;49m\u001B[38;5;241;43m.\u001B[39;49m\u001B[43mbootstrap\u001B[49m\u001B[43m,\u001B[49m\n\u001B[1;32m    464\u001B[0m \u001B[43m        \u001B[49m\u001B[43mX\u001B[49m\u001B[43m,\u001B[49m\n\u001B[1;32m    465\u001B[0m \u001B[43m        \u001B[49m\u001B[43my\u001B[49m\u001B[43m,\u001B[49m\n\u001B[1;32m    466\u001B[0m \u001B[43m        \u001B[49m\u001B[43msample_weight\u001B[49m\u001B[43m,\u001B[49m\n\u001B[1;32m    467\u001B[0m \u001B[43m        \u001B[49m\u001B[43mi\u001B[49m\u001B[43m,\u001B[49m\n\u001B[1;32m    468\u001B[0m \u001B[43m        \u001B[49m\u001B[38;5;28;43mlen\u001B[39;49m\u001B[43m(\u001B[49m\u001B[43mtrees\u001B[49m\u001B[43m)\u001B[49m\u001B[43m,\u001B[49m\n\u001B[1;32m    469\u001B[0m \u001B[43m        \u001B[49m\u001B[43mverbose\u001B[49m\u001B[38;5;241;43m=\u001B[39;49m\u001B[38;5;28;43mself\u001B[39;49m\u001B[38;5;241;43m.\u001B[39;49m\u001B[43mverbose\u001B[49m\u001B[43m,\u001B[49m\n\u001B[1;32m    470\u001B[0m \u001B[43m        \u001B[49m\u001B[43mclass_weight\u001B[49m\u001B[38;5;241;43m=\u001B[39;49m\u001B[38;5;28;43mself\u001B[39;49m\u001B[38;5;241;43m.\u001B[39;49m\u001B[43mclass_weight\u001B[49m\u001B[43m,\u001B[49m\n\u001B[1;32m    471\u001B[0m \u001B[43m        \u001B[49m\u001B[43mn_samples_bootstrap\u001B[49m\u001B[38;5;241;43m=\u001B[39;49m\u001B[43mn_samples_bootstrap\u001B[49m\u001B[43m,\u001B[49m\n\u001B[1;32m    472\u001B[0m \u001B[43m    \u001B[49m\u001B[43m)\u001B[49m\n\u001B[1;32m    473\u001B[0m \u001B[43m    \u001B[49m\u001B[38;5;28;43;01mfor\u001B[39;49;00m\u001B[43m \u001B[49m\u001B[43mi\u001B[49m\u001B[43m,\u001B[49m\u001B[43m \u001B[49m\u001B[43mt\u001B[49m\u001B[43m \u001B[49m\u001B[38;5;129;43;01min\u001B[39;49;00m\u001B[43m \u001B[49m\u001B[38;5;28;43menumerate\u001B[39;49m\u001B[43m(\u001B[49m\u001B[43mtrees\u001B[49m\u001B[43m)\u001B[49m\n\u001B[1;32m    474\u001B[0m \u001B[43m\u001B[49m\u001B[43m)\u001B[49m\n\u001B[1;32m    476\u001B[0m \u001B[38;5;66;03m# Collect newly grown trees\u001B[39;00m\n\u001B[1;32m    477\u001B[0m \u001B[38;5;28mself\u001B[39m\u001B[38;5;241m.\u001B[39mestimators_\u001B[38;5;241m.\u001B[39mextend(trees)\n",
      "File \u001B[0;32m~/git/CAAFE-Multiple-Tables/vevn/lib/python3.8/site-packages/sklearn/utils/parallel.py:65\u001B[0m, in \u001B[0;36mParallel.__call__\u001B[0;34m(self, iterable)\u001B[0m\n\u001B[1;32m     60\u001B[0m config \u001B[38;5;241m=\u001B[39m get_config()\n\u001B[1;32m     61\u001B[0m iterable_with_config \u001B[38;5;241m=\u001B[39m (\n\u001B[1;32m     62\u001B[0m     (_with_config(delayed_func, config), args, kwargs)\n\u001B[1;32m     63\u001B[0m     \u001B[38;5;28;01mfor\u001B[39;00m delayed_func, args, kwargs \u001B[38;5;129;01min\u001B[39;00m iterable\n\u001B[1;32m     64\u001B[0m )\n\u001B[0;32m---> 65\u001B[0m \u001B[38;5;28;01mreturn\u001B[39;00m \u001B[38;5;28;43msuper\u001B[39;49m\u001B[43m(\u001B[49m\u001B[43m)\u001B[49m\u001B[38;5;241;43m.\u001B[39;49m\u001B[38;5;21;43m__call__\u001B[39;49m\u001B[43m(\u001B[49m\u001B[43miterable_with_config\u001B[49m\u001B[43m)\u001B[49m\n",
      "File \u001B[0;32m~/git/CAAFE-Multiple-Tables/vevn/lib/python3.8/site-packages/joblib/parallel.py:1863\u001B[0m, in \u001B[0;36mParallel.__call__\u001B[0;34m(self, iterable)\u001B[0m\n\u001B[1;32m   1861\u001B[0m     output \u001B[38;5;241m=\u001B[39m \u001B[38;5;28mself\u001B[39m\u001B[38;5;241m.\u001B[39m_get_sequential_output(iterable)\n\u001B[1;32m   1862\u001B[0m     \u001B[38;5;28mnext\u001B[39m(output)\n\u001B[0;32m-> 1863\u001B[0m     \u001B[38;5;28;01mreturn\u001B[39;00m output \u001B[38;5;28;01mif\u001B[39;00m \u001B[38;5;28mself\u001B[39m\u001B[38;5;241m.\u001B[39mreturn_generator \u001B[38;5;28;01melse\u001B[39;00m \u001B[38;5;28;43mlist\u001B[39;49m\u001B[43m(\u001B[49m\u001B[43moutput\u001B[49m\u001B[43m)\u001B[49m\n\u001B[1;32m   1865\u001B[0m \u001B[38;5;66;03m# Let's create an ID that uniquely identifies the current call. If the\u001B[39;00m\n\u001B[1;32m   1866\u001B[0m \u001B[38;5;66;03m# call is interrupted early and that the same instance is immediately\u001B[39;00m\n\u001B[1;32m   1867\u001B[0m \u001B[38;5;66;03m# re-used, this id will be used to prevent workers that were\u001B[39;00m\n\u001B[1;32m   1868\u001B[0m \u001B[38;5;66;03m# concurrently finalizing a task from the previous call to run the\u001B[39;00m\n\u001B[1;32m   1869\u001B[0m \u001B[38;5;66;03m# callback.\u001B[39;00m\n\u001B[1;32m   1870\u001B[0m \u001B[38;5;28;01mwith\u001B[39;00m \u001B[38;5;28mself\u001B[39m\u001B[38;5;241m.\u001B[39m_lock:\n",
      "File \u001B[0;32m~/git/CAAFE-Multiple-Tables/vevn/lib/python3.8/site-packages/joblib/parallel.py:1792\u001B[0m, in \u001B[0;36mParallel._get_sequential_output\u001B[0;34m(self, iterable)\u001B[0m\n\u001B[1;32m   1790\u001B[0m \u001B[38;5;28mself\u001B[39m\u001B[38;5;241m.\u001B[39mn_dispatched_batches \u001B[38;5;241m+\u001B[39m\u001B[38;5;241m=\u001B[39m \u001B[38;5;241m1\u001B[39m\n\u001B[1;32m   1791\u001B[0m \u001B[38;5;28mself\u001B[39m\u001B[38;5;241m.\u001B[39mn_dispatched_tasks \u001B[38;5;241m+\u001B[39m\u001B[38;5;241m=\u001B[39m \u001B[38;5;241m1\u001B[39m\n\u001B[0;32m-> 1792\u001B[0m res \u001B[38;5;241m=\u001B[39m \u001B[43mfunc\u001B[49m\u001B[43m(\u001B[49m\u001B[38;5;241;43m*\u001B[39;49m\u001B[43margs\u001B[49m\u001B[43m,\u001B[49m\u001B[43m \u001B[49m\u001B[38;5;241;43m*\u001B[39;49m\u001B[38;5;241;43m*\u001B[39;49m\u001B[43mkwargs\u001B[49m\u001B[43m)\u001B[49m\n\u001B[1;32m   1793\u001B[0m \u001B[38;5;28mself\u001B[39m\u001B[38;5;241m.\u001B[39mn_completed_tasks \u001B[38;5;241m+\u001B[39m\u001B[38;5;241m=\u001B[39m \u001B[38;5;241m1\u001B[39m\n\u001B[1;32m   1794\u001B[0m \u001B[38;5;28mself\u001B[39m\u001B[38;5;241m.\u001B[39mprint_progress()\n",
      "File \u001B[0;32m~/git/CAAFE-Multiple-Tables/vevn/lib/python3.8/site-packages/sklearn/utils/parallel.py:127\u001B[0m, in \u001B[0;36m_FuncWrapper.__call__\u001B[0;34m(self, *args, **kwargs)\u001B[0m\n\u001B[1;32m    125\u001B[0m     config \u001B[38;5;241m=\u001B[39m {}\n\u001B[1;32m    126\u001B[0m \u001B[38;5;28;01mwith\u001B[39;00m config_context(\u001B[38;5;241m*\u001B[39m\u001B[38;5;241m*\u001B[39mconfig):\n\u001B[0;32m--> 127\u001B[0m     \u001B[38;5;28;01mreturn\u001B[39;00m \u001B[38;5;28;43mself\u001B[39;49m\u001B[38;5;241;43m.\u001B[39;49m\u001B[43mfunction\u001B[49m\u001B[43m(\u001B[49m\u001B[38;5;241;43m*\u001B[39;49m\u001B[43margs\u001B[49m\u001B[43m,\u001B[49m\u001B[43m \u001B[49m\u001B[38;5;241;43m*\u001B[39;49m\u001B[38;5;241;43m*\u001B[39;49m\u001B[43mkwargs\u001B[49m\u001B[43m)\u001B[49m\n",
      "File \u001B[0;32m~/git/CAAFE-Multiple-Tables/vevn/lib/python3.8/site-packages/sklearn/ensemble/_forest.py:188\u001B[0m, in \u001B[0;36m_parallel_build_trees\u001B[0;34m(tree, bootstrap, X, y, sample_weight, tree_idx, n_trees, verbose, class_weight, n_samples_bootstrap)\u001B[0m\n\u001B[1;32m    185\u001B[0m     \u001B[38;5;28;01melif\u001B[39;00m class_weight \u001B[38;5;241m==\u001B[39m \u001B[38;5;124m\"\u001B[39m\u001B[38;5;124mbalanced_subsample\u001B[39m\u001B[38;5;124m\"\u001B[39m:\n\u001B[1;32m    186\u001B[0m         curr_sample_weight \u001B[38;5;241m*\u001B[39m\u001B[38;5;241m=\u001B[39m compute_sample_weight(\u001B[38;5;124m\"\u001B[39m\u001B[38;5;124mbalanced\u001B[39m\u001B[38;5;124m\"\u001B[39m, y, indices\u001B[38;5;241m=\u001B[39mindices)\n\u001B[0;32m--> 188\u001B[0m     \u001B[43mtree\u001B[49m\u001B[38;5;241;43m.\u001B[39;49m\u001B[43mfit\u001B[49m\u001B[43m(\u001B[49m\u001B[43mX\u001B[49m\u001B[43m,\u001B[49m\u001B[43m \u001B[49m\u001B[43my\u001B[49m\u001B[43m,\u001B[49m\u001B[43m \u001B[49m\u001B[43msample_weight\u001B[49m\u001B[38;5;241;43m=\u001B[39;49m\u001B[43mcurr_sample_weight\u001B[49m\u001B[43m,\u001B[49m\u001B[43m \u001B[49m\u001B[43mcheck_input\u001B[49m\u001B[38;5;241;43m=\u001B[39;49m\u001B[38;5;28;43;01mFalse\u001B[39;49;00m\u001B[43m)\u001B[49m\n\u001B[1;32m    189\u001B[0m \u001B[38;5;28;01melse\u001B[39;00m:\n\u001B[1;32m    190\u001B[0m     tree\u001B[38;5;241m.\u001B[39mfit(X, y, sample_weight\u001B[38;5;241m=\u001B[39msample_weight, check_input\u001B[38;5;241m=\u001B[39m\u001B[38;5;28;01mFalse\u001B[39;00m)\n",
      "File \u001B[0;32m~/git/CAAFE-Multiple-Tables/vevn/lib/python3.8/site-packages/sklearn/base.py:1151\u001B[0m, in \u001B[0;36m_fit_context.<locals>.decorator.<locals>.wrapper\u001B[0;34m(estimator, *args, **kwargs)\u001B[0m\n\u001B[1;32m   1144\u001B[0m     estimator\u001B[38;5;241m.\u001B[39m_validate_params()\n\u001B[1;32m   1146\u001B[0m \u001B[38;5;28;01mwith\u001B[39;00m config_context(\n\u001B[1;32m   1147\u001B[0m     skip_parameter_validation\u001B[38;5;241m=\u001B[39m(\n\u001B[1;32m   1148\u001B[0m         prefer_skip_nested_validation \u001B[38;5;129;01mor\u001B[39;00m global_skip_validation\n\u001B[1;32m   1149\u001B[0m     )\n\u001B[1;32m   1150\u001B[0m ):\n\u001B[0;32m-> 1151\u001B[0m     \u001B[38;5;28;01mreturn\u001B[39;00m \u001B[43mfit_method\u001B[49m\u001B[43m(\u001B[49m\u001B[43mestimator\u001B[49m\u001B[43m,\u001B[49m\u001B[43m \u001B[49m\u001B[38;5;241;43m*\u001B[39;49m\u001B[43margs\u001B[49m\u001B[43m,\u001B[49m\u001B[43m \u001B[49m\u001B[38;5;241;43m*\u001B[39;49m\u001B[38;5;241;43m*\u001B[39;49m\u001B[43mkwargs\u001B[49m\u001B[43m)\u001B[49m\n",
      "File \u001B[0;32m~/git/CAAFE-Multiple-Tables/vevn/lib/python3.8/site-packages/sklearn/tree/_classes.py:959\u001B[0m, in \u001B[0;36mDecisionTreeClassifier.fit\u001B[0;34m(self, X, y, sample_weight, check_input)\u001B[0m\n\u001B[1;32m    928\u001B[0m \u001B[38;5;129m@_fit_context\u001B[39m(prefer_skip_nested_validation\u001B[38;5;241m=\u001B[39m\u001B[38;5;28;01mTrue\u001B[39;00m)\n\u001B[1;32m    929\u001B[0m \u001B[38;5;28;01mdef\u001B[39;00m \u001B[38;5;21mfit\u001B[39m(\u001B[38;5;28mself\u001B[39m, X, y, sample_weight\u001B[38;5;241m=\u001B[39m\u001B[38;5;28;01mNone\u001B[39;00m, check_input\u001B[38;5;241m=\u001B[39m\u001B[38;5;28;01mTrue\u001B[39;00m):\n\u001B[1;32m    930\u001B[0m \u001B[38;5;250m    \u001B[39m\u001B[38;5;124;03m\"\"\"Build a decision tree classifier from the training set (X, y).\u001B[39;00m\n\u001B[1;32m    931\u001B[0m \n\u001B[1;32m    932\u001B[0m \u001B[38;5;124;03m    Parameters\u001B[39;00m\n\u001B[0;32m   (...)\u001B[0m\n\u001B[1;32m    956\u001B[0m \u001B[38;5;124;03m        Fitted estimator.\u001B[39;00m\n\u001B[1;32m    957\u001B[0m \u001B[38;5;124;03m    \"\"\"\u001B[39;00m\n\u001B[0;32m--> 959\u001B[0m     \u001B[38;5;28;43msuper\u001B[39;49m\u001B[43m(\u001B[49m\u001B[43m)\u001B[49m\u001B[38;5;241;43m.\u001B[39;49m\u001B[43m_fit\u001B[49m\u001B[43m(\u001B[49m\n\u001B[1;32m    960\u001B[0m \u001B[43m        \u001B[49m\u001B[43mX\u001B[49m\u001B[43m,\u001B[49m\n\u001B[1;32m    961\u001B[0m \u001B[43m        \u001B[49m\u001B[43my\u001B[49m\u001B[43m,\u001B[49m\n\u001B[1;32m    962\u001B[0m \u001B[43m        \u001B[49m\u001B[43msample_weight\u001B[49m\u001B[38;5;241;43m=\u001B[39;49m\u001B[43msample_weight\u001B[49m\u001B[43m,\u001B[49m\n\u001B[1;32m    963\u001B[0m \u001B[43m        \u001B[49m\u001B[43mcheck_input\u001B[49m\u001B[38;5;241;43m=\u001B[39;49m\u001B[43mcheck_input\u001B[49m\u001B[43m,\u001B[49m\n\u001B[1;32m    964\u001B[0m \u001B[43m    \u001B[49m\u001B[43m)\u001B[49m\n\u001B[1;32m    965\u001B[0m     \u001B[38;5;28;01mreturn\u001B[39;00m \u001B[38;5;28mself\u001B[39m\n",
      "File \u001B[0;32m~/git/CAAFE-Multiple-Tables/vevn/lib/python3.8/site-packages/sklearn/tree/_classes.py:443\u001B[0m, in \u001B[0;36mBaseDecisionTree._fit\u001B[0;34m(self, X, y, sample_weight, check_input, missing_values_in_feature_mask)\u001B[0m\n\u001B[1;32m    432\u001B[0m \u001B[38;5;28;01melse\u001B[39;00m:\n\u001B[1;32m    433\u001B[0m     builder \u001B[38;5;241m=\u001B[39m BestFirstTreeBuilder(\n\u001B[1;32m    434\u001B[0m         splitter,\n\u001B[1;32m    435\u001B[0m         min_samples_split,\n\u001B[0;32m   (...)\u001B[0m\n\u001B[1;32m    440\u001B[0m         \u001B[38;5;28mself\u001B[39m\u001B[38;5;241m.\u001B[39mmin_impurity_decrease,\n\u001B[1;32m    441\u001B[0m     )\n\u001B[0;32m--> 443\u001B[0m \u001B[43mbuilder\u001B[49m\u001B[38;5;241;43m.\u001B[39;49m\u001B[43mbuild\u001B[49m\u001B[43m(\u001B[49m\u001B[38;5;28;43mself\u001B[39;49m\u001B[38;5;241;43m.\u001B[39;49m\u001B[43mtree_\u001B[49m\u001B[43m,\u001B[49m\u001B[43m \u001B[49m\u001B[43mX\u001B[49m\u001B[43m,\u001B[49m\u001B[43m \u001B[49m\u001B[43my\u001B[49m\u001B[43m,\u001B[49m\u001B[43m \u001B[49m\u001B[43msample_weight\u001B[49m\u001B[43m,\u001B[49m\u001B[43m \u001B[49m\u001B[43mmissing_values_in_feature_mask\u001B[49m\u001B[43m)\u001B[49m\n\u001B[1;32m    445\u001B[0m \u001B[38;5;28;01mif\u001B[39;00m \u001B[38;5;28mself\u001B[39m\u001B[38;5;241m.\u001B[39mn_outputs_ \u001B[38;5;241m==\u001B[39m \u001B[38;5;241m1\u001B[39m \u001B[38;5;129;01mand\u001B[39;00m is_classifier(\u001B[38;5;28mself\u001B[39m):\n\u001B[1;32m    446\u001B[0m     \u001B[38;5;28mself\u001B[39m\u001B[38;5;241m.\u001B[39mn_classes_ \u001B[38;5;241m=\u001B[39m \u001B[38;5;28mself\u001B[39m\u001B[38;5;241m.\u001B[39mn_classes_[\u001B[38;5;241m0\u001B[39m]\n",
      "\u001B[0;31mKeyboardInterrupt\u001B[0m: "
     ]
    }
   ],
   "source": [
    "# Split the data into training and test sets\n",
    "X_train, X_test, y_train, y_test = train_test_split(X_dropped, y_dropped, test_size=0.2, random_state=42)\n",
    "\n",
    "# Initialize the RandomForestClassifier\n",
    "clf = RandomForestClassifier(n_estimators=100, random_state=42)\n",
    "\n",
    "# Train the classifier\n",
    "clf.fit(X_train, y_train)\n",
    "\n",
    "# Make predictions\n",
    "y_pred = clf.predict(X_test)\n",
    "\n",
    "# Calculate accuracy\n",
    "accuracy = accuracy_score(y_test, y_pred)\n",
    "print(\"Accuracy:\", accuracy)"
   ],
   "metadata": {
    "collapsed": false,
    "ExecuteTime": {
     "end_time": "2023-09-07T12:11:11.392757Z",
     "start_time": "2023-09-07T11:52:25.021099Z"
    }
   }
  },
  {
   "cell_type": "code",
   "execution_count": 48,
   "outputs": [
    {
     "data": {
      "text/plain": "Index(['total_price_with_fulfillment', 'students_per_dollar',\n       'average_donation_amount', 'teacher_donor_ratio'],\n      dtype='object')"
     },
     "execution_count": 48,
     "metadata": {},
     "output_type": "execute_result"
    }
   ],
   "source": [
    "X_dropped.columns"
   ],
   "metadata": {
    "collapsed": false,
    "ExecuteTime": {
     "end_time": "2023-09-07T11:37:34.359825Z",
     "start_time": "2023-09-07T11:37:34.308986Z"
    }
   }
  },
  {
   "cell_type": "markdown",
   "source": [
    "# Without FE just main table with feature selection"
   ],
   "metadata": {
    "collapsed": false
   }
  },
  {
   "cell_type": "code",
   "execution_count": 35,
   "outputs": [],
   "source": [
    "merged_df_new = pd.merge(projects_df, outcomes_df, on='projectid', how='inner')"
   ],
   "metadata": {
    "collapsed": false,
    "ExecuteTime": {
     "end_time": "2023-09-07T11:28:35.940843Z",
     "start_time": "2023-09-07T11:28:35.080585Z"
    }
   }
  },
  {
   "cell_type": "code",
   "execution_count": 37,
   "outputs": [
    {
     "name": "stdout",
     "output_type": "stream",
     "text": [
      "Accuracy: 0.90465746355309\n"
     ]
    }
   ],
   "source": [
    "from sklearn.ensemble import RandomForestClassifier\n",
    "from sklearn.model_selection import train_test_split\n",
    "from sklearn.metrics import accuracy_score\n",
    "from sklearn.preprocessing import LabelEncoder\n",
    "\n",
    "# Assuming merged_df is your main DataFrame after merging projects_df and outcomes_df\n",
    "# Convert 'is_exciting' to numerical labels for machine learning\n",
    "label_encoder = LabelEncoder()\n",
    "merged_df_new['is_exciting'] = label_encoder.fit_transform(merged_df_new['is_exciting'].fillna(''))\n",
    "\n",
    "# Select some existing features (before feature engineering) for demonstration\n",
    "# We'll consider 'students_reached' and 'total_price_excluding_optional_support' for this example\n",
    "features = ['students_reached', 'total_price_excluding_optional_support']\n",
    "\n",
    "# Drop rows with missing values in feature columns\n",
    "X_dropped = merged_df_new[features].dropna()\n",
    "\n",
    "# Drop corresponding rows in target variable\n",
    "y_dropped = merged_df_new['is_exciting'].loc[X_dropped.index]\n",
    "\n",
    "# Split the data into training and test sets\n",
    "X_train, X_test, y_train, y_test = train_test_split(X_dropped, y_dropped, test_size=0.2, random_state=42)\n",
    "\n",
    "# Initialize the RandomForestClassifier\n",
    "clf = RandomForestClassifier(n_estimators=100, random_state=42)\n",
    "\n",
    "# Train the classifier\n",
    "clf.fit(X_train, y_train)\n",
    "\n",
    "# Make predictions\n",
    "y_pred = clf.predict(X_test)\n",
    "\n",
    "# Calculate accuracy\n",
    "accuracy = accuracy_score(y_test, y_pred)\n",
    "print(f\"Accuracy: {accuracy}\")\n"
   ],
   "metadata": {
    "collapsed": false,
    "ExecuteTime": {
     "end_time": "2023-09-07T11:31:19.598241Z",
     "start_time": "2023-09-07T11:31:08.331878Z"
    }
   }
  },
  {
   "cell_type": "markdown",
   "source": [
    "# Without FE just main table without feature selection"
   ],
   "metadata": {
    "collapsed": false
   }
  },
  {
   "cell_type": "code",
   "execution_count": 42,
   "outputs": [],
   "source": [
    "merged_df_new_new = pd.merge(projects_df, outcomes_df, on='projectid', how='inner')"
   ],
   "metadata": {
    "collapsed": false,
    "ExecuteTime": {
     "end_time": "2023-09-07T11:34:39.403751Z",
     "start_time": "2023-09-07T11:34:37.761431Z"
    }
   }
  },
  {
   "cell_type": "code",
   "execution_count": 44,
   "outputs": [
    {
     "name": "stdout",
     "output_type": "stream",
     "text": [
      "Accuracy: 0.9824506424318395\n"
     ]
    }
   ],
   "source": [
    "# Assuming merged_df is your main DataFrame after merging projects_df and outcomes_df\n",
    "# Convert 'is_exciting' to numerical labels for machine learning\n",
    "label_encoder = LabelEncoder()\n",
    "merged_df_new_new['is_exciting'] = label_encoder.fit_transform(merged_df_new_new['is_exciting'].fillna(''))\n",
    "\n",
    "# Drop rows with missing values across all columns\n",
    "clean_df = merged_df_new_new.dropna()\n",
    "\n",
    "# Filter only numerical features\n",
    "numerical_features = clean_df.select_dtypes(include=['float64', 'int64']).columns\n",
    "\n",
    "# Separate features and target variable\n",
    "X_dropped = clean_df[numerical_features]  # Keep only numerical features\n",
    "X_dropped = X_dropped.drop(columns=['is_exciting'])\n",
    "y_dropped = clean_df['is_exciting']\n",
    "\n",
    "# Split the data into training and test sets\n",
    "X_train, X_test, y_train, y_test = train_test_split(X_dropped, y_dropped, test_size=0.2, random_state=42)\n",
    "\n",
    "# Initialize the RandomForestClassifier\n",
    "clf = RandomForestClassifier(n_estimators=100, random_state=42)\n",
    "\n",
    "# Train the classifier\n",
    "clf.fit(X_train, y_train)\n",
    "\n",
    "# Make predictions\n",
    "y_pred = clf.predict(X_test)\n",
    "\n",
    "# Calculate accuracy\n",
    "accuracy = accuracy_score(y_test, y_pred)\n",
    "print(f\"Accuracy: {accuracy}\")"
   ],
   "metadata": {
    "collapsed": false,
    "ExecuteTime": {
     "end_time": "2023-09-07T11:35:08.915725Z",
     "start_time": "2023-09-07T11:35:05.460264Z"
    }
   }
  },
  {
   "cell_type": "code",
   "execution_count": 45,
   "outputs": [
    {
     "data": {
      "text/plain": "Index(['Unnamed: 0_x', 'school_ncesid', 'school_latitude', 'school_longitude',\n       'school_zip', 'fulfillment_labor_materials',\n       'total_price_excluding_optional_support',\n       'total_price_including_optional_support', 'students_reached',\n       'Unnamed: 0_y', 'is_exciting', 'great_messages_proportion',\n       'teacher_referred_count', 'non_teacher_referred_count'],\n      dtype='object')"
     },
     "execution_count": 45,
     "metadata": {},
     "output_type": "execute_result"
    }
   ],
   "source": [
    "numerical_features"
   ],
   "metadata": {
    "collapsed": false,
    "ExecuteTime": {
     "end_time": "2023-09-07T11:35:55.350635Z",
     "start_time": "2023-09-07T11:35:55.237967Z"
    }
   }
  },
  {
   "cell_type": "code",
   "execution_count": null,
   "outputs": [],
   "source": [],
   "metadata": {
    "collapsed": false
   }
  }
 ],
 "metadata": {
  "kernelspec": {
   "display_name": "Python 3",
   "language": "python",
   "name": "python3"
  },
  "language_info": {
   "codemirror_mode": {
    "name": "ipython",
    "version": 2
   },
   "file_extension": ".py",
   "mimetype": "text/x-python",
   "name": "python",
   "nbconvert_exporter": "python",
   "pygments_lexer": "ipython2",
   "version": "2.7.6"
  }
 },
 "nbformat": 4,
 "nbformat_minor": 0
}
