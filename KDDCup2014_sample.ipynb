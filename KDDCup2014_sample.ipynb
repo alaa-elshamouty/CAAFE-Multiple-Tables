{
 "cells": [
  {
   "cell_type": "code",
   "execution_count": 9,
   "outputs": [
    {
     "name": "stdout",
     "output_type": "stream",
     "text": [
      "mkdir: /Users/alaaelshamouty/.kaggle: File exists\r\n"
     ]
    }
   ],
   "source": [
    "! mkdir ~/.kaggle\n",
    "! touch ~/.kaggle/kaggle.json\n",
    "kaggle_api_token = {\"username\":\"alaaelsham\",\"key\":\"d6d73b3d388e1e7597e8326ce3fe567c\"}\n",
    "import json\n",
    "with open('/Users/alaaelshamouty/.kaggle/kaggle.json', 'w') as file:\n",
    "    json.dump(kaggle_api_token, file)\n",
    "\n",
    "! chmod 600 ~/.kaggle/kaggle.json\n",
    "! mkdir datasets_kaggle/"
   ],
   "metadata": {
    "collapsed": false,
    "ExecuteTime": {
     "end_time": "2023-09-06T15:12:01.653132Z",
     "start_time": "2023-09-06T15:12:01.026503Z"
    }
   }
  },
  {
   "cell_type": "code",
   "execution_count": 11,
   "outputs": [
    {
     "name": "stdout",
     "output_type": "stream",
     "text": [
      "Downloading kdd-cup-2014-predicting-excitement-at-donors-choose.zip to /Users/alaaelshamouty/git/CAAFE-Multiple-Tables\r\n",
      "100%|███████████████████████████████████████▉| 926M/926M [02:36<00:00, 5.90MB/s]\r\n",
      "100%|████████████████████████████████████████| 926M/926M [02:36<00:00, 6.21MB/s]\r\n",
      "Archive:  kdd-cup-2014-predicting-excitement-at-donors-choose.zip\r\n",
      "  inflating: datasets_kaggle/kdd-cup-2014-predicting-excitement-at-donors-choose/donations.csv.zip  \r\n",
      "  inflating: datasets_kaggle/kdd-cup-2014-predicting-excitement-at-donors-choose/essays.csv.zip  \r\n",
      "  inflating: datasets_kaggle/kdd-cup-2014-predicting-excitement-at-donors-choose/outcomes.csv.zip  \r\n",
      "  inflating: datasets_kaggle/kdd-cup-2014-predicting-excitement-at-donors-choose/projects.csv.zip  \r\n",
      "  inflating: datasets_kaggle/kdd-cup-2014-predicting-excitement-at-donors-choose/resources.csv.zip  \r\n",
      "  inflating: datasets_kaggle/kdd-cup-2014-predicting-excitement-at-donors-choose/sampleSubmission.csv.zip  \r\n"
     ]
    }
   ],
   "source": [
    "name = \"kdd-cup-2014-predicting-excitement-at-donors-choose\"\n",
    "! kaggle competitions download -c {name}\n",
    "!mkdir datasets_kaggle/{name}\n",
    "!unzip {name}.zip -d datasets_kaggle/{name}"
   ],
   "metadata": {
    "collapsed": false,
    "ExecuteTime": {
     "end_time": "2023-09-06T15:16:02.048377Z",
     "start_time": "2023-09-06T15:13:09.614517Z"
    }
   }
  },
  {
   "cell_type": "code",
   "execution_count": 14,
   "outputs": [
    {
     "name": "stdout",
     "output_type": "stream",
     "text": [
      "unzipping essays.csv.zip\n",
      "unzipping sampleSubmission.csv.zip\n",
      "unzipping projects.csv.zip\n",
      "unzipping resources.csv.zip\n",
      "unzipping outcomes.csv.zip\n",
      "unzipping donations.csv.zip\n"
     ]
    }
   ],
   "source": [
    "import zipfile\n",
    "import os\n",
    "\n",
    "for file in os.listdir(f\"datasets_kaggle/{name}/\"):\n",
    "    if \".zip\" in file:\n",
    "        print(f\"unzipping {file}\")\n",
    "        with zipfile.ZipFile(f\"datasets_kaggle/{name}/{file}\", 'r') as zip_ref:\n",
    "            zip_ref.extractall(f\"datasets_kaggle/{name}/\")\n"
   ],
   "metadata": {
    "collapsed": false,
    "ExecuteTime": {
     "end_time": "2023-09-06T15:26:35.232266Z",
     "start_time": "2023-09-06T15:26:06.574385Z"
    }
   }
  },
  {
   "cell_type": "code",
   "execution_count": 1,
   "outputs": [
    {
     "name": "stdout",
     "output_type": "stream",
     "text": [
      "samplingdonations\n",
      "samplingresources\n",
      "samplingoutcomes\n",
      "samplingessays\n",
      "samplingprojects\n"
     ]
    }
   ],
   "source": [
    "import pandas as pd\n",
    "import os\n",
    "name = \"kdd-cup-2014-predicting-excitement-at-donors-choose\"\n",
    "#datasets_stats = pd.DataFrame(columns=[\"table_name\",\"nr_rows\",\"nr_features\"])\n",
    "for file in os.listdir(f\"datasets_kaggle/{name}/\"):\n",
    "    if \".csv\" in file and not \".zip\" in file and not \"sample\" in file:\n",
    "        filename = file.split(\".\")\n",
    "        print(f\"sampling{filename[0]}\")\n",
    "        df = pd.read_csv(f\"datasets_kaggle/{name}/{file}\")\n",
    "        df_new = df.sample(50, replace=False, random_state=1)\n",
    "        df_new.to_csv(f\"datasets_kaggle/{name}/{filename[0]}_sample_new.csv\")\n"
   ],
   "metadata": {
    "collapsed": false,
    "ExecuteTime": {
     "end_time": "2023-09-07T14:09:12.678943Z",
     "start_time": "2023-09-07T14:07:02.175247Z"
    }
   }
  },
  {
   "cell_type": "code",
   "execution_count": 1,
   "outputs": [],
   "source": [
    "import pandas as pd\n",
    "name = \"kdd-cup-2014-predicting-excitement-at-donors-choose\"\n",
    "# loading all dataframes\n",
    "donations_df = pd.read_csv(f'datasets_kaggle/{name}/donations.csv')\n",
    "essays_df = pd.read_csv(f'datasets_kaggle/{name}/essays_sample.csv')\n",
    "outcomes_df = pd.read_csv(f'datasets_kaggle/{name}/outcomes.csv')\n",
    "projects_df = pd.read_csv(f'datasets_kaggle/{name}/projects.csv')\n",
    "resources_df = pd.read_csv(f'datasets_kaggle/{name}/resources_sample.csv')\n",
    "sample_submission_df = pd.read_csv(f'datasets_kaggle/{name}/sampleSubmission.csv')"
   ],
   "metadata": {
    "collapsed": false,
    "ExecuteTime": {
     "end_time": "2023-09-07T13:44:41.857078Z",
     "start_time": "2023-09-07T13:43:20.245023Z"
    }
   }
  },
  {
   "cell_type": "code",
   "execution_count": 2,
   "outputs": [
    {
     "name": "stdout",
     "output_type": "stream",
     "text": [
      "664098\n"
     ]
    }
   ],
   "source": [
    "print(len(projects_df))"
   ],
   "metadata": {
    "collapsed": false,
    "ExecuteTime": {
     "end_time": "2023-09-07T13:45:00.690409Z",
     "start_time": "2023-09-07T13:45:00.682830Z"
    }
   }
  },
  {
   "cell_type": "markdown",
   "source": [
    "# Applying Jimmy's Code"
   ],
   "metadata": {
    "collapsed": false
   }
  },
  {
   "cell_type": "code",
   "execution_count": 3,
   "outputs": [],
   "source": [
    "# Joining projects with outcomes\n",
    "# Usefulness: This forms the base dataframe where we can add more features that will help in predicting the \"is_exciting\" label.\n",
    "# Input samples: 'projectid' from projects_df: ['dd291f97dc6b32b7c9f052794efc4929', '673d26170aeaf573d6e4c7565a65915b', '8f0e3bc89dc5304f71f167201242fa5e']\n",
    "#                'projectid' from outcomes_df: ['c6bc4035d501cc99ab78072d8544e3e4', 'cc7e0ca72280d0b08846ec7f15549406', 'a75a074419bcd15f3c22a8dcddd5f7cb']\n",
    "merged_df = pd.merge(projects_df, outcomes_df, on='projectid', how='inner')"
   ],
   "metadata": {
    "collapsed": false,
    "ExecuteTime": {
     "end_time": "2023-09-07T13:45:29.983810Z",
     "start_time": "2023-09-07T13:45:23.924874Z"
    }
   }
  },
  {
   "cell_type": "code",
   "execution_count": 4,
   "outputs": [
    {
     "data": {
      "text/plain": "619326"
     },
     "execution_count": 4,
     "metadata": {},
     "output_type": "execute_result"
    }
   ],
   "source": [
    "len(merged_df)"
   ],
   "metadata": {
    "collapsed": false,
    "ExecuteTime": {
     "end_time": "2023-09-07T13:45:48.869897Z",
     "start_time": "2023-09-07T13:45:48.767843Z"
    }
   }
  },
  {
   "cell_type": "code",
   "execution_count": 6,
   "outputs": [],
   "source": [
    "#### Feature 1: `total_price_with_fulfillment`\n",
    "#Calculate the total price of a project including the `fulfillment_labor_materials`.\n",
    "\n",
    "# Feature: Total price of the project including fulfillment labor materials\n",
    "# Usefulness: The total financial burden of a project, including hidden costs, may influence its chances of being considered \"exciting.\"\n",
    "# Input samples: 'total_price_excluding_optional_support': [2148.49, 227.37, 188.80], 'fulfillment_labor_materials': [30.0, 35.0, 35.0]\n",
    "merged_df['total_price_with_fulfillment'] = merged_df['total_price_excluding_optional_support'] + merged_df['fulfillment_labor_materials']\n",
    "\n",
    "#### Feature 2: `students_per_dollar`\n",
    "#Calculate the number of students reached per dollar spent on the project.\n",
    "\n",
    "# Feature: Number of students reached per dollar\n",
    "# Usefulness: Projects that impact more students per dollar may be more \"exciting\" due to their cost-effectiveness.\n",
    "# Input samples: 'students_reached': [125.0, 62.0, 80.0], 'total_price_with_fulfillment': [2178.49, 262.37, 223.80]\n",
    "merged_df['students_per_dollar'] = merged_df['students_reached'] / merged_df['total_price_with_fulfillment']\n",
    "\n",
    "#### Drop Columns\n",
    "#We will drop the columns that are already transformed or do not add much information to the predictive model.\n",
    "\n",
    "# Explanation: Dropping columns that have been transformed or are not directly useful for predicting 'is_exciting'\n",
    "#merged_df.drop(columns=['Unnamed: 0_x', 'Unnamed: 0_y', 'total_price_excluding_optional_support', 'fulfillment_labor_materials'], inplace=True)\n",
    "merged_df.drop(columns=['total_price_excluding_optional_support', 'fulfillment_labor_materials'], inplace=True)"
   ],
   "metadata": {
    "collapsed": false,
    "ExecuteTime": {
     "end_time": "2023-09-07T13:47:19.556655Z",
     "start_time": "2023-09-07T13:47:18.244966Z"
    }
   }
  },
  {
   "cell_type": "code",
   "execution_count": 8,
   "outputs": [
    {
     "data": {
      "text/plain": "0    474.36\n1    263.24\n2    315.09\n3    262.94\n4    543.41\nName: total_price_with_fulfillment, dtype: float64"
     },
     "execution_count": 8,
     "metadata": {},
     "output_type": "execute_result"
    }
   ],
   "source": [
    "merged_df['total_price_with_fulfillment'].head()"
   ],
   "metadata": {
    "collapsed": false,
    "ExecuteTime": {
     "end_time": "2023-09-07T13:47:57.794327Z",
     "start_time": "2023-09-07T13:47:57.725942Z"
    }
   }
  },
  {
   "cell_type": "code",
   "execution_count": 13,
   "outputs": [],
   "source": [
    "# Joining merged_df with donations_df on projectid\n",
    "# Usefulness: This allows us to add features based on the donations each project received, which could be a strong indicator of whether a project is \"exciting.\"\n",
    "# Input samples: 'projectid' from merged_df: ['195d03cc23a38b2990dff4b81e774f28', '3c884a0ee29b7dea836b887d60d79c08', 'ce4c4ef12a619490c211f9534797796b']\n",
    "#                'projectid' from donations_df: ['54622a1620e0047229ab1a466f2092dd', 'be8d90d9c4c8f4cbe8e75b39a835f46a', 'b5a6a8c2df3137d3be7f1b0d03f7ffed']\n",
    "merged_with_donations_df = pd.merge(merged_df, donations_df, on='projectid', how='left')\n",
    "\n",
    "#### Feature 3: `average_donation_amount`\n",
    "#Calculate the average donation amount received by each project.\n",
    "\n",
    "# Feature: Average donation amount for each project\n",
    "# Usefulness: A higher average donation amount could indicate that donors find the project more compelling or \"exciting.\"\n",
    "# Input samples: 'donation_total': [17.65, 25.00, 100.00]\n",
    "merged_with_donations_df['average_donation_amount'] = merged_with_donations_df.groupby('projectid')['donation_total'].transform('mean')\n",
    "\n",
    "#### Feature 4: `donor_teacher_ratio`\n",
    "# Calculate the ratio of teacher to non-teacher donors for each project.\n",
    "\n",
    "# Feature: Ratio of teacher donors to non-teacher donors for each project\n",
    "# Usefulness: A higher ratio of teacher donors could indicate that the project is more \"exciting\" to educators, which may be a good sign.\n",
    "# Input samples: 'is_teacher_acct': ['t', 'f', 'f']\n",
    "merged_with_donations_df['is_teacher'] = merged_with_donations_df['is_teacher_acct'].apply(lambda x: 1 if x == 't' else 0)\n",
    "merged_with_donations_df['teacher_donor_ratio'] = merged_with_donations_df.groupby('projectid')['is_teacher'].transform('mean')\n",
    "\n",
    "#### Drop Columns\n",
    "# We'll drop columns that have been used for aggregations or transformations and won't be directly useful for the model.\n",
    "\n",
    "# Explanation: Dropping columns that have been used for aggregation or transformation\n",
    "#merged_with_donations_df.drop(columns=['donation_total', 'is_teacher_acct', 'is_teacher'], inplace=True)"
   ],
   "metadata": {
    "collapsed": false,
    "ExecuteTime": {
     "end_time": "2023-09-07T13:52:50.978548Z",
     "start_time": "2023-09-07T13:51:59.372494Z"
    }
   }
  },
  {
   "cell_type": "code",
   "execution_count": 15,
   "outputs": [
    {
     "data": {
      "text/plain": "                          projectid                    teacher_acctid  \\\n0  62526d85d2a1818432d03d600969e99c  ebc7c90b6c92a069432e0714b8d93dfd   \n1  62526d85d2a1818432d03d600969e99c  ebc7c90b6c92a069432e0714b8d93dfd   \n2  62526d85d2a1818432d03d600969e99c  ebc7c90b6c92a069432e0714b8d93dfd   \n3  62526d85d2a1818432d03d600969e99c  ebc7c90b6c92a069432e0714b8d93dfd   \n4  62526d85d2a1818432d03d600969e99c  ebc7c90b6c92a069432e0714b8d93dfd   \n\n                           schoolid  school_ncesid  school_latitude  \\\n0  5aca9711ff0e4b37db48701f46f73036   1.713710e+11        41.972419   \n1  5aca9711ff0e4b37db48701f46f73036   1.713710e+11        41.972419   \n2  5aca9711ff0e4b37db48701f46f73036   1.713710e+11        41.972419   \n3  5aca9711ff0e4b37db48701f46f73036   1.713710e+11        41.972419   \n4  5aca9711ff0e4b37db48701f46f73036   1.713710e+11        41.972419   \n\n   school_longitude school_city school_state  school_zip school_metro  ...  \\\n0        -88.174597    Bartlett           IL     60103.0     suburban  ...   \n1        -88.174597    Bartlett           IL     60103.0     suburban  ...   \n2        -88.174597    Bartlett           IL     60103.0     suburban  ...   \n3        -88.174597    Bartlett           IL     60103.0     suburban  ...   \n4        -88.174597    Bartlett           IL     60103.0     suburban  ...   \n\n  payment_included_acct_credit payment_included_campaign_gift_card  \\\n0                            t                                   f   \n1                            t                                   f   \n2                            f                                   f   \n3                            t                                   f   \n4                            f                                   t   \n\n  payment_included_web_purchased_gift_card payment_was_promo_matched  \\\n0                                        f                         f   \n1                                        f                         f   \n2                                        t                         f   \n3                                        f                         f   \n4                                        f                         f   \n\n  via_giving_page for_honoree  \\\n0               f           f   \n1               f           f   \n2               f           f   \n3               f           f   \n4               f           f   \n\n                                    donation_message average_donation_amount  \\\n0                                                NaN                   87.13   \n1  HSBC is proud to support this important educat...                   87.13   \n2  I live in Bartlett and have 2 kids. I hope thi...                   87.13   \n3                                      All the best!                   87.13   \n4  I gave because I wanted to support kids in the...                   87.13   \n\n  is_teacher teacher_donor_ratio  \n0          0                 0.0  \n1          0                 0.0  \n2          0                 0.0  \n3          0                 0.0  \n4          0                 0.0  \n\n[5 rows x 69 columns]",
      "text/html": "<div>\n<style scoped>\n    .dataframe tbody tr th:only-of-type {\n        vertical-align: middle;\n    }\n\n    .dataframe tbody tr th {\n        vertical-align: top;\n    }\n\n    .dataframe thead th {\n        text-align: right;\n    }\n</style>\n<table border=\"1\" class=\"dataframe\">\n  <thead>\n    <tr style=\"text-align: right;\">\n      <th></th>\n      <th>projectid</th>\n      <th>teacher_acctid</th>\n      <th>schoolid</th>\n      <th>school_ncesid</th>\n      <th>school_latitude</th>\n      <th>school_longitude</th>\n      <th>school_city</th>\n      <th>school_state</th>\n      <th>school_zip</th>\n      <th>school_metro</th>\n      <th>...</th>\n      <th>payment_included_acct_credit</th>\n      <th>payment_included_campaign_gift_card</th>\n      <th>payment_included_web_purchased_gift_card</th>\n      <th>payment_was_promo_matched</th>\n      <th>via_giving_page</th>\n      <th>for_honoree</th>\n      <th>donation_message</th>\n      <th>average_donation_amount</th>\n      <th>is_teacher</th>\n      <th>teacher_donor_ratio</th>\n    </tr>\n  </thead>\n  <tbody>\n    <tr>\n      <th>0</th>\n      <td>62526d85d2a1818432d03d600969e99c</td>\n      <td>ebc7c90b6c92a069432e0714b8d93dfd</td>\n      <td>5aca9711ff0e4b37db48701f46f73036</td>\n      <td>1.713710e+11</td>\n      <td>41.972419</td>\n      <td>-88.174597</td>\n      <td>Bartlett</td>\n      <td>IL</td>\n      <td>60103.0</td>\n      <td>suburban</td>\n      <td>...</td>\n      <td>t</td>\n      <td>f</td>\n      <td>f</td>\n      <td>f</td>\n      <td>f</td>\n      <td>f</td>\n      <td>NaN</td>\n      <td>87.13</td>\n      <td>0</td>\n      <td>0.0</td>\n    </tr>\n    <tr>\n      <th>1</th>\n      <td>62526d85d2a1818432d03d600969e99c</td>\n      <td>ebc7c90b6c92a069432e0714b8d93dfd</td>\n      <td>5aca9711ff0e4b37db48701f46f73036</td>\n      <td>1.713710e+11</td>\n      <td>41.972419</td>\n      <td>-88.174597</td>\n      <td>Bartlett</td>\n      <td>IL</td>\n      <td>60103.0</td>\n      <td>suburban</td>\n      <td>...</td>\n      <td>t</td>\n      <td>f</td>\n      <td>f</td>\n      <td>f</td>\n      <td>f</td>\n      <td>f</td>\n      <td>HSBC is proud to support this important educat...</td>\n      <td>87.13</td>\n      <td>0</td>\n      <td>0.0</td>\n    </tr>\n    <tr>\n      <th>2</th>\n      <td>62526d85d2a1818432d03d600969e99c</td>\n      <td>ebc7c90b6c92a069432e0714b8d93dfd</td>\n      <td>5aca9711ff0e4b37db48701f46f73036</td>\n      <td>1.713710e+11</td>\n      <td>41.972419</td>\n      <td>-88.174597</td>\n      <td>Bartlett</td>\n      <td>IL</td>\n      <td>60103.0</td>\n      <td>suburban</td>\n      <td>...</td>\n      <td>f</td>\n      <td>f</td>\n      <td>t</td>\n      <td>f</td>\n      <td>f</td>\n      <td>f</td>\n      <td>I live in Bartlett and have 2 kids. I hope thi...</td>\n      <td>87.13</td>\n      <td>0</td>\n      <td>0.0</td>\n    </tr>\n    <tr>\n      <th>3</th>\n      <td>62526d85d2a1818432d03d600969e99c</td>\n      <td>ebc7c90b6c92a069432e0714b8d93dfd</td>\n      <td>5aca9711ff0e4b37db48701f46f73036</td>\n      <td>1.713710e+11</td>\n      <td>41.972419</td>\n      <td>-88.174597</td>\n      <td>Bartlett</td>\n      <td>IL</td>\n      <td>60103.0</td>\n      <td>suburban</td>\n      <td>...</td>\n      <td>t</td>\n      <td>f</td>\n      <td>f</td>\n      <td>f</td>\n      <td>f</td>\n      <td>f</td>\n      <td>All the best!</td>\n      <td>87.13</td>\n      <td>0</td>\n      <td>0.0</td>\n    </tr>\n    <tr>\n      <th>4</th>\n      <td>62526d85d2a1818432d03d600969e99c</td>\n      <td>ebc7c90b6c92a069432e0714b8d93dfd</td>\n      <td>5aca9711ff0e4b37db48701f46f73036</td>\n      <td>1.713710e+11</td>\n      <td>41.972419</td>\n      <td>-88.174597</td>\n      <td>Bartlett</td>\n      <td>IL</td>\n      <td>60103.0</td>\n      <td>suburban</td>\n      <td>...</td>\n      <td>f</td>\n      <td>t</td>\n      <td>f</td>\n      <td>f</td>\n      <td>f</td>\n      <td>f</td>\n      <td>I gave because I wanted to support kids in the...</td>\n      <td>87.13</td>\n      <td>0</td>\n      <td>0.0</td>\n    </tr>\n  </tbody>\n</table>\n<p>5 rows × 69 columns</p>\n</div>"
     },
     "execution_count": 15,
     "metadata": {},
     "output_type": "execute_result"
    }
   ],
   "source": [
    "merged_with_donations_df.head()"
   ],
   "metadata": {
    "collapsed": false,
    "ExecuteTime": {
     "end_time": "2023-09-07T13:53:36.375550Z",
     "start_time": "2023-09-07T13:53:36.347646Z"
    }
   }
  },
  {
   "cell_type": "code",
   "execution_count": 10,
   "outputs": [],
   "source": [
    "from sklearn.ensemble import RandomForestClassifier\n",
    "from sklearn.model_selection import train_test_split\n",
    "from sklearn.metrics import accuracy_score\n",
    "from sklearn.preprocessing import LabelEncoder\n",
    "\n",
    "# Assume merged_with_donations_sampled_df is the final DataFrame after feature engineering\n",
    "# Convert 'is_exciting' to numerical labels\n",
    "label_encoder = LabelEncoder()\n",
    "merged_with_donations_df['is_exciting'] = label_encoder.fit_transform(merged_with_donations_df['is_exciting'])\n",
    "\n",
    "#exclude projects that are in the sample submission file as they are the test set\n",
    "# Create a set of project IDs that are in the sample_submission_df\n",
    "submission_project_ids = set(sample_submission_df['projectid'])\n",
    "\n",
    "# Filter projects_df to only include projects that are in the sample_submission_df\n",
    "train_df = merged_with_donations_df[~merged_with_donations_df['projectid'].isin(submission_project_ids)]\n",
    "\n",
    "# Select features and target variable\n",
    "features = ['total_price_with_fulfillment', 'students_per_dollar', 'average_donation_amount', 'teacher_donor_ratio']\n",
    "X = train_df[features]\n",
    "y = train_df['is_exciting']\n",
    "\n",
    "# Drop rows with missing values in feature columns\n",
    "X_dropped = X.dropna()\n",
    "# Drop corresponding rows in target variable\n",
    "y_dropped = y.loc[X_dropped.index]\n"
   ],
   "metadata": {
    "collapsed": false,
    "ExecuteTime": {
     "end_time": "2023-09-07T13:05:34.275046Z",
     "start_time": "2023-09-07T13:05:20.448728Z"
    }
   }
  },
  {
   "cell_type": "code",
   "execution_count": 11,
   "outputs": [
    {
     "data": {
      "text/plain": "760780"
     },
     "execution_count": 11,
     "metadata": {},
     "output_type": "execute_result"
    }
   ],
   "source": [
    "X_dropped.isna().sum(axis=1)\n",
    "len(X_dropped)"
   ],
   "metadata": {
    "collapsed": false,
    "ExecuteTime": {
     "end_time": "2023-09-07T13:06:08.935825Z",
     "start_time": "2023-09-07T13:06:08.146167Z"
    }
   }
  },
  {
   "cell_type": "code",
   "execution_count": 12,
   "outputs": [
    {
     "name": "stdout",
     "output_type": "stream",
     "text": [
      "Accuracy: 0.9809669023896527\n"
     ]
    }
   ],
   "source": [
    "# Split the data into training and test sets\n",
    "X_train, X_test, y_train, y_test = train_test_split(X_dropped, y_dropped, test_size=0.2, random_state=42)\n",
    "\n",
    "# Initialize the RandomForestClassifier\n",
    "clf = RandomForestClassifier(n_estimators=100, random_state=42)\n",
    "\n",
    "# Train the classifier\n",
    "clf.fit(X_train, y_train)\n",
    "\n",
    "# Make predictions\n",
    "y_pred = clf.predict(X_test)\n",
    "\n",
    "# Calculate accuracy\n",
    "accuracy = accuracy_score(y_test, y_pred)\n",
    "print(\"Accuracy:\", accuracy)"
   ],
   "metadata": {
    "collapsed": false,
    "ExecuteTime": {
     "end_time": "2023-09-07T13:14:13.486550Z",
     "start_time": "2023-09-07T13:06:17.926201Z"
    }
   }
  },
  {
   "cell_type": "code",
   "execution_count": 13,
   "outputs": [
    {
     "data": {
      "text/plain": "Index(['total_price_with_fulfillment', 'students_per_dollar',\n       'average_donation_amount', 'teacher_donor_ratio'],\n      dtype='object')"
     },
     "execution_count": 13,
     "metadata": {},
     "output_type": "execute_result"
    }
   ],
   "source": [
    "X_dropped.columns"
   ],
   "metadata": {
    "collapsed": false,
    "ExecuteTime": {
     "end_time": "2023-09-07T13:14:29.242174Z",
     "start_time": "2023-09-07T13:14:29.195928Z"
    }
   }
  },
  {
   "cell_type": "code",
   "execution_count": 51,
   "outputs": [
    {
     "data": {
      "text/plain": "251"
     },
     "execution_count": 51,
     "metadata": {},
     "output_type": "execute_result"
    }
   ],
   "source": [
    "y_pred.sum()"
   ],
   "metadata": {
    "collapsed": false,
    "ExecuteTime": {
     "end_time": "2023-09-07T12:13:14.264673Z",
     "start_time": "2023-09-07T12:13:14.158923Z"
    }
   }
  },
  {
   "cell_type": "markdown",
   "source": [
    "## For Kaggle submission"
   ],
   "metadata": {
    "collapsed": false
   }
  },
  {
   "cell_type": "code",
   "execution_count": 14,
   "outputs": [],
   "source": [
    "filtered_projects_df = projects_df[projects_df['projectid'].isin(submission_project_ids)]"
   ],
   "metadata": {
    "collapsed": false,
    "ExecuteTime": {
     "end_time": "2023-09-07T13:14:38.289523Z",
     "start_time": "2023-09-07T13:14:37.092802Z"
    }
   }
  },
  {
   "cell_type": "code",
   "execution_count": 19,
   "outputs": [
    {
     "data": {
      "text/plain": "                              projectid                    teacher_acctid  \\\n0      316ed8fb3b81402ff6ac8f721bb31192  42d43fa6f37314365d08692e08680973   \n1      90de744e368a7e4883223ca49318ae30  864eb466462bf704bf7a16a585ef296a   \n2      32943bb1063267de6ed19fc0ceb4b9a7  37f85135259ece793213aca9d8765542   \n3      bb18f409abda2f264d5acda8cab577a9  2133fc46f951f1e7d60645b0f9e48a6c   \n4      24761b686e18e5eace634607acbcc19f  867ff478a63f5457eaf41049536c47cd   \n...                                 ...                               ...   \n44767  f1e36a9d4d356db460977ea131449839  4f3ac5dc5df47d942efbcaecfb5534b4   \n44768  a63cdaaac3835e0582befd9c77f6a3f5  36410d7f061c234a1f86c4cee56d8b44   \n44769  ac73fd0822adb3104c110e4e3fe3498d  feae8b241b3a114bed92504de9b97402   \n44770  3a09c88cbfe67aaedc451d813d157aed  f94787826148f11768ac9d63990fd552   \n44771  16bf6f4c3c37da1cb2e92ee8ce834510  cbb3d04b7673fecb481cab7107c53ff2   \n\n                               schoolid  school_ncesid  school_latitude  \\\n0      c0e6ce89b244764085691a1b8e28cb81   6.362701e+10        36.576340   \n1      d711e47810900c96f26a5d0be30c446d   4.837020e+11        32.911179   \n2      665c3613013ba0a66e3a2a26b89f1b68   4.103270e+11        45.166039   \n3      4f12c3fa0c1cce823c7ba1df57e90ccb   3.600153e+11        40.641727   \n4      10179fd362d7b8cf0e89baa1ca3025bb   6.227100e+10        34.043939   \n...                                 ...            ...              ...   \n44767  cd957305d272ad4dbcca706b27774ec3   1.921630e+11        42.673767   \n44768  e540f61e9d98935f163a049abeaaab26   1.201440e+11        28.499796   \n44769  5a0db5dd6211cb9660cbda3b97fa76a1   6.227100e+10        34.099316   \n44770  707bbed4ee89431ede35cf0c4f4644f8            NaN        38.695172   \n44771  10179fd362d7b8cf0e89baa1ca3025bb   6.227100e+10        34.043939   \n\n       school_longitude  school_city school_state  school_zip school_metro  \\\n0           -119.608713        Selma           CA     93662.0          NaN   \n1            -96.723640       Dallas           TX     75243.0        urban   \n2           -122.414576       Colton           OR     97017.0        rural   \n3            -73.965655     Brooklyn           NY     11226.0        urban   \n4           -118.288371  Los Angeles           CA     90006.0        urban   \n...                 ...          ...          ...         ...          ...   \n44767        -91.902444      Oelwein           IA     50662.0          NaN   \n44768        -81.296813      Orlando           FL     32822.0     suburban   \n44769       -118.352051  Los Angeles           CA     90046.0        urban   \n44770        -90.245537  Saint Louis           MO     63120.0        urban   \n44771       -118.288371  Los Angeles           CA     90006.0        urban   \n\n       ... resource_type    poverty_level    grade_level  \\\n0      ...         Books  highest poverty     Grades 6-8   \n1      ...         Books  highest poverty  Grades PreK-2   \n2      ...    Technology     high poverty  Grades PreK-2   \n3      ...         Books  highest poverty     Grades 3-5   \n4      ...         Other  highest poverty  Grades PreK-2   \n...    ...           ...              ...            ...   \n44767  ...         Books  highest poverty  Grades PreK-2   \n44768  ...         Books  highest poverty     Grades 3-5   \n44769  ...      Supplies     high poverty  Grades PreK-2   \n44770  ...      Supplies  highest poverty  Grades PreK-2   \n44771  ...      Supplies  highest poverty     Grades 3-5   \n\n      total_price_including_optional_support students_reached  \\\n0                                     653.89             32.0   \n1                                     348.79             22.0   \n2                                     506.93             17.0   \n3                                     677.73             12.0   \n4                                     480.47             24.0   \n...                                      ...              ...   \n44767                                 232.81             21.0   \n44768                                 289.19             30.0   \n44769                                 532.41             20.0   \n44770                                 195.85             20.0   \n44771                                 236.78             21.0   \n\n      eligible_double_your_impact_match eligible_almost_home_match  \\\n0                                     f                          f   \n1                                     f                          f   \n2                                     f                          f   \n3                                     f                          f   \n4                                     f                          f   \n...                                 ...                        ...   \n44767                                 f                          f   \n44768                                 f                          f   \n44769                                 f                          f   \n44770                                 f                          f   \n44771                                 t                          f   \n\n      date_posted total_price_with_fulfillment students_per_dollar  \n0      2014-05-12                       585.81            0.054625  \n1      2014-05-12                       326.47            0.067388  \n2      2014-05-11                       460.89            0.036885  \n3      2014-05-11                       606.07            0.019800  \n4      2014-05-11                       438.40            0.054745  \n...           ...                          ...                 ...  \n44767  2014-01-01                       227.89            0.092150  \n44768  2014-01-01                       275.81            0.108771  \n44769  2014-01-01                       482.55            0.041446  \n44770  2014-01-01                       196.47            0.101797  \n44771  2014-01-01                       231.26            0.090807  \n\n[44772 rows x 35 columns]",
      "text/html": "<div>\n<style scoped>\n    .dataframe tbody tr th:only-of-type {\n        vertical-align: middle;\n    }\n\n    .dataframe tbody tr th {\n        vertical-align: top;\n    }\n\n    .dataframe thead th {\n        text-align: right;\n    }\n</style>\n<table border=\"1\" class=\"dataframe\">\n  <thead>\n    <tr style=\"text-align: right;\">\n      <th></th>\n      <th>projectid</th>\n      <th>teacher_acctid</th>\n      <th>schoolid</th>\n      <th>school_ncesid</th>\n      <th>school_latitude</th>\n      <th>school_longitude</th>\n      <th>school_city</th>\n      <th>school_state</th>\n      <th>school_zip</th>\n      <th>school_metro</th>\n      <th>...</th>\n      <th>resource_type</th>\n      <th>poverty_level</th>\n      <th>grade_level</th>\n      <th>total_price_including_optional_support</th>\n      <th>students_reached</th>\n      <th>eligible_double_your_impact_match</th>\n      <th>eligible_almost_home_match</th>\n      <th>date_posted</th>\n      <th>total_price_with_fulfillment</th>\n      <th>students_per_dollar</th>\n    </tr>\n  </thead>\n  <tbody>\n    <tr>\n      <th>0</th>\n      <td>316ed8fb3b81402ff6ac8f721bb31192</td>\n      <td>42d43fa6f37314365d08692e08680973</td>\n      <td>c0e6ce89b244764085691a1b8e28cb81</td>\n      <td>6.362701e+10</td>\n      <td>36.576340</td>\n      <td>-119.608713</td>\n      <td>Selma</td>\n      <td>CA</td>\n      <td>93662.0</td>\n      <td>NaN</td>\n      <td>...</td>\n      <td>Books</td>\n      <td>highest poverty</td>\n      <td>Grades 6-8</td>\n      <td>653.89</td>\n      <td>32.0</td>\n      <td>f</td>\n      <td>f</td>\n      <td>2014-05-12</td>\n      <td>585.81</td>\n      <td>0.054625</td>\n    </tr>\n    <tr>\n      <th>1</th>\n      <td>90de744e368a7e4883223ca49318ae30</td>\n      <td>864eb466462bf704bf7a16a585ef296a</td>\n      <td>d711e47810900c96f26a5d0be30c446d</td>\n      <td>4.837020e+11</td>\n      <td>32.911179</td>\n      <td>-96.723640</td>\n      <td>Dallas</td>\n      <td>TX</td>\n      <td>75243.0</td>\n      <td>urban</td>\n      <td>...</td>\n      <td>Books</td>\n      <td>highest poverty</td>\n      <td>Grades PreK-2</td>\n      <td>348.79</td>\n      <td>22.0</td>\n      <td>f</td>\n      <td>f</td>\n      <td>2014-05-12</td>\n      <td>326.47</td>\n      <td>0.067388</td>\n    </tr>\n    <tr>\n      <th>2</th>\n      <td>32943bb1063267de6ed19fc0ceb4b9a7</td>\n      <td>37f85135259ece793213aca9d8765542</td>\n      <td>665c3613013ba0a66e3a2a26b89f1b68</td>\n      <td>4.103270e+11</td>\n      <td>45.166039</td>\n      <td>-122.414576</td>\n      <td>Colton</td>\n      <td>OR</td>\n      <td>97017.0</td>\n      <td>rural</td>\n      <td>...</td>\n      <td>Technology</td>\n      <td>high poverty</td>\n      <td>Grades PreK-2</td>\n      <td>506.93</td>\n      <td>17.0</td>\n      <td>f</td>\n      <td>f</td>\n      <td>2014-05-11</td>\n      <td>460.89</td>\n      <td>0.036885</td>\n    </tr>\n    <tr>\n      <th>3</th>\n      <td>bb18f409abda2f264d5acda8cab577a9</td>\n      <td>2133fc46f951f1e7d60645b0f9e48a6c</td>\n      <td>4f12c3fa0c1cce823c7ba1df57e90ccb</td>\n      <td>3.600153e+11</td>\n      <td>40.641727</td>\n      <td>-73.965655</td>\n      <td>Brooklyn</td>\n      <td>NY</td>\n      <td>11226.0</td>\n      <td>urban</td>\n      <td>...</td>\n      <td>Books</td>\n      <td>highest poverty</td>\n      <td>Grades 3-5</td>\n      <td>677.73</td>\n      <td>12.0</td>\n      <td>f</td>\n      <td>f</td>\n      <td>2014-05-11</td>\n      <td>606.07</td>\n      <td>0.019800</td>\n    </tr>\n    <tr>\n      <th>4</th>\n      <td>24761b686e18e5eace634607acbcc19f</td>\n      <td>867ff478a63f5457eaf41049536c47cd</td>\n      <td>10179fd362d7b8cf0e89baa1ca3025bb</td>\n      <td>6.227100e+10</td>\n      <td>34.043939</td>\n      <td>-118.288371</td>\n      <td>Los Angeles</td>\n      <td>CA</td>\n      <td>90006.0</td>\n      <td>urban</td>\n      <td>...</td>\n      <td>Other</td>\n      <td>highest poverty</td>\n      <td>Grades PreK-2</td>\n      <td>480.47</td>\n      <td>24.0</td>\n      <td>f</td>\n      <td>f</td>\n      <td>2014-05-11</td>\n      <td>438.40</td>\n      <td>0.054745</td>\n    </tr>\n    <tr>\n      <th>...</th>\n      <td>...</td>\n      <td>...</td>\n      <td>...</td>\n      <td>...</td>\n      <td>...</td>\n      <td>...</td>\n      <td>...</td>\n      <td>...</td>\n      <td>...</td>\n      <td>...</td>\n      <td>...</td>\n      <td>...</td>\n      <td>...</td>\n      <td>...</td>\n      <td>...</td>\n      <td>...</td>\n      <td>...</td>\n      <td>...</td>\n      <td>...</td>\n      <td>...</td>\n      <td>...</td>\n    </tr>\n    <tr>\n      <th>44767</th>\n      <td>f1e36a9d4d356db460977ea131449839</td>\n      <td>4f3ac5dc5df47d942efbcaecfb5534b4</td>\n      <td>cd957305d272ad4dbcca706b27774ec3</td>\n      <td>1.921630e+11</td>\n      <td>42.673767</td>\n      <td>-91.902444</td>\n      <td>Oelwein</td>\n      <td>IA</td>\n      <td>50662.0</td>\n      <td>NaN</td>\n      <td>...</td>\n      <td>Books</td>\n      <td>highest poverty</td>\n      <td>Grades PreK-2</td>\n      <td>232.81</td>\n      <td>21.0</td>\n      <td>f</td>\n      <td>f</td>\n      <td>2014-01-01</td>\n      <td>227.89</td>\n      <td>0.092150</td>\n    </tr>\n    <tr>\n      <th>44768</th>\n      <td>a63cdaaac3835e0582befd9c77f6a3f5</td>\n      <td>36410d7f061c234a1f86c4cee56d8b44</td>\n      <td>e540f61e9d98935f163a049abeaaab26</td>\n      <td>1.201440e+11</td>\n      <td>28.499796</td>\n      <td>-81.296813</td>\n      <td>Orlando</td>\n      <td>FL</td>\n      <td>32822.0</td>\n      <td>suburban</td>\n      <td>...</td>\n      <td>Books</td>\n      <td>highest poverty</td>\n      <td>Grades 3-5</td>\n      <td>289.19</td>\n      <td>30.0</td>\n      <td>f</td>\n      <td>f</td>\n      <td>2014-01-01</td>\n      <td>275.81</td>\n      <td>0.108771</td>\n    </tr>\n    <tr>\n      <th>44769</th>\n      <td>ac73fd0822adb3104c110e4e3fe3498d</td>\n      <td>feae8b241b3a114bed92504de9b97402</td>\n      <td>5a0db5dd6211cb9660cbda3b97fa76a1</td>\n      <td>6.227100e+10</td>\n      <td>34.099316</td>\n      <td>-118.352051</td>\n      <td>Los Angeles</td>\n      <td>CA</td>\n      <td>90046.0</td>\n      <td>urban</td>\n      <td>...</td>\n      <td>Supplies</td>\n      <td>high poverty</td>\n      <td>Grades PreK-2</td>\n      <td>532.41</td>\n      <td>20.0</td>\n      <td>f</td>\n      <td>f</td>\n      <td>2014-01-01</td>\n      <td>482.55</td>\n      <td>0.041446</td>\n    </tr>\n    <tr>\n      <th>44770</th>\n      <td>3a09c88cbfe67aaedc451d813d157aed</td>\n      <td>f94787826148f11768ac9d63990fd552</td>\n      <td>707bbed4ee89431ede35cf0c4f4644f8</td>\n      <td>NaN</td>\n      <td>38.695172</td>\n      <td>-90.245537</td>\n      <td>Saint Louis</td>\n      <td>MO</td>\n      <td>63120.0</td>\n      <td>urban</td>\n      <td>...</td>\n      <td>Supplies</td>\n      <td>highest poverty</td>\n      <td>Grades PreK-2</td>\n      <td>195.85</td>\n      <td>20.0</td>\n      <td>f</td>\n      <td>f</td>\n      <td>2014-01-01</td>\n      <td>196.47</td>\n      <td>0.101797</td>\n    </tr>\n    <tr>\n      <th>44771</th>\n      <td>16bf6f4c3c37da1cb2e92ee8ce834510</td>\n      <td>cbb3d04b7673fecb481cab7107c53ff2</td>\n      <td>10179fd362d7b8cf0e89baa1ca3025bb</td>\n      <td>6.227100e+10</td>\n      <td>34.043939</td>\n      <td>-118.288371</td>\n      <td>Los Angeles</td>\n      <td>CA</td>\n      <td>90006.0</td>\n      <td>urban</td>\n      <td>...</td>\n      <td>Supplies</td>\n      <td>highest poverty</td>\n      <td>Grades 3-5</td>\n      <td>236.78</td>\n      <td>21.0</td>\n      <td>t</td>\n      <td>f</td>\n      <td>2014-01-01</td>\n      <td>231.26</td>\n      <td>0.090807</td>\n    </tr>\n  </tbody>\n</table>\n<p>44772 rows × 35 columns</p>\n</div>"
     },
     "execution_count": 19,
     "metadata": {},
     "output_type": "execute_result"
    }
   ],
   "source": [
    "filtered_projects_df"
   ],
   "metadata": {
    "collapsed": false,
    "ExecuteTime": {
     "end_time": "2023-09-07T13:16:25.379035Z",
     "start_time": "2023-09-07T13:16:25.167842Z"
    }
   }
  },
  {
   "cell_type": "code",
   "execution_count": 18,
   "outputs": [
    {
     "ename": "KeyError",
     "evalue": "'total_price_excluding_optional_support'",
     "output_type": "error",
     "traceback": [
      "\u001B[0;31m---------------------------------------------------------------------------\u001B[0m",
      "\u001B[0;31mKeyError\u001B[0m                                  Traceback (most recent call last)",
      "File \u001B[0;32m~/git/CAAFE-Multiple-Tables/vevn/lib/python3.8/site-packages/pandas/core/indexes/base.py:3653\u001B[0m, in \u001B[0;36mIndex.get_loc\u001B[0;34m(self, key)\u001B[0m\n\u001B[1;32m   3652\u001B[0m \u001B[38;5;28;01mtry\u001B[39;00m:\n\u001B[0;32m-> 3653\u001B[0m     \u001B[38;5;28;01mreturn\u001B[39;00m \u001B[38;5;28;43mself\u001B[39;49m\u001B[38;5;241;43m.\u001B[39;49m\u001B[43m_engine\u001B[49m\u001B[38;5;241;43m.\u001B[39;49m\u001B[43mget_loc\u001B[49m\u001B[43m(\u001B[49m\u001B[43mcasted_key\u001B[49m\u001B[43m)\u001B[49m\n\u001B[1;32m   3654\u001B[0m \u001B[38;5;28;01mexcept\u001B[39;00m \u001B[38;5;167;01mKeyError\u001B[39;00m \u001B[38;5;28;01mas\u001B[39;00m err:\n",
      "File \u001B[0;32m~/git/CAAFE-Multiple-Tables/vevn/lib/python3.8/site-packages/pandas/_libs/index.pyx:147\u001B[0m, in \u001B[0;36mpandas._libs.index.IndexEngine.get_loc\u001B[0;34m()\u001B[0m\n",
      "File \u001B[0;32m~/git/CAAFE-Multiple-Tables/vevn/lib/python3.8/site-packages/pandas/_libs/index.pyx:176\u001B[0m, in \u001B[0;36mpandas._libs.index.IndexEngine.get_loc\u001B[0;34m()\u001B[0m\n",
      "File \u001B[0;32mpandas/_libs/hashtable_class_helper.pxi:7080\u001B[0m, in \u001B[0;36mpandas._libs.hashtable.PyObjectHashTable.get_item\u001B[0;34m()\u001B[0m\n",
      "File \u001B[0;32mpandas/_libs/hashtable_class_helper.pxi:7088\u001B[0m, in \u001B[0;36mpandas._libs.hashtable.PyObjectHashTable.get_item\u001B[0;34m()\u001B[0m\n",
      "\u001B[0;31mKeyError\u001B[0m: 'total_price_excluding_optional_support'",
      "\nThe above exception was the direct cause of the following exception:\n",
      "\u001B[0;31mKeyError\u001B[0m                                  Traceback (most recent call last)",
      "Cell \u001B[0;32mIn[18], line 7\u001B[0m\n\u001B[1;32m      1\u001B[0m \u001B[38;5;66;03m#### Feature 1: `total_price_with_fulfillment`\u001B[39;00m\n\u001B[1;32m      2\u001B[0m \u001B[38;5;66;03m#Calculate the total price of a project including the `fulfillment_labor_materials`.\u001B[39;00m\n\u001B[1;32m      3\u001B[0m \n\u001B[1;32m      4\u001B[0m \u001B[38;5;66;03m# Feature: Total price of the project including fulfillment labor materials\u001B[39;00m\n\u001B[1;32m      5\u001B[0m \u001B[38;5;66;03m# Usefulness: The total financial burden of a project, including hidden costs, may influence its chances of being considered \"exciting.\"\u001B[39;00m\n\u001B[1;32m      6\u001B[0m \u001B[38;5;66;03m# Input samples: 'total_price_excluding_optional_support': [2148.49, 227.37, 188.80], 'fulfillment_labor_materials': [30.0, 35.0, 35.0]\u001B[39;00m\n\u001B[0;32m----> 7\u001B[0m filtered_projects_df[\u001B[38;5;124m'\u001B[39m\u001B[38;5;124mtotal_price_with_fulfillment\u001B[39m\u001B[38;5;124m'\u001B[39m] \u001B[38;5;241m=\u001B[39m \u001B[43mfiltered_projects_df\u001B[49m\u001B[43m[\u001B[49m\u001B[38;5;124;43m'\u001B[39;49m\u001B[38;5;124;43mtotal_price_excluding_optional_support\u001B[39;49m\u001B[38;5;124;43m'\u001B[39;49m\u001B[43m]\u001B[49m \u001B[38;5;241m+\u001B[39m filtered_projects_df[\u001B[38;5;124m'\u001B[39m\u001B[38;5;124mfulfillment_labor_materials\u001B[39m\u001B[38;5;124m'\u001B[39m]\n\u001B[1;32m      9\u001B[0m \u001B[38;5;66;03m#### Feature 2: `students_per_dollar`\u001B[39;00m\n\u001B[1;32m     10\u001B[0m \u001B[38;5;66;03m#Calculate the number of students reached per dollar spent on the project.\u001B[39;00m\n\u001B[1;32m     11\u001B[0m \n\u001B[1;32m     12\u001B[0m \u001B[38;5;66;03m# Feature: Number of students reached per dollar\u001B[39;00m\n\u001B[1;32m     13\u001B[0m \u001B[38;5;66;03m# Usefulness: Projects that impact more students per dollar may be more \"exciting\" due to their cost-effectiveness.\u001B[39;00m\n\u001B[1;32m     14\u001B[0m \u001B[38;5;66;03m# Input samples: 'students_reached': [125.0, 62.0, 80.0], 'total_price_with_fulfillment': [2178.49, 262.37, 223.80]\u001B[39;00m\n\u001B[1;32m     15\u001B[0m filtered_projects_df[\u001B[38;5;124m'\u001B[39m\u001B[38;5;124mstudents_per_dollar\u001B[39m\u001B[38;5;124m'\u001B[39m] \u001B[38;5;241m=\u001B[39m filtered_projects_df[\u001B[38;5;124m'\u001B[39m\u001B[38;5;124mstudents_reached\u001B[39m\u001B[38;5;124m'\u001B[39m] \u001B[38;5;241m/\u001B[39m filtered_projects_df[\u001B[38;5;124m'\u001B[39m\u001B[38;5;124mtotal_price_with_fulfillment\u001B[39m\u001B[38;5;124m'\u001B[39m]\n",
      "File \u001B[0;32m~/git/CAAFE-Multiple-Tables/vevn/lib/python3.8/site-packages/pandas/core/frame.py:3761\u001B[0m, in \u001B[0;36mDataFrame.__getitem__\u001B[0;34m(self, key)\u001B[0m\n\u001B[1;32m   3759\u001B[0m \u001B[38;5;28;01mif\u001B[39;00m \u001B[38;5;28mself\u001B[39m\u001B[38;5;241m.\u001B[39mcolumns\u001B[38;5;241m.\u001B[39mnlevels \u001B[38;5;241m>\u001B[39m \u001B[38;5;241m1\u001B[39m:\n\u001B[1;32m   3760\u001B[0m     \u001B[38;5;28;01mreturn\u001B[39;00m \u001B[38;5;28mself\u001B[39m\u001B[38;5;241m.\u001B[39m_getitem_multilevel(key)\n\u001B[0;32m-> 3761\u001B[0m indexer \u001B[38;5;241m=\u001B[39m \u001B[38;5;28;43mself\u001B[39;49m\u001B[38;5;241;43m.\u001B[39;49m\u001B[43mcolumns\u001B[49m\u001B[38;5;241;43m.\u001B[39;49m\u001B[43mget_loc\u001B[49m\u001B[43m(\u001B[49m\u001B[43mkey\u001B[49m\u001B[43m)\u001B[49m\n\u001B[1;32m   3762\u001B[0m \u001B[38;5;28;01mif\u001B[39;00m is_integer(indexer):\n\u001B[1;32m   3763\u001B[0m     indexer \u001B[38;5;241m=\u001B[39m [indexer]\n",
      "File \u001B[0;32m~/git/CAAFE-Multiple-Tables/vevn/lib/python3.8/site-packages/pandas/core/indexes/base.py:3655\u001B[0m, in \u001B[0;36mIndex.get_loc\u001B[0;34m(self, key)\u001B[0m\n\u001B[1;32m   3653\u001B[0m     \u001B[38;5;28;01mreturn\u001B[39;00m \u001B[38;5;28mself\u001B[39m\u001B[38;5;241m.\u001B[39m_engine\u001B[38;5;241m.\u001B[39mget_loc(casted_key)\n\u001B[1;32m   3654\u001B[0m \u001B[38;5;28;01mexcept\u001B[39;00m \u001B[38;5;167;01mKeyError\u001B[39;00m \u001B[38;5;28;01mas\u001B[39;00m err:\n\u001B[0;32m-> 3655\u001B[0m     \u001B[38;5;28;01mraise\u001B[39;00m \u001B[38;5;167;01mKeyError\u001B[39;00m(key) \u001B[38;5;28;01mfrom\u001B[39;00m \u001B[38;5;21;01merr\u001B[39;00m\n\u001B[1;32m   3656\u001B[0m \u001B[38;5;28;01mexcept\u001B[39;00m \u001B[38;5;167;01mTypeError\u001B[39;00m:\n\u001B[1;32m   3657\u001B[0m     \u001B[38;5;66;03m# If we have a listlike key, _check_indexing_error will raise\u001B[39;00m\n\u001B[1;32m   3658\u001B[0m     \u001B[38;5;66;03m#  InvalidIndexError. Otherwise we fall through and re-raise\u001B[39;00m\n\u001B[1;32m   3659\u001B[0m     \u001B[38;5;66;03m#  the TypeError.\u001B[39;00m\n\u001B[1;32m   3660\u001B[0m     \u001B[38;5;28mself\u001B[39m\u001B[38;5;241m.\u001B[39m_check_indexing_error(key)\n",
      "\u001B[0;31mKeyError\u001B[0m: 'total_price_excluding_optional_support'"
     ]
    }
   ],
   "source": [
    "#### Feature 1: `total_price_with_fulfillment`\n",
    "#Calculate the total price of a project including the `fulfillment_labor_materials`.\n",
    "\n",
    "# Feature: Total price of the project including fulfillment labor materials\n",
    "# Usefulness: The total financial burden of a project, including hidden costs, may influence its chances of being considered \"exciting.\"\n",
    "# Input samples: 'total_price_excluding_optional_support': [2148.49, 227.37, 188.80], 'fulfillment_labor_materials': [30.0, 35.0, 35.0]\n",
    "filtered_projects_df['total_price_with_fulfillment'] = filtered_projects_df['total_price_excluding_optional_support'] + filtered_projects_df['fulfillment_labor_materials']\n",
    "\n",
    "#### Feature 2: `students_per_dollar`\n",
    "#Calculate the number of students reached per dollar spent on the project.\n",
    "\n",
    "# Feature: Number of students reached per dollar\n",
    "# Usefulness: Projects that impact more students per dollar may be more \"exciting\" due to their cost-effectiveness.\n",
    "# Input samples: 'students_reached': [125.0, 62.0, 80.0], 'total_price_with_fulfillment': [2178.49, 262.37, 223.80]\n",
    "filtered_projects_df['students_per_dollar'] = filtered_projects_df['students_reached'] / filtered_projects_df['total_price_with_fulfillment']\n",
    "\n",
    "#### Drop Columns\n",
    "#We will drop the columns that are already transformed or do not add much information to the predictive model.\n",
    "\n",
    "# Explanation: Dropping columns that have been transformed or are not directly useful for predicting 'is_exciting'\n",
    "#merged_df.drop(columns=['Unnamed: 0_x', 'Unnamed: 0_y', 'total_price_excluding_optional_support', 'fulfillment_labor_materials'], inplace=True)\n",
    "filtered_projects_df.drop(columns=['total_price_excluding_optional_support', 'fulfillment_labor_materials'], inplace=True)"
   ],
   "metadata": {
    "collapsed": false,
    "ExecuteTime": {
     "end_time": "2023-09-07T13:16:11.459591Z",
     "start_time": "2023-09-07T13:16:08.295237Z"
    }
   }
  },
  {
   "cell_type": "code",
   "execution_count": 30,
   "outputs": [
    {
     "data": {
      "text/plain": "0        316ed8fb3b81402ff6ac8f721bb31192\n1        90de744e368a7e4883223ca49318ae30\n2        32943bb1063267de6ed19fc0ceb4b9a7\n3        bb18f409abda2f264d5acda8cab577a9\n4        24761b686e18e5eace634607acbcc19f\n                       ...               \n44767    f1e36a9d4d356db460977ea131449839\n44768    a63cdaaac3835e0582befd9c77f6a3f5\n44769    ac73fd0822adb3104c110e4e3fe3498d\n44770    3a09c88cbfe67aaedc451d813d157aed\n44771    16bf6f4c3c37da1cb2e92ee8ce834510\nName: projectid, Length: 44772, dtype: object"
     },
     "execution_count": 30,
     "metadata": {},
     "output_type": "execute_result"
    }
   ],
   "source": [
    "filtered_projects_df.projectid"
   ],
   "metadata": {
    "collapsed": false,
    "ExecuteTime": {
     "end_time": "2023-09-07T13:26:24.512367Z",
     "start_time": "2023-09-07T13:26:24.413003Z"
    }
   }
  },
  {
   "cell_type": "code",
   "execution_count": 26,
   "outputs": [],
   "source": [
    "donations_full_df = pd.read_csv(f'datasets_kaggle/{name}/donations.csv')"
   ],
   "metadata": {
    "collapsed": false,
    "ExecuteTime": {
     "end_time": "2023-09-07T13:23:36.600482Z",
     "start_time": "2023-09-07T13:22:23.004049Z"
    }
   }
  },
  {
   "cell_type": "code",
   "execution_count": 52,
   "outputs": [
    {
     "data": {
      "text/plain": "0          False\n1          False\n2          False\n3          False\n4          False\n           ...  \n3097984    False\n3097985    False\n3097986    False\n3097987    False\n3097988    False\nName: projectid, Length: 3097989, dtype: bool"
     },
     "execution_count": 52,
     "metadata": {},
     "output_type": "execute_result"
    }
   ],
   "source": [
    "donations_full_df.projectid.isin(filtered_projects_df)"
   ],
   "metadata": {
    "collapsed": false,
    "ExecuteTime": {
     "end_time": "2023-09-07T13:41:05.337009Z",
     "start_time": "2023-09-07T13:41:04.757395Z"
    }
   }
  },
  {
   "cell_type": "code",
   "execution_count": 51,
   "outputs": [
    {
     "data": {
      "text/plain": "                              projectid                    teacher_acctid  \\\n0      316ed8fb3b81402ff6ac8f721bb31192  42d43fa6f37314365d08692e08680973   \n1      90de744e368a7e4883223ca49318ae30  864eb466462bf704bf7a16a585ef296a   \n2      32943bb1063267de6ed19fc0ceb4b9a7  37f85135259ece793213aca9d8765542   \n3      bb18f409abda2f264d5acda8cab577a9  2133fc46f951f1e7d60645b0f9e48a6c   \n4      24761b686e18e5eace634607acbcc19f  867ff478a63f5457eaf41049536c47cd   \n...                                 ...                               ...   \n44767  f1e36a9d4d356db460977ea131449839  4f3ac5dc5df47d942efbcaecfb5534b4   \n44768  a63cdaaac3835e0582befd9c77f6a3f5  36410d7f061c234a1f86c4cee56d8b44   \n44769  ac73fd0822adb3104c110e4e3fe3498d  feae8b241b3a114bed92504de9b97402   \n44770  3a09c88cbfe67aaedc451d813d157aed  f94787826148f11768ac9d63990fd552   \n44771  16bf6f4c3c37da1cb2e92ee8ce834510  cbb3d04b7673fecb481cab7107c53ff2   \n\n                               schoolid  school_ncesid  school_latitude  \\\n0      c0e6ce89b244764085691a1b8e28cb81   6.362701e+10        36.576340   \n1      d711e47810900c96f26a5d0be30c446d   4.837020e+11        32.911179   \n2      665c3613013ba0a66e3a2a26b89f1b68   4.103270e+11        45.166039   \n3      4f12c3fa0c1cce823c7ba1df57e90ccb   3.600153e+11        40.641727   \n4      10179fd362d7b8cf0e89baa1ca3025bb   6.227100e+10        34.043939   \n...                                 ...            ...              ...   \n44767  cd957305d272ad4dbcca706b27774ec3   1.921630e+11        42.673767   \n44768  e540f61e9d98935f163a049abeaaab26   1.201440e+11        28.499796   \n44769  5a0db5dd6211cb9660cbda3b97fa76a1   6.227100e+10        34.099316   \n44770  707bbed4ee89431ede35cf0c4f4644f8            NaN        38.695172   \n44771  10179fd362d7b8cf0e89baa1ca3025bb   6.227100e+10        34.043939   \n\n       school_longitude  school_city school_state  school_zip school_metro  \\\n0           -119.608713        Selma           CA     93662.0          NaN   \n1            -96.723640       Dallas           TX     75243.0        urban   \n2           -122.414576       Colton           OR     97017.0        rural   \n3            -73.965655     Brooklyn           NY     11226.0        urban   \n4           -118.288371  Los Angeles           CA     90006.0        urban   \n...                 ...          ...          ...         ...          ...   \n44767        -91.902444      Oelwein           IA     50662.0          NaN   \n44768        -81.296813      Orlando           FL     32822.0     suburban   \n44769       -118.352051  Los Angeles           CA     90046.0        urban   \n44770        -90.245537  Saint Louis           MO     63120.0        urban   \n44771       -118.288371  Los Angeles           CA     90006.0        urban   \n\n       ... dollar_amount donation_included_optional_support payment_method  \\\n0      ...           NaN                                NaN            NaN   \n1      ...           NaN                                NaN            NaN   \n2      ...           NaN                                NaN            NaN   \n3      ...           NaN                                NaN            NaN   \n4      ...           NaN                                NaN            NaN   \n...    ...           ...                                ...            ...   \n44767  ...           NaN                                NaN            NaN   \n44768  ...           NaN                                NaN            NaN   \n44769  ...           NaN                                NaN            NaN   \n44770  ...           NaN                                NaN            NaN   \n44771  ...           NaN                                NaN            NaN   \n\n      payment_included_acct_credit payment_included_campaign_gift_card  \\\n0                              NaN                                 NaN   \n1                              NaN                                 NaN   \n2                              NaN                                 NaN   \n3                              NaN                                 NaN   \n4                              NaN                                 NaN   \n...                            ...                                 ...   \n44767                          NaN                                 NaN   \n44768                          NaN                                 NaN   \n44769                          NaN                                 NaN   \n44770                          NaN                                 NaN   \n44771                          NaN                                 NaN   \n\n      payment_included_web_purchased_gift_card payment_was_promo_matched  \\\n0                                          NaN                       NaN   \n1                                          NaN                       NaN   \n2                                          NaN                       NaN   \n3                                          NaN                       NaN   \n4                                          NaN                       NaN   \n...                                        ...                       ...   \n44767                                      NaN                       NaN   \n44768                                      NaN                       NaN   \n44769                                      NaN                       NaN   \n44770                                      NaN                       NaN   \n44771                                      NaN                       NaN   \n\n      via_giving_page for_honoree donation_message  \n0                 NaN         NaN              NaN  \n1                 NaN         NaN              NaN  \n2                 NaN         NaN              NaN  \n3                 NaN         NaN              NaN  \n4                 NaN         NaN              NaN  \n...               ...         ...              ...  \n44767             NaN         NaN              NaN  \n44768             NaN         NaN              NaN  \n44769             NaN         NaN              NaN  \n44770             NaN         NaN              NaN  \n44771             NaN         NaN              NaN  \n\n[44772 rows x 56 columns]",
      "text/html": "<div>\n<style scoped>\n    .dataframe tbody tr th:only-of-type {\n        vertical-align: middle;\n    }\n\n    .dataframe tbody tr th {\n        vertical-align: top;\n    }\n\n    .dataframe thead th {\n        text-align: right;\n    }\n</style>\n<table border=\"1\" class=\"dataframe\">\n  <thead>\n    <tr style=\"text-align: right;\">\n      <th></th>\n      <th>projectid</th>\n      <th>teacher_acctid</th>\n      <th>schoolid</th>\n      <th>school_ncesid</th>\n      <th>school_latitude</th>\n      <th>school_longitude</th>\n      <th>school_city</th>\n      <th>school_state</th>\n      <th>school_zip</th>\n      <th>school_metro</th>\n      <th>...</th>\n      <th>dollar_amount</th>\n      <th>donation_included_optional_support</th>\n      <th>payment_method</th>\n      <th>payment_included_acct_credit</th>\n      <th>payment_included_campaign_gift_card</th>\n      <th>payment_included_web_purchased_gift_card</th>\n      <th>payment_was_promo_matched</th>\n      <th>via_giving_page</th>\n      <th>for_honoree</th>\n      <th>donation_message</th>\n    </tr>\n  </thead>\n  <tbody>\n    <tr>\n      <th>0</th>\n      <td>316ed8fb3b81402ff6ac8f721bb31192</td>\n      <td>42d43fa6f37314365d08692e08680973</td>\n      <td>c0e6ce89b244764085691a1b8e28cb81</td>\n      <td>6.362701e+10</td>\n      <td>36.576340</td>\n      <td>-119.608713</td>\n      <td>Selma</td>\n      <td>CA</td>\n      <td>93662.0</td>\n      <td>NaN</td>\n      <td>...</td>\n      <td>NaN</td>\n      <td>NaN</td>\n      <td>NaN</td>\n      <td>NaN</td>\n      <td>NaN</td>\n      <td>NaN</td>\n      <td>NaN</td>\n      <td>NaN</td>\n      <td>NaN</td>\n      <td>NaN</td>\n    </tr>\n    <tr>\n      <th>1</th>\n      <td>90de744e368a7e4883223ca49318ae30</td>\n      <td>864eb466462bf704bf7a16a585ef296a</td>\n      <td>d711e47810900c96f26a5d0be30c446d</td>\n      <td>4.837020e+11</td>\n      <td>32.911179</td>\n      <td>-96.723640</td>\n      <td>Dallas</td>\n      <td>TX</td>\n      <td>75243.0</td>\n      <td>urban</td>\n      <td>...</td>\n      <td>NaN</td>\n      <td>NaN</td>\n      <td>NaN</td>\n      <td>NaN</td>\n      <td>NaN</td>\n      <td>NaN</td>\n      <td>NaN</td>\n      <td>NaN</td>\n      <td>NaN</td>\n      <td>NaN</td>\n    </tr>\n    <tr>\n      <th>2</th>\n      <td>32943bb1063267de6ed19fc0ceb4b9a7</td>\n      <td>37f85135259ece793213aca9d8765542</td>\n      <td>665c3613013ba0a66e3a2a26b89f1b68</td>\n      <td>4.103270e+11</td>\n      <td>45.166039</td>\n      <td>-122.414576</td>\n      <td>Colton</td>\n      <td>OR</td>\n      <td>97017.0</td>\n      <td>rural</td>\n      <td>...</td>\n      <td>NaN</td>\n      <td>NaN</td>\n      <td>NaN</td>\n      <td>NaN</td>\n      <td>NaN</td>\n      <td>NaN</td>\n      <td>NaN</td>\n      <td>NaN</td>\n      <td>NaN</td>\n      <td>NaN</td>\n    </tr>\n    <tr>\n      <th>3</th>\n      <td>bb18f409abda2f264d5acda8cab577a9</td>\n      <td>2133fc46f951f1e7d60645b0f9e48a6c</td>\n      <td>4f12c3fa0c1cce823c7ba1df57e90ccb</td>\n      <td>3.600153e+11</td>\n      <td>40.641727</td>\n      <td>-73.965655</td>\n      <td>Brooklyn</td>\n      <td>NY</td>\n      <td>11226.0</td>\n      <td>urban</td>\n      <td>...</td>\n      <td>NaN</td>\n      <td>NaN</td>\n      <td>NaN</td>\n      <td>NaN</td>\n      <td>NaN</td>\n      <td>NaN</td>\n      <td>NaN</td>\n      <td>NaN</td>\n      <td>NaN</td>\n      <td>NaN</td>\n    </tr>\n    <tr>\n      <th>4</th>\n      <td>24761b686e18e5eace634607acbcc19f</td>\n      <td>867ff478a63f5457eaf41049536c47cd</td>\n      <td>10179fd362d7b8cf0e89baa1ca3025bb</td>\n      <td>6.227100e+10</td>\n      <td>34.043939</td>\n      <td>-118.288371</td>\n      <td>Los Angeles</td>\n      <td>CA</td>\n      <td>90006.0</td>\n      <td>urban</td>\n      <td>...</td>\n      <td>NaN</td>\n      <td>NaN</td>\n      <td>NaN</td>\n      <td>NaN</td>\n      <td>NaN</td>\n      <td>NaN</td>\n      <td>NaN</td>\n      <td>NaN</td>\n      <td>NaN</td>\n      <td>NaN</td>\n    </tr>\n    <tr>\n      <th>...</th>\n      <td>...</td>\n      <td>...</td>\n      <td>...</td>\n      <td>...</td>\n      <td>...</td>\n      <td>...</td>\n      <td>...</td>\n      <td>...</td>\n      <td>...</td>\n      <td>...</td>\n      <td>...</td>\n      <td>...</td>\n      <td>...</td>\n      <td>...</td>\n      <td>...</td>\n      <td>...</td>\n      <td>...</td>\n      <td>...</td>\n      <td>...</td>\n      <td>...</td>\n      <td>...</td>\n    </tr>\n    <tr>\n      <th>44767</th>\n      <td>f1e36a9d4d356db460977ea131449839</td>\n      <td>4f3ac5dc5df47d942efbcaecfb5534b4</td>\n      <td>cd957305d272ad4dbcca706b27774ec3</td>\n      <td>1.921630e+11</td>\n      <td>42.673767</td>\n      <td>-91.902444</td>\n      <td>Oelwein</td>\n      <td>IA</td>\n      <td>50662.0</td>\n      <td>NaN</td>\n      <td>...</td>\n      <td>NaN</td>\n      <td>NaN</td>\n      <td>NaN</td>\n      <td>NaN</td>\n      <td>NaN</td>\n      <td>NaN</td>\n      <td>NaN</td>\n      <td>NaN</td>\n      <td>NaN</td>\n      <td>NaN</td>\n    </tr>\n    <tr>\n      <th>44768</th>\n      <td>a63cdaaac3835e0582befd9c77f6a3f5</td>\n      <td>36410d7f061c234a1f86c4cee56d8b44</td>\n      <td>e540f61e9d98935f163a049abeaaab26</td>\n      <td>1.201440e+11</td>\n      <td>28.499796</td>\n      <td>-81.296813</td>\n      <td>Orlando</td>\n      <td>FL</td>\n      <td>32822.0</td>\n      <td>suburban</td>\n      <td>...</td>\n      <td>NaN</td>\n      <td>NaN</td>\n      <td>NaN</td>\n      <td>NaN</td>\n      <td>NaN</td>\n      <td>NaN</td>\n      <td>NaN</td>\n      <td>NaN</td>\n      <td>NaN</td>\n      <td>NaN</td>\n    </tr>\n    <tr>\n      <th>44769</th>\n      <td>ac73fd0822adb3104c110e4e3fe3498d</td>\n      <td>feae8b241b3a114bed92504de9b97402</td>\n      <td>5a0db5dd6211cb9660cbda3b97fa76a1</td>\n      <td>6.227100e+10</td>\n      <td>34.099316</td>\n      <td>-118.352051</td>\n      <td>Los Angeles</td>\n      <td>CA</td>\n      <td>90046.0</td>\n      <td>urban</td>\n      <td>...</td>\n      <td>NaN</td>\n      <td>NaN</td>\n      <td>NaN</td>\n      <td>NaN</td>\n      <td>NaN</td>\n      <td>NaN</td>\n      <td>NaN</td>\n      <td>NaN</td>\n      <td>NaN</td>\n      <td>NaN</td>\n    </tr>\n    <tr>\n      <th>44770</th>\n      <td>3a09c88cbfe67aaedc451d813d157aed</td>\n      <td>f94787826148f11768ac9d63990fd552</td>\n      <td>707bbed4ee89431ede35cf0c4f4644f8</td>\n      <td>NaN</td>\n      <td>38.695172</td>\n      <td>-90.245537</td>\n      <td>Saint Louis</td>\n      <td>MO</td>\n      <td>63120.0</td>\n      <td>urban</td>\n      <td>...</td>\n      <td>NaN</td>\n      <td>NaN</td>\n      <td>NaN</td>\n      <td>NaN</td>\n      <td>NaN</td>\n      <td>NaN</td>\n      <td>NaN</td>\n      <td>NaN</td>\n      <td>NaN</td>\n      <td>NaN</td>\n    </tr>\n    <tr>\n      <th>44771</th>\n      <td>16bf6f4c3c37da1cb2e92ee8ce834510</td>\n      <td>cbb3d04b7673fecb481cab7107c53ff2</td>\n      <td>10179fd362d7b8cf0e89baa1ca3025bb</td>\n      <td>6.227100e+10</td>\n      <td>34.043939</td>\n      <td>-118.288371</td>\n      <td>Los Angeles</td>\n      <td>CA</td>\n      <td>90006.0</td>\n      <td>urban</td>\n      <td>...</td>\n      <td>NaN</td>\n      <td>NaN</td>\n      <td>NaN</td>\n      <td>NaN</td>\n      <td>NaN</td>\n      <td>NaN</td>\n      <td>NaN</td>\n      <td>NaN</td>\n      <td>NaN</td>\n      <td>NaN</td>\n    </tr>\n  </tbody>\n</table>\n<p>44772 rows × 56 columns</p>\n</div>"
     },
     "execution_count": 51,
     "metadata": {},
     "output_type": "execute_result"
    }
   ],
   "source": [
    "merged_with_donations_df = pd.merge(filtered_projects_df, donations_df, on='projectid', how='left')\n",
    "merged_with_donations_df[merged_with_donations_df[\"donation_total\"].isna()]"
   ],
   "metadata": {
    "collapsed": false,
    "ExecuteTime": {
     "end_time": "2023-09-07T13:40:03.994327Z",
     "start_time": "2023-09-07T13:40:01.993940Z"
    }
   }
  },
  {
   "cell_type": "code",
   "execution_count": 39,
   "outputs": [],
   "source": [
    "merged_with_donations_df['average_donation_amount'] = merged_with_donations_df.groupby('projectid')['donation_total'].transform('mean')"
   ],
   "metadata": {
    "collapsed": false,
    "ExecuteTime": {
     "end_time": "2023-09-07T13:34:22.086134Z",
     "start_time": "2023-09-07T13:34:21.940068Z"
    }
   }
  },
  {
   "cell_type": "code",
   "execution_count": 49,
   "outputs": [
    {
     "data": {
      "text/plain": "0       NaN\n1       NaN\n2       NaN\n3       NaN\n4       NaN\n         ..\n44767   NaN\n44768   NaN\n44769   NaN\n44770   NaN\n44771   NaN\nName: donation_total, Length: 44772, dtype: float64"
     },
     "execution_count": 49,
     "metadata": {},
     "output_type": "execute_result"
    }
   ],
   "source": [
    "merged_with_donations_df.groupby('projectid')['donation_total'].head()"
   ],
   "metadata": {
    "collapsed": false,
    "ExecuteTime": {
     "end_time": "2023-09-07T13:38:05.240575Z",
     "start_time": "2023-09-07T13:38:04.778106Z"
    }
   }
  },
  {
   "cell_type": "code",
   "execution_count": 33,
   "outputs": [],
   "source": [
    " #Joining merged_df with donations_df on projectid\n",
    "# Usefulness: This allows us to add features based on the donations each project received, which could be a strong indicator of whether a project is \"exciting.\"\n",
    "# Input samples: 'projectid' from merged_df: ['195d03cc23a38b2990dff4b81e774f28', '3c884a0ee29b7dea836b887d60d79c08', 'ce4c4ef12a619490c211f9534797796b']\n",
    "#                'projectid' from donations_df: ['54622a1620e0047229ab1a466f2092dd', 'be8d90d9c4c8f4cbe8e75b39a835f46a', 'b5a6a8c2df3137d3be7f1b0d03f7ffed']\n",
    "merged_with_donations_df = pd.merge(filtered_projects_df, donations_df, on='projectid', how='left')\n",
    "\n",
    "#### Feature 3: `average_donation_amount`\n",
    "#Calculate the average donation amount received by each project.\n",
    "\n",
    "# Feature: Average donation amount for each project\n",
    "# Usefulness: A higher average donation amount could indicate that donors find the project more compelling or \"exciting.\"\n",
    "# Input samples: 'donation_total': [17.65, 25.00, 100.00]\n",
    "merged_with_donations_df['average_donation_amount'] = merged_with_donations_df.groupby('projectid')['donation_total'].transform('mean')\n",
    "\n",
    "#### Feature 4: `donor_teacher_ratio`\n",
    "# Calculate the ratio of teacher to non-teacher donors for each project.\n",
    "\n",
    "# Feature: Ratio of teacher donors to non-teacher donors for each project\n",
    "# Usefulness: A higher ratio of teacher donors could indicate that the project is more \"exciting\" to educators, which may be a good sign.\n",
    "# Input samples: 'is_teacher_acct': ['t', 'f', 'f']\n",
    "merged_with_donations_df['is_teacher'] = merged_with_donations_df['is_teacher_acct'].apply(lambda x: 1 if x == 't' else 0)\n",
    "merged_with_donations_df['teacher_donor_ratio'] = merged_with_donations_df.groupby('projectid')['is_teacher'].transform('mean')\n",
    "\n",
    "#### Drop Columns\n",
    "# We'll drop columns that have been used for aggregations or transformations and won't be directly useful for the model.\n",
    "\n",
    "# Explanation: Dropping columns that have been used for aggregation or transformation\n",
    "merged_with_donations_df.drop(columns=['donation_total', 'is_teacher_acct', 'is_teacher'], inplace=True)"
   ],
   "metadata": {
    "collapsed": false,
    "ExecuteTime": {
     "end_time": "2023-09-07T13:31:40.175977Z",
     "start_time": "2023-09-07T13:31:35.025005Z"
    }
   }
  },
  {
   "cell_type": "code",
   "execution_count": 36,
   "outputs": [
    {
     "data": {
      "text/plain": "                              projectid                    teacher_acctid  \\\n0      316ed8fb3b81402ff6ac8f721bb31192  42d43fa6f37314365d08692e08680973   \n1      90de744e368a7e4883223ca49318ae30  864eb466462bf704bf7a16a585ef296a   \n2      32943bb1063267de6ed19fc0ceb4b9a7  37f85135259ece793213aca9d8765542   \n3      bb18f409abda2f264d5acda8cab577a9  2133fc46f951f1e7d60645b0f9e48a6c   \n4      24761b686e18e5eace634607acbcc19f  867ff478a63f5457eaf41049536c47cd   \n...                                 ...                               ...   \n44767  f1e36a9d4d356db460977ea131449839  4f3ac5dc5df47d942efbcaecfb5534b4   \n44768  a63cdaaac3835e0582befd9c77f6a3f5  36410d7f061c234a1f86c4cee56d8b44   \n44769  ac73fd0822adb3104c110e4e3fe3498d  feae8b241b3a114bed92504de9b97402   \n44770  3a09c88cbfe67aaedc451d813d157aed  f94787826148f11768ac9d63990fd552   \n44771  16bf6f4c3c37da1cb2e92ee8ce834510  cbb3d04b7673fecb481cab7107c53ff2   \n\n                               schoolid  school_ncesid  school_latitude  \\\n0      c0e6ce89b244764085691a1b8e28cb81   6.362701e+10        36.576340   \n1      d711e47810900c96f26a5d0be30c446d   4.837020e+11        32.911179   \n2      665c3613013ba0a66e3a2a26b89f1b68   4.103270e+11        45.166039   \n3      4f12c3fa0c1cce823c7ba1df57e90ccb   3.600153e+11        40.641727   \n4      10179fd362d7b8cf0e89baa1ca3025bb   6.227100e+10        34.043939   \n...                                 ...            ...              ...   \n44767  cd957305d272ad4dbcca706b27774ec3   1.921630e+11        42.673767   \n44768  e540f61e9d98935f163a049abeaaab26   1.201440e+11        28.499796   \n44769  5a0db5dd6211cb9660cbda3b97fa76a1   6.227100e+10        34.099316   \n44770  707bbed4ee89431ede35cf0c4f4644f8            NaN        38.695172   \n44771  10179fd362d7b8cf0e89baa1ca3025bb   6.227100e+10        34.043939   \n\n       school_longitude  school_city school_state  school_zip school_metro  \\\n0           -119.608713        Selma           CA     93662.0          NaN   \n1            -96.723640       Dallas           TX     75243.0        urban   \n2           -122.414576       Colton           OR     97017.0        rural   \n3            -73.965655     Brooklyn           NY     11226.0        urban   \n4           -118.288371  Los Angeles           CA     90006.0        urban   \n...                 ...          ...          ...         ...          ...   \n44767        -91.902444      Oelwein           IA     50662.0          NaN   \n44768        -81.296813      Orlando           FL     32822.0     suburban   \n44769       -118.352051  Los Angeles           CA     90046.0        urban   \n44770        -90.245537  Saint Louis           MO     63120.0        urban   \n44771       -118.288371  Los Angeles           CA     90006.0        urban   \n\n       ... payment_method payment_included_acct_credit  \\\n0      ...            NaN                          NaN   \n1      ...            NaN                          NaN   \n2      ...            NaN                          NaN   \n3      ...            NaN                          NaN   \n4      ...            NaN                          NaN   \n...    ...            ...                          ...   \n44767  ...            NaN                          NaN   \n44768  ...            NaN                          NaN   \n44769  ...            NaN                          NaN   \n44770  ...            NaN                          NaN   \n44771  ...            NaN                          NaN   \n\n      payment_included_campaign_gift_card  \\\n0                                     NaN   \n1                                     NaN   \n2                                     NaN   \n3                                     NaN   \n4                                     NaN   \n...                                   ...   \n44767                                 NaN   \n44768                                 NaN   \n44769                                 NaN   \n44770                                 NaN   \n44771                                 NaN   \n\n      payment_included_web_purchased_gift_card payment_was_promo_matched  \\\n0                                          NaN                       NaN   \n1                                          NaN                       NaN   \n2                                          NaN                       NaN   \n3                                          NaN                       NaN   \n4                                          NaN                       NaN   \n...                                        ...                       ...   \n44767                                      NaN                       NaN   \n44768                                      NaN                       NaN   \n44769                                      NaN                       NaN   \n44770                                      NaN                       NaN   \n44771                                      NaN                       NaN   \n\n      via_giving_page for_honoree donation_message average_donation_amount  \\\n0                 NaN         NaN              NaN                     NaN   \n1                 NaN         NaN              NaN                     NaN   \n2                 NaN         NaN              NaN                     NaN   \n3                 NaN         NaN              NaN                     NaN   \n4                 NaN         NaN              NaN                     NaN   \n...               ...         ...              ...                     ...   \n44767             NaN         NaN              NaN                     NaN   \n44768             NaN         NaN              NaN                     NaN   \n44769             NaN         NaN              NaN                     NaN   \n44770             NaN         NaN              NaN                     NaN   \n44771             NaN         NaN              NaN                     NaN   \n\n      teacher_donor_ratio  \n0                     0.0  \n1                     0.0  \n2                     0.0  \n3                     0.0  \n4                     0.0  \n...                   ...  \n44767                 0.0  \n44768                 0.0  \n44769                 0.0  \n44770                 0.0  \n44771                 0.0  \n\n[44772 rows x 56 columns]",
      "text/html": "<div>\n<style scoped>\n    .dataframe tbody tr th:only-of-type {\n        vertical-align: middle;\n    }\n\n    .dataframe tbody tr th {\n        vertical-align: top;\n    }\n\n    .dataframe thead th {\n        text-align: right;\n    }\n</style>\n<table border=\"1\" class=\"dataframe\">\n  <thead>\n    <tr style=\"text-align: right;\">\n      <th></th>\n      <th>projectid</th>\n      <th>teacher_acctid</th>\n      <th>schoolid</th>\n      <th>school_ncesid</th>\n      <th>school_latitude</th>\n      <th>school_longitude</th>\n      <th>school_city</th>\n      <th>school_state</th>\n      <th>school_zip</th>\n      <th>school_metro</th>\n      <th>...</th>\n      <th>payment_method</th>\n      <th>payment_included_acct_credit</th>\n      <th>payment_included_campaign_gift_card</th>\n      <th>payment_included_web_purchased_gift_card</th>\n      <th>payment_was_promo_matched</th>\n      <th>via_giving_page</th>\n      <th>for_honoree</th>\n      <th>donation_message</th>\n      <th>average_donation_amount</th>\n      <th>teacher_donor_ratio</th>\n    </tr>\n  </thead>\n  <tbody>\n    <tr>\n      <th>0</th>\n      <td>316ed8fb3b81402ff6ac8f721bb31192</td>\n      <td>42d43fa6f37314365d08692e08680973</td>\n      <td>c0e6ce89b244764085691a1b8e28cb81</td>\n      <td>6.362701e+10</td>\n      <td>36.576340</td>\n      <td>-119.608713</td>\n      <td>Selma</td>\n      <td>CA</td>\n      <td>93662.0</td>\n      <td>NaN</td>\n      <td>...</td>\n      <td>NaN</td>\n      <td>NaN</td>\n      <td>NaN</td>\n      <td>NaN</td>\n      <td>NaN</td>\n      <td>NaN</td>\n      <td>NaN</td>\n      <td>NaN</td>\n      <td>NaN</td>\n      <td>0.0</td>\n    </tr>\n    <tr>\n      <th>1</th>\n      <td>90de744e368a7e4883223ca49318ae30</td>\n      <td>864eb466462bf704bf7a16a585ef296a</td>\n      <td>d711e47810900c96f26a5d0be30c446d</td>\n      <td>4.837020e+11</td>\n      <td>32.911179</td>\n      <td>-96.723640</td>\n      <td>Dallas</td>\n      <td>TX</td>\n      <td>75243.0</td>\n      <td>urban</td>\n      <td>...</td>\n      <td>NaN</td>\n      <td>NaN</td>\n      <td>NaN</td>\n      <td>NaN</td>\n      <td>NaN</td>\n      <td>NaN</td>\n      <td>NaN</td>\n      <td>NaN</td>\n      <td>NaN</td>\n      <td>0.0</td>\n    </tr>\n    <tr>\n      <th>2</th>\n      <td>32943bb1063267de6ed19fc0ceb4b9a7</td>\n      <td>37f85135259ece793213aca9d8765542</td>\n      <td>665c3613013ba0a66e3a2a26b89f1b68</td>\n      <td>4.103270e+11</td>\n      <td>45.166039</td>\n      <td>-122.414576</td>\n      <td>Colton</td>\n      <td>OR</td>\n      <td>97017.0</td>\n      <td>rural</td>\n      <td>...</td>\n      <td>NaN</td>\n      <td>NaN</td>\n      <td>NaN</td>\n      <td>NaN</td>\n      <td>NaN</td>\n      <td>NaN</td>\n      <td>NaN</td>\n      <td>NaN</td>\n      <td>NaN</td>\n      <td>0.0</td>\n    </tr>\n    <tr>\n      <th>3</th>\n      <td>bb18f409abda2f264d5acda8cab577a9</td>\n      <td>2133fc46f951f1e7d60645b0f9e48a6c</td>\n      <td>4f12c3fa0c1cce823c7ba1df57e90ccb</td>\n      <td>3.600153e+11</td>\n      <td>40.641727</td>\n      <td>-73.965655</td>\n      <td>Brooklyn</td>\n      <td>NY</td>\n      <td>11226.0</td>\n      <td>urban</td>\n      <td>...</td>\n      <td>NaN</td>\n      <td>NaN</td>\n      <td>NaN</td>\n      <td>NaN</td>\n      <td>NaN</td>\n      <td>NaN</td>\n      <td>NaN</td>\n      <td>NaN</td>\n      <td>NaN</td>\n      <td>0.0</td>\n    </tr>\n    <tr>\n      <th>4</th>\n      <td>24761b686e18e5eace634607acbcc19f</td>\n      <td>867ff478a63f5457eaf41049536c47cd</td>\n      <td>10179fd362d7b8cf0e89baa1ca3025bb</td>\n      <td>6.227100e+10</td>\n      <td>34.043939</td>\n      <td>-118.288371</td>\n      <td>Los Angeles</td>\n      <td>CA</td>\n      <td>90006.0</td>\n      <td>urban</td>\n      <td>...</td>\n      <td>NaN</td>\n      <td>NaN</td>\n      <td>NaN</td>\n      <td>NaN</td>\n      <td>NaN</td>\n      <td>NaN</td>\n      <td>NaN</td>\n      <td>NaN</td>\n      <td>NaN</td>\n      <td>0.0</td>\n    </tr>\n    <tr>\n      <th>...</th>\n      <td>...</td>\n      <td>...</td>\n      <td>...</td>\n      <td>...</td>\n      <td>...</td>\n      <td>...</td>\n      <td>...</td>\n      <td>...</td>\n      <td>...</td>\n      <td>...</td>\n      <td>...</td>\n      <td>...</td>\n      <td>...</td>\n      <td>...</td>\n      <td>...</td>\n      <td>...</td>\n      <td>...</td>\n      <td>...</td>\n      <td>...</td>\n      <td>...</td>\n      <td>...</td>\n    </tr>\n    <tr>\n      <th>44767</th>\n      <td>f1e36a9d4d356db460977ea131449839</td>\n      <td>4f3ac5dc5df47d942efbcaecfb5534b4</td>\n      <td>cd957305d272ad4dbcca706b27774ec3</td>\n      <td>1.921630e+11</td>\n      <td>42.673767</td>\n      <td>-91.902444</td>\n      <td>Oelwein</td>\n      <td>IA</td>\n      <td>50662.0</td>\n      <td>NaN</td>\n      <td>...</td>\n      <td>NaN</td>\n      <td>NaN</td>\n      <td>NaN</td>\n      <td>NaN</td>\n      <td>NaN</td>\n      <td>NaN</td>\n      <td>NaN</td>\n      <td>NaN</td>\n      <td>NaN</td>\n      <td>0.0</td>\n    </tr>\n    <tr>\n      <th>44768</th>\n      <td>a63cdaaac3835e0582befd9c77f6a3f5</td>\n      <td>36410d7f061c234a1f86c4cee56d8b44</td>\n      <td>e540f61e9d98935f163a049abeaaab26</td>\n      <td>1.201440e+11</td>\n      <td>28.499796</td>\n      <td>-81.296813</td>\n      <td>Orlando</td>\n      <td>FL</td>\n      <td>32822.0</td>\n      <td>suburban</td>\n      <td>...</td>\n      <td>NaN</td>\n      <td>NaN</td>\n      <td>NaN</td>\n      <td>NaN</td>\n      <td>NaN</td>\n      <td>NaN</td>\n      <td>NaN</td>\n      <td>NaN</td>\n      <td>NaN</td>\n      <td>0.0</td>\n    </tr>\n    <tr>\n      <th>44769</th>\n      <td>ac73fd0822adb3104c110e4e3fe3498d</td>\n      <td>feae8b241b3a114bed92504de9b97402</td>\n      <td>5a0db5dd6211cb9660cbda3b97fa76a1</td>\n      <td>6.227100e+10</td>\n      <td>34.099316</td>\n      <td>-118.352051</td>\n      <td>Los Angeles</td>\n      <td>CA</td>\n      <td>90046.0</td>\n      <td>urban</td>\n      <td>...</td>\n      <td>NaN</td>\n      <td>NaN</td>\n      <td>NaN</td>\n      <td>NaN</td>\n      <td>NaN</td>\n      <td>NaN</td>\n      <td>NaN</td>\n      <td>NaN</td>\n      <td>NaN</td>\n      <td>0.0</td>\n    </tr>\n    <tr>\n      <th>44770</th>\n      <td>3a09c88cbfe67aaedc451d813d157aed</td>\n      <td>f94787826148f11768ac9d63990fd552</td>\n      <td>707bbed4ee89431ede35cf0c4f4644f8</td>\n      <td>NaN</td>\n      <td>38.695172</td>\n      <td>-90.245537</td>\n      <td>Saint Louis</td>\n      <td>MO</td>\n      <td>63120.0</td>\n      <td>urban</td>\n      <td>...</td>\n      <td>NaN</td>\n      <td>NaN</td>\n      <td>NaN</td>\n      <td>NaN</td>\n      <td>NaN</td>\n      <td>NaN</td>\n      <td>NaN</td>\n      <td>NaN</td>\n      <td>NaN</td>\n      <td>0.0</td>\n    </tr>\n    <tr>\n      <th>44771</th>\n      <td>16bf6f4c3c37da1cb2e92ee8ce834510</td>\n      <td>cbb3d04b7673fecb481cab7107c53ff2</td>\n      <td>10179fd362d7b8cf0e89baa1ca3025bb</td>\n      <td>6.227100e+10</td>\n      <td>34.043939</td>\n      <td>-118.288371</td>\n      <td>Los Angeles</td>\n      <td>CA</td>\n      <td>90006.0</td>\n      <td>urban</td>\n      <td>...</td>\n      <td>NaN</td>\n      <td>NaN</td>\n      <td>NaN</td>\n      <td>NaN</td>\n      <td>NaN</td>\n      <td>NaN</td>\n      <td>NaN</td>\n      <td>NaN</td>\n      <td>NaN</td>\n      <td>0.0</td>\n    </tr>\n  </tbody>\n</table>\n<p>44772 rows × 56 columns</p>\n</div>"
     },
     "execution_count": 36,
     "metadata": {},
     "output_type": "execute_result"
    }
   ],
   "source": [
    "merged_with_donations_df"
   ],
   "metadata": {
    "collapsed": false,
    "ExecuteTime": {
     "end_time": "2023-09-07T13:32:41.088526Z",
     "start_time": "2023-09-07T13:32:40.773120Z"
    }
   }
  },
  {
   "cell_type": "code",
   "execution_count": 37,
   "outputs": [
    {
     "data": {
      "text/plain": "       total_price_with_fulfillment  students_per_dollar  \\\n0                            585.81             0.054625   \n1                            326.47             0.067388   \n2                            460.89             0.036885   \n3                            606.07             0.019800   \n4                            438.40             0.054745   \n...                             ...                  ...   \n44767                        227.89             0.092150   \n44768                        275.81             0.108771   \n44769                        482.55             0.041446   \n44770                        196.47             0.101797   \n44771                        231.26             0.090807   \n\n       average_donation_amount  teacher_donor_ratio  \n0                          NaN                  0.0  \n1                          NaN                  0.0  \n2                          NaN                  0.0  \n3                          NaN                  0.0  \n4                          NaN                  0.0  \n...                        ...                  ...  \n44767                      NaN                  0.0  \n44768                      NaN                  0.0  \n44769                      NaN                  0.0  \n44770                      NaN                  0.0  \n44771                      NaN                  0.0  \n\n[44772 rows x 4 columns]",
      "text/html": "<div>\n<style scoped>\n    .dataframe tbody tr th:only-of-type {\n        vertical-align: middle;\n    }\n\n    .dataframe tbody tr th {\n        vertical-align: top;\n    }\n\n    .dataframe thead th {\n        text-align: right;\n    }\n</style>\n<table border=\"1\" class=\"dataframe\">\n  <thead>\n    <tr style=\"text-align: right;\">\n      <th></th>\n      <th>total_price_with_fulfillment</th>\n      <th>students_per_dollar</th>\n      <th>average_donation_amount</th>\n      <th>teacher_donor_ratio</th>\n    </tr>\n  </thead>\n  <tbody>\n    <tr>\n      <th>0</th>\n      <td>585.81</td>\n      <td>0.054625</td>\n      <td>NaN</td>\n      <td>0.0</td>\n    </tr>\n    <tr>\n      <th>1</th>\n      <td>326.47</td>\n      <td>0.067388</td>\n      <td>NaN</td>\n      <td>0.0</td>\n    </tr>\n    <tr>\n      <th>2</th>\n      <td>460.89</td>\n      <td>0.036885</td>\n      <td>NaN</td>\n      <td>0.0</td>\n    </tr>\n    <tr>\n      <th>3</th>\n      <td>606.07</td>\n      <td>0.019800</td>\n      <td>NaN</td>\n      <td>0.0</td>\n    </tr>\n    <tr>\n      <th>4</th>\n      <td>438.40</td>\n      <td>0.054745</td>\n      <td>NaN</td>\n      <td>0.0</td>\n    </tr>\n    <tr>\n      <th>...</th>\n      <td>...</td>\n      <td>...</td>\n      <td>...</td>\n      <td>...</td>\n    </tr>\n    <tr>\n      <th>44767</th>\n      <td>227.89</td>\n      <td>0.092150</td>\n      <td>NaN</td>\n      <td>0.0</td>\n    </tr>\n    <tr>\n      <th>44768</th>\n      <td>275.81</td>\n      <td>0.108771</td>\n      <td>NaN</td>\n      <td>0.0</td>\n    </tr>\n    <tr>\n      <th>44769</th>\n      <td>482.55</td>\n      <td>0.041446</td>\n      <td>NaN</td>\n      <td>0.0</td>\n    </tr>\n    <tr>\n      <th>44770</th>\n      <td>196.47</td>\n      <td>0.101797</td>\n      <td>NaN</td>\n      <td>0.0</td>\n    </tr>\n    <tr>\n      <th>44771</th>\n      <td>231.26</td>\n      <td>0.090807</td>\n      <td>NaN</td>\n      <td>0.0</td>\n    </tr>\n  </tbody>\n</table>\n<p>44772 rows × 4 columns</p>\n</div>"
     },
     "execution_count": 37,
     "metadata": {},
     "output_type": "execute_result"
    }
   ],
   "source": [
    "# Select features and target variable\n",
    "features = ['total_price_with_fulfillment', 'students_per_dollar', 'average_donation_amount', 'teacher_donor_ratio']\n",
    "X_test = merged_with_donations_df[features]\n",
    "X_test\n",
    "# Make predictions\n",
    "#y_pred = clf.predict(X_test)"
   ],
   "metadata": {
    "collapsed": false,
    "ExecuteTime": {
     "end_time": "2023-09-07T13:33:10.982535Z",
     "start_time": "2023-09-07T13:33:10.948936Z"
    }
   }
  },
  {
   "cell_type": "code",
   "execution_count": 22,
   "outputs": [
    {
     "data": {
      "text/plain": "       total_price_with_fulfillment  students_per_dollar  \\\n0                            585.81             0.054625   \n1                            326.47             0.067388   \n2                            460.89             0.036885   \n3                            606.07             0.019800   \n4                            438.40             0.054745   \n...                             ...                  ...   \n44767                        227.89             0.092150   \n44768                        275.81             0.108771   \n44769                        482.55             0.041446   \n44770                        196.47             0.101797   \n44771                        231.26             0.090807   \n\n       average_donation_amount  teacher_donor_ratio  \n0                          NaN                  0.0  \n1                          NaN                  0.0  \n2                          NaN                  0.0  \n3                          NaN                  0.0  \n4                          NaN                  0.0  \n...                        ...                  ...  \n44767                      NaN                  0.0  \n44768                      NaN                  0.0  \n44769                      NaN                  0.0  \n44770                      NaN                  0.0  \n44771                      NaN                  0.0  \n\n[44772 rows x 4 columns]",
      "text/html": "<div>\n<style scoped>\n    .dataframe tbody tr th:only-of-type {\n        vertical-align: middle;\n    }\n\n    .dataframe tbody tr th {\n        vertical-align: top;\n    }\n\n    .dataframe thead th {\n        text-align: right;\n    }\n</style>\n<table border=\"1\" class=\"dataframe\">\n  <thead>\n    <tr style=\"text-align: right;\">\n      <th></th>\n      <th>total_price_with_fulfillment</th>\n      <th>students_per_dollar</th>\n      <th>average_donation_amount</th>\n      <th>teacher_donor_ratio</th>\n    </tr>\n  </thead>\n  <tbody>\n    <tr>\n      <th>0</th>\n      <td>585.81</td>\n      <td>0.054625</td>\n      <td>NaN</td>\n      <td>0.0</td>\n    </tr>\n    <tr>\n      <th>1</th>\n      <td>326.47</td>\n      <td>0.067388</td>\n      <td>NaN</td>\n      <td>0.0</td>\n    </tr>\n    <tr>\n      <th>2</th>\n      <td>460.89</td>\n      <td>0.036885</td>\n      <td>NaN</td>\n      <td>0.0</td>\n    </tr>\n    <tr>\n      <th>3</th>\n      <td>606.07</td>\n      <td>0.019800</td>\n      <td>NaN</td>\n      <td>0.0</td>\n    </tr>\n    <tr>\n      <th>4</th>\n      <td>438.40</td>\n      <td>0.054745</td>\n      <td>NaN</td>\n      <td>0.0</td>\n    </tr>\n    <tr>\n      <th>...</th>\n      <td>...</td>\n      <td>...</td>\n      <td>...</td>\n      <td>...</td>\n    </tr>\n    <tr>\n      <th>44767</th>\n      <td>227.89</td>\n      <td>0.092150</td>\n      <td>NaN</td>\n      <td>0.0</td>\n    </tr>\n    <tr>\n      <th>44768</th>\n      <td>275.81</td>\n      <td>0.108771</td>\n      <td>NaN</td>\n      <td>0.0</td>\n    </tr>\n    <tr>\n      <th>44769</th>\n      <td>482.55</td>\n      <td>0.041446</td>\n      <td>NaN</td>\n      <td>0.0</td>\n    </tr>\n    <tr>\n      <th>44770</th>\n      <td>196.47</td>\n      <td>0.101797</td>\n      <td>NaN</td>\n      <td>0.0</td>\n    </tr>\n    <tr>\n      <th>44771</th>\n      <td>231.26</td>\n      <td>0.090807</td>\n      <td>NaN</td>\n      <td>0.0</td>\n    </tr>\n  </tbody>\n</table>\n<p>44772 rows × 4 columns</p>\n</div>"
     },
     "execution_count": 22,
     "metadata": {},
     "output_type": "execute_result"
    }
   ],
   "source": [
    "X_test"
   ],
   "metadata": {
    "collapsed": false,
    "ExecuteTime": {
     "end_time": "2023-09-07T13:18:39.528333Z",
     "start_time": "2023-09-07T13:18:39.486870Z"
    }
   }
  },
  {
   "cell_type": "markdown",
   "source": [
    "# Without FE just main table with feature selection"
   ],
   "metadata": {
    "collapsed": false
   }
  },
  {
   "cell_type": "code",
   "execution_count": 35,
   "outputs": [],
   "source": [
    "merged_df_new = pd.merge(projects_df, outcomes_df, on='projectid', how='inner')"
   ],
   "metadata": {
    "collapsed": false,
    "ExecuteTime": {
     "end_time": "2023-09-07T11:28:35.940843Z",
     "start_time": "2023-09-07T11:28:35.080585Z"
    }
   }
  },
  {
   "cell_type": "code",
   "execution_count": 37,
   "outputs": [
    {
     "name": "stdout",
     "output_type": "stream",
     "text": [
      "Accuracy: 0.90465746355309\n"
     ]
    }
   ],
   "source": [
    "from sklearn.ensemble import RandomForestClassifier\n",
    "from sklearn.model_selection import train_test_split\n",
    "from sklearn.metrics import accuracy_score\n",
    "from sklearn.preprocessing import LabelEncoder\n",
    "\n",
    "# Assuming merged_df is your main DataFrame after merging projects_df and outcomes_df\n",
    "# Convert 'is_exciting' to numerical labels for machine learning\n",
    "label_encoder = LabelEncoder()\n",
    "merged_df_new['is_exciting'] = label_encoder.fit_transform(merged_df_new['is_exciting'].fillna(''))\n",
    "\n",
    "# Select some existing features (before feature engineering) for demonstration\n",
    "# We'll consider 'students_reached' and 'total_price_excluding_optional_support' for this example\n",
    "features = ['students_reached', 'total_price_excluding_optional_support']\n",
    "\n",
    "# Drop rows with missing values in feature columns\n",
    "X_dropped = merged_df_new[features].dropna()\n",
    "\n",
    "# Drop corresponding rows in target variable\n",
    "y_dropped = merged_df_new['is_exciting'].loc[X_dropped.index]\n",
    "\n",
    "# Split the data into training and test sets\n",
    "X_train, X_test, y_train, y_test = train_test_split(X_dropped, y_dropped, test_size=0.2, random_state=42)\n",
    "\n",
    "# Initialize the RandomForestClassifier\n",
    "clf = RandomForestClassifier(n_estimators=100, random_state=42)\n",
    "\n",
    "# Train the classifier\n",
    "clf.fit(X_train, y_train)\n",
    "\n",
    "# Make predictions\n",
    "y_pred = clf.predict(X_test)\n",
    "\n",
    "# Calculate accuracy\n",
    "accuracy = accuracy_score(y_test, y_pred)\n",
    "print(f\"Accuracy: {accuracy}\")\n"
   ],
   "metadata": {
    "collapsed": false,
    "ExecuteTime": {
     "end_time": "2023-09-07T11:31:19.598241Z",
     "start_time": "2023-09-07T11:31:08.331878Z"
    }
   }
  },
  {
   "cell_type": "markdown",
   "source": [
    "# Without FE just main table without feature selection"
   ],
   "metadata": {
    "collapsed": false
   }
  },
  {
   "cell_type": "code",
   "execution_count": 42,
   "outputs": [],
   "source": [
    "merged_df_new_new = pd.merge(projects_df, outcomes_df, on='projectid', how='inner')"
   ],
   "metadata": {
    "collapsed": false,
    "ExecuteTime": {
     "end_time": "2023-09-07T11:34:39.403751Z",
     "start_time": "2023-09-07T11:34:37.761431Z"
    }
   }
  },
  {
   "cell_type": "code",
   "execution_count": 44,
   "outputs": [
    {
     "name": "stdout",
     "output_type": "stream",
     "text": [
      "Accuracy: 0.9824506424318395\n"
     ]
    }
   ],
   "source": [
    "# Assuming merged_df is your main DataFrame after merging projects_df and outcomes_df\n",
    "# Convert 'is_exciting' to numerical labels for machine learning\n",
    "label_encoder = LabelEncoder()\n",
    "merged_df_new_new['is_exciting'] = label_encoder.fit_transform(merged_df_new_new['is_exciting'].fillna(''))\n",
    "\n",
    "# Drop rows with missing values across all columns\n",
    "clean_df = merged_df_new_new.dropna()\n",
    "\n",
    "# Filter only numerical features\n",
    "numerical_features = clean_df.select_dtypes(include=['float64', 'int64']).columns\n",
    "\n",
    "# Separate features and target variable\n",
    "X_dropped = clean_df[numerical_features]  # Keep only numerical features\n",
    "X_dropped = X_dropped.drop(columns=['is_exciting'])\n",
    "y_dropped = clean_df['is_exciting']\n",
    "\n",
    "# Split the data into training and test sets\n",
    "X_train, X_test, y_train, y_test = train_test_split(X_dropped, y_dropped, test_size=0.2, random_state=42)\n",
    "\n",
    "# Initialize the RandomForestClassifier\n",
    "clf = RandomForestClassifier(n_estimators=100, random_state=42)\n",
    "\n",
    "# Train the classifier\n",
    "clf.fit(X_train, y_train)\n",
    "\n",
    "# Make predictions\n",
    "y_pred = clf.predict(X_test)\n",
    "\n",
    "# Calculate accuracy\n",
    "accuracy = accuracy_score(y_test, y_pred)\n",
    "print(f\"Accuracy: {accuracy}\")"
   ],
   "metadata": {
    "collapsed": false,
    "ExecuteTime": {
     "end_time": "2023-09-07T11:35:08.915725Z",
     "start_time": "2023-09-07T11:35:05.460264Z"
    }
   }
  },
  {
   "cell_type": "code",
   "execution_count": 45,
   "outputs": [
    {
     "data": {
      "text/plain": "Index(['Unnamed: 0_x', 'school_ncesid', 'school_latitude', 'school_longitude',\n       'school_zip', 'fulfillment_labor_materials',\n       'total_price_excluding_optional_support',\n       'total_price_including_optional_support', 'students_reached',\n       'Unnamed: 0_y', 'is_exciting', 'great_messages_proportion',\n       'teacher_referred_count', 'non_teacher_referred_count'],\n      dtype='object')"
     },
     "execution_count": 45,
     "metadata": {},
     "output_type": "execute_result"
    }
   ],
   "source": [
    "numerical_features"
   ],
   "metadata": {
    "collapsed": false,
    "ExecuteTime": {
     "end_time": "2023-09-07T11:35:55.350635Z",
     "start_time": "2023-09-07T11:35:55.237967Z"
    }
   }
  },
  {
   "cell_type": "code",
   "execution_count": null,
   "outputs": [],
   "source": [],
   "metadata": {
    "collapsed": false
   }
  }
 ],
 "metadata": {
  "kernelspec": {
   "display_name": "Python 3",
   "language": "python",
   "name": "python3"
  },
  "language_info": {
   "codemirror_mode": {
    "name": "ipython",
    "version": 2
   },
   "file_extension": ".py",
   "mimetype": "text/x-python",
   "name": "python",
   "nbconvert_exporter": "python",
   "pygments_lexer": "ipython2",
   "version": "2.7.6"
  }
 },
 "nbformat": 4,
 "nbformat_minor": 0
}
