{
 "cells": [
  {
   "cell_type": "code",
   "execution_count": 1,
   "outputs": [],
   "source": [
    "import pandas as pd\n",
    "name = \"kdd-cup-2014-predicting-excitement-at-donors-choose\"\n",
    "# loading all dataframes\n",
    "donations_df = pd.read_csv(f'datasets_kaggle/{name}/donations.csv')\n",
    "essays_df = pd.read_csv(f'datasets_kaggle/{name}/essays.csv')\n",
    "outcomes_df = pd.read_csv(f'datasets_kaggle/{name}/outcomes.csv')\n",
    "projects_df = pd.read_csv(f'datasets_kaggle/{name}/projects_sample.csv')\n",
    "resources_df = pd.read_csv(f'datasets_kaggle/{name}/resources.csv')\n",
    "sample_submission_df = pd.read_csv(f'datasets_kaggle/{name}/sampleSubmission.csv')"
   ],
   "metadata": {
    "collapsed": false,
    "ExecuteTime": {
     "end_time": "2023-09-08T15:46:13.403844Z",
     "start_time": "2023-09-08T15:44:05.519534Z"
    }
   }
  },
  {
   "cell_type": "code",
   "execution_count": 2,
   "outputs": [
    {
     "name": "stdout",
     "output_type": "stream",
     "text": [
      "166024\n"
     ]
    }
   ],
   "source": [
    "print(len(projects_df))"
   ],
   "metadata": {
    "collapsed": false,
    "ExecuteTime": {
     "end_time": "2023-09-08T14:59:36.550434Z",
     "start_time": "2023-09-08T14:59:36.389686Z"
    }
   }
  },
  {
   "cell_type": "markdown",
   "source": [
    "# Applying Jimmy's Code"
   ],
   "metadata": {
    "collapsed": false
   }
  },
  {
   "cell_type": "markdown",
   "source": [
    "### Feature Engineering"
   ],
   "metadata": {
    "collapsed": false
   }
  },
  {
   "cell_type": "code",
   "execution_count": 2,
   "outputs": [
    {
     "data": {
      "text/plain": "        Unnamed: 0                         projectid  \\\n0             1062  dd291f97dc6b32b7c9f052794efc4929   \n1           277544  673d26170aeaf573d6e4c7565a65915b   \n2           388308  8f0e3bc89dc5304f71f167201242fa5e   \n3            77907  195d03cc23a38b2990dff4b81e774f28   \n4           523215  3c884a0ee29b7dea836b887d60d79c08   \n...            ...                               ...   \n166019      199335  32b34fea904ed58fe368fd382bc206c5   \n166020      383141  52cc035ca3e82620ef518acacf210fd9   \n166021      387473  eaede6c7d5b95ec9d7b618c85d5c9d5c   \n166022      383218  860f3577e8945fb713494070243b15de   \n166023       14673  2b4cfa9df719a703dded8da8ae995ff1   \n\n                        teacher_acctid_x                          schoolid  \\\n0       b98394d3a6221c59521a1985ad1696af  cebf1adb4f18927879baafbea1bf7895   \n1       0d7a6e32be3f2896ea319a2b1cf71bb5  bfae9533040b46a60a9d29eb76a2e008   \n2       e46076282af0b3483467992b38d64822  e2522cf2744a19c549d2990f7ef42a68   \n3       a17b7278f1038b0cd6ff697f865343db  4ff19db2d9b58202fdff46e041fa3f39   \n4       2350b8236de09f5e209714476d2e31a8  7da763ccf67ef06b9123c45edcec9ae1   \n...                                  ...                               ...   \n166019  661aa21922afef92fa1ff3aad8e3aadb  ed8e927636d436037f38a845cc87a75f   \n166020  1fb4b9831e3d6eb4166ad1abaa84f45d  1f6a9c4cc53886c8e267bb2ace747873   \n166021  00fca35372d5c597c5d33ac2cbfd6dd8  cacdaef0b1a0307860ccd60b4a55598d   \n166022  307f944f26888c7815c47956631c655a  541aa1e3442559a68a4734d319d62ccf   \n166023  2e4d3ad18725662cf11b1f6348c2c36a  a62b036a89621875db9c0d385a0d77f8   \n\n        school_ncesid  school_latitude  school_longitude    school_city  \\\n0        2.400090e+11        39.232740        -76.593257      Baltimore   \n1        6.228900e+10        33.954487       -118.081238  Santa Fe Spgs   \n2        6.343201e+10        32.747158       -117.208481      San Diego   \n3        2.502790e+11        42.326497        -71.070917        Roxbury   \n4        2.506210e+11        42.065704        -72.160109        Holland   \n...               ...              ...               ...            ...   \n166019   4.825740e+11        30.124562        -95.527444         Spring   \n166020   3.000005e+11        46.606198       -112.071989         Helena   \n166021   3.600079e+11        40.791367        -73.947866       New York   \n166022   1.200870e+11        27.943546        -82.298340        Brandon   \n166023   2.621150e+11        42.699628        -84.514779        Lansing   \n\n       school_state  school_zip  ... total_price_including_optional_support  \\\n0                MD     21225.0  ...                                2527.64   \n1                CA     90670.0  ...                                 267.49   \n2                CA     92110.0  ...                                 222.12   \n3                MA      2119.0  ...                                 169.62   \n4                MA      1521.0  ...                                 473.46   \n...             ...         ...  ...                                    ...   \n166019           TX     77389.0  ...                                 345.52   \n166020           MT     59601.0  ...                                 260.78   \n166021           NY     10029.0  ...                                 447.26   \n166022           FL     33510.0  ...                                 665.47   \n166023           MI     48910.0  ...                                 478.87   \n\n       students_reached eligible_double_your_impact_match  \\\n0                 125.0                                 f   \n1                  62.0                                 f   \n2                  80.0                                 f   \n3                  40.0                                 f   \n4                  20.0                                 t   \n...                 ...                               ...   \n166019             26.0                                 f   \n166020            135.0                                 t   \n166021             32.0                                 t   \n166022            125.0                                 t   \n166023             25.0                                 f   \n\n       eligible_almost_home_match date_posted  \\\n0                               f  2014-05-09   \n1                               f  2012-02-02   \n2                               f  2011-01-30   \n3                               f  2013-10-19   \n4                               f  2009-06-10   \n...                           ...         ...   \n166019                          f  2012-10-21   \n166020                          f  2011-02-13   \n166021                          f  2011-01-31   \n166022                          f  2011-02-13   \n166023                          f  2014-03-22   \n\n                        teacher_acctid_y  \\\n0       b98394d3a6221c59521a1985ad1696af   \n1       0d7a6e32be3f2896ea319a2b1cf71bb5   \n2       e46076282af0b3483467992b38d64822   \n3       a17b7278f1038b0cd6ff697f865343db   \n4       2350b8236de09f5e209714476d2e31a8   \n...                                  ...   \n166019  661aa21922afef92fa1ff3aad8e3aadb   \n166020  1fb4b9831e3d6eb4166ad1abaa84f45d   \n166021  00fca35372d5c597c5d33ac2cbfd6dd8   \n166022  307f944f26888c7815c47956631c655a   \n166023  2e4d3ad18725662cf11b1f6348c2c36a   \n\n                                                    title  \\\n0       Improving Technology Improves Lives: Ben Frank...   \n1                                 Pencils and a Sharpener   \n2                        Are You Listening? Can You Help?   \n3                                    All About Inclusion!   \n4                            The States and Their Animals   \n...                                                   ...   \n166019         Science Stations for Our Youngest Learners   \n166020        Smart Classroom In Need Of Smart Technology   \n166021      We Would Love to Utilize HP Wireless Printing   \n166022  The Virtual Spanish Classroom: There's an App ...   \n166023                 Kindergartners CAN Read and Write!   \n\n                                        short_description  \\\n0       My students went paperless last year. However,...   \n1       Please help my students by providing pencils a...   \n2       More students will be able to hear, see, and d...   \n3       As an older sibling to two brothers with autis...   \n4       I am asking for a donation of the rug, which I...   \n...                                                   ...   \n166019  For young learners, science is one of the most...   \n166020  Help us recognize our learning and creative po...   \n166021  With these materials, an HP wireless printer a...   \n166022  My students need a tablet PC so they can use d...   \n166023  Read it again, Mrs. Fortino!\" \"Can we put it o...   \n\n                                           need_statement  \\\n0       My students need to expand their computing opt...   \n1       My students need pencils and a pencil sharpene...   \n2       My students need an iPod Listening Station so ...   \n3       My students need 6 noise canceling earphones f...   \n4                    My students need a Wild America Rug.   \n...                                                   ...   \n166019  My students need materials for science station...   \n166020  My students need materials, mosaic stones, til...   \n166021   My students need an HP wireless printer and ink.   \n166022  My students need a Lenovo Netbook Tablet so th...   \n166023  My students need MANY books by Eric Carle and ...   \n\n                                                    essay  \n0       My students went paperless last year. However,...  \n1       Please help my students by providing pencils a...  \n2       Can I be next?\", \"It's my turn!\" This is what ...  \n3       As an older sibling to two brothers with autis...  \n4       Learning about each state in the Union is not ...  \n...                                                   ...  \n166019  For young learners, science is one of the most...  \n166020  Help us recognize our learning and creative po...  \n166021  The less wires in a classroom the better! Tech...  \n166022  The multiple histories and cultures of the dif...  \n166023  Read it again, Mrs. Fortino!\" \"Can we put it o...  \n\n[166024 rows x 41 columns]",
      "text/html": "<div>\n<style scoped>\n    .dataframe tbody tr th:only-of-type {\n        vertical-align: middle;\n    }\n\n    .dataframe tbody tr th {\n        vertical-align: top;\n    }\n\n    .dataframe thead th {\n        text-align: right;\n    }\n</style>\n<table border=\"1\" class=\"dataframe\">\n  <thead>\n    <tr style=\"text-align: right;\">\n      <th></th>\n      <th>Unnamed: 0</th>\n      <th>projectid</th>\n      <th>teacher_acctid_x</th>\n      <th>schoolid</th>\n      <th>school_ncesid</th>\n      <th>school_latitude</th>\n      <th>school_longitude</th>\n      <th>school_city</th>\n      <th>school_state</th>\n      <th>school_zip</th>\n      <th>...</th>\n      <th>total_price_including_optional_support</th>\n      <th>students_reached</th>\n      <th>eligible_double_your_impact_match</th>\n      <th>eligible_almost_home_match</th>\n      <th>date_posted</th>\n      <th>teacher_acctid_y</th>\n      <th>title</th>\n      <th>short_description</th>\n      <th>need_statement</th>\n      <th>essay</th>\n    </tr>\n  </thead>\n  <tbody>\n    <tr>\n      <th>0</th>\n      <td>1062</td>\n      <td>dd291f97dc6b32b7c9f052794efc4929</td>\n      <td>b98394d3a6221c59521a1985ad1696af</td>\n      <td>cebf1adb4f18927879baafbea1bf7895</td>\n      <td>2.400090e+11</td>\n      <td>39.232740</td>\n      <td>-76.593257</td>\n      <td>Baltimore</td>\n      <td>MD</td>\n      <td>21225.0</td>\n      <td>...</td>\n      <td>2527.64</td>\n      <td>125.0</td>\n      <td>f</td>\n      <td>f</td>\n      <td>2014-05-09</td>\n      <td>b98394d3a6221c59521a1985ad1696af</td>\n      <td>Improving Technology Improves Lives: Ben Frank...</td>\n      <td>My students went paperless last year. However,...</td>\n      <td>My students need to expand their computing opt...</td>\n      <td>My students went paperless last year. However,...</td>\n    </tr>\n    <tr>\n      <th>1</th>\n      <td>277544</td>\n      <td>673d26170aeaf573d6e4c7565a65915b</td>\n      <td>0d7a6e32be3f2896ea319a2b1cf71bb5</td>\n      <td>bfae9533040b46a60a9d29eb76a2e008</td>\n      <td>6.228900e+10</td>\n      <td>33.954487</td>\n      <td>-118.081238</td>\n      <td>Santa Fe Spgs</td>\n      <td>CA</td>\n      <td>90670.0</td>\n      <td>...</td>\n      <td>267.49</td>\n      <td>62.0</td>\n      <td>f</td>\n      <td>f</td>\n      <td>2012-02-02</td>\n      <td>0d7a6e32be3f2896ea319a2b1cf71bb5</td>\n      <td>Pencils and a Sharpener</td>\n      <td>Please help my students by providing pencils a...</td>\n      <td>My students need pencils and a pencil sharpene...</td>\n      <td>Please help my students by providing pencils a...</td>\n    </tr>\n    <tr>\n      <th>2</th>\n      <td>388308</td>\n      <td>8f0e3bc89dc5304f71f167201242fa5e</td>\n      <td>e46076282af0b3483467992b38d64822</td>\n      <td>e2522cf2744a19c549d2990f7ef42a68</td>\n      <td>6.343201e+10</td>\n      <td>32.747158</td>\n      <td>-117.208481</td>\n      <td>San Diego</td>\n      <td>CA</td>\n      <td>92110.0</td>\n      <td>...</td>\n      <td>222.12</td>\n      <td>80.0</td>\n      <td>f</td>\n      <td>f</td>\n      <td>2011-01-30</td>\n      <td>e46076282af0b3483467992b38d64822</td>\n      <td>Are You Listening? Can You Help?</td>\n      <td>More students will be able to hear, see, and d...</td>\n      <td>My students need an iPod Listening Station so ...</td>\n      <td>Can I be next?\", \"It's my turn!\" This is what ...</td>\n    </tr>\n    <tr>\n      <th>3</th>\n      <td>77907</td>\n      <td>195d03cc23a38b2990dff4b81e774f28</td>\n      <td>a17b7278f1038b0cd6ff697f865343db</td>\n      <td>4ff19db2d9b58202fdff46e041fa3f39</td>\n      <td>2.502790e+11</td>\n      <td>42.326497</td>\n      <td>-71.070917</td>\n      <td>Roxbury</td>\n      <td>MA</td>\n      <td>2119.0</td>\n      <td>...</td>\n      <td>169.62</td>\n      <td>40.0</td>\n      <td>f</td>\n      <td>f</td>\n      <td>2013-10-19</td>\n      <td>a17b7278f1038b0cd6ff697f865343db</td>\n      <td>All About Inclusion!</td>\n      <td>As an older sibling to two brothers with autis...</td>\n      <td>My students need 6 noise canceling earphones f...</td>\n      <td>As an older sibling to two brothers with autis...</td>\n    </tr>\n    <tr>\n      <th>4</th>\n      <td>523215</td>\n      <td>3c884a0ee29b7dea836b887d60d79c08</td>\n      <td>2350b8236de09f5e209714476d2e31a8</td>\n      <td>7da763ccf67ef06b9123c45edcec9ae1</td>\n      <td>2.506210e+11</td>\n      <td>42.065704</td>\n      <td>-72.160109</td>\n      <td>Holland</td>\n      <td>MA</td>\n      <td>1521.0</td>\n      <td>...</td>\n      <td>473.46</td>\n      <td>20.0</td>\n      <td>t</td>\n      <td>f</td>\n      <td>2009-06-10</td>\n      <td>2350b8236de09f5e209714476d2e31a8</td>\n      <td>The States and Their Animals</td>\n      <td>I am asking for a donation of the rug, which I...</td>\n      <td>My students need a Wild America Rug.</td>\n      <td>Learning about each state in the Union is not ...</td>\n    </tr>\n    <tr>\n      <th>...</th>\n      <td>...</td>\n      <td>...</td>\n      <td>...</td>\n      <td>...</td>\n      <td>...</td>\n      <td>...</td>\n      <td>...</td>\n      <td>...</td>\n      <td>...</td>\n      <td>...</td>\n      <td>...</td>\n      <td>...</td>\n      <td>...</td>\n      <td>...</td>\n      <td>...</td>\n      <td>...</td>\n      <td>...</td>\n      <td>...</td>\n      <td>...</td>\n      <td>...</td>\n      <td>...</td>\n    </tr>\n    <tr>\n      <th>166019</th>\n      <td>199335</td>\n      <td>32b34fea904ed58fe368fd382bc206c5</td>\n      <td>661aa21922afef92fa1ff3aad8e3aadb</td>\n      <td>ed8e927636d436037f38a845cc87a75f</td>\n      <td>4.825740e+11</td>\n      <td>30.124562</td>\n      <td>-95.527444</td>\n      <td>Spring</td>\n      <td>TX</td>\n      <td>77389.0</td>\n      <td>...</td>\n      <td>345.52</td>\n      <td>26.0</td>\n      <td>f</td>\n      <td>f</td>\n      <td>2012-10-21</td>\n      <td>661aa21922afef92fa1ff3aad8e3aadb</td>\n      <td>Science Stations for Our Youngest Learners</td>\n      <td>For young learners, science is one of the most...</td>\n      <td>My students need materials for science station...</td>\n      <td>For young learners, science is one of the most...</td>\n    </tr>\n    <tr>\n      <th>166020</th>\n      <td>383141</td>\n      <td>52cc035ca3e82620ef518acacf210fd9</td>\n      <td>1fb4b9831e3d6eb4166ad1abaa84f45d</td>\n      <td>1f6a9c4cc53886c8e267bb2ace747873</td>\n      <td>3.000005e+11</td>\n      <td>46.606198</td>\n      <td>-112.071989</td>\n      <td>Helena</td>\n      <td>MT</td>\n      <td>59601.0</td>\n      <td>...</td>\n      <td>260.78</td>\n      <td>135.0</td>\n      <td>t</td>\n      <td>f</td>\n      <td>2011-02-13</td>\n      <td>1fb4b9831e3d6eb4166ad1abaa84f45d</td>\n      <td>Smart Classroom In Need Of Smart Technology</td>\n      <td>Help us recognize our learning and creative po...</td>\n      <td>My students need materials, mosaic stones, til...</td>\n      <td>Help us recognize our learning and creative po...</td>\n    </tr>\n    <tr>\n      <th>166021</th>\n      <td>387473</td>\n      <td>eaede6c7d5b95ec9d7b618c85d5c9d5c</td>\n      <td>00fca35372d5c597c5d33ac2cbfd6dd8</td>\n      <td>cacdaef0b1a0307860ccd60b4a55598d</td>\n      <td>3.600079e+11</td>\n      <td>40.791367</td>\n      <td>-73.947866</td>\n      <td>New York</td>\n      <td>NY</td>\n      <td>10029.0</td>\n      <td>...</td>\n      <td>447.26</td>\n      <td>32.0</td>\n      <td>t</td>\n      <td>f</td>\n      <td>2011-01-31</td>\n      <td>00fca35372d5c597c5d33ac2cbfd6dd8</td>\n      <td>We Would Love to Utilize HP Wireless Printing</td>\n      <td>With these materials, an HP wireless printer a...</td>\n      <td>My students need an HP wireless printer and ink.</td>\n      <td>The less wires in a classroom the better! Tech...</td>\n    </tr>\n    <tr>\n      <th>166022</th>\n      <td>383218</td>\n      <td>860f3577e8945fb713494070243b15de</td>\n      <td>307f944f26888c7815c47956631c655a</td>\n      <td>541aa1e3442559a68a4734d319d62ccf</td>\n      <td>1.200870e+11</td>\n      <td>27.943546</td>\n      <td>-82.298340</td>\n      <td>Brandon</td>\n      <td>FL</td>\n      <td>33510.0</td>\n      <td>...</td>\n      <td>665.47</td>\n      <td>125.0</td>\n      <td>t</td>\n      <td>f</td>\n      <td>2011-02-13</td>\n      <td>307f944f26888c7815c47956631c655a</td>\n      <td>The Virtual Spanish Classroom: There's an App ...</td>\n      <td>My students need a tablet PC so they can use d...</td>\n      <td>My students need a Lenovo Netbook Tablet so th...</td>\n      <td>The multiple histories and cultures of the dif...</td>\n    </tr>\n    <tr>\n      <th>166023</th>\n      <td>14673</td>\n      <td>2b4cfa9df719a703dded8da8ae995ff1</td>\n      <td>2e4d3ad18725662cf11b1f6348c2c36a</td>\n      <td>a62b036a89621875db9c0d385a0d77f8</td>\n      <td>2.621150e+11</td>\n      <td>42.699628</td>\n      <td>-84.514779</td>\n      <td>Lansing</td>\n      <td>MI</td>\n      <td>48910.0</td>\n      <td>...</td>\n      <td>478.87</td>\n      <td>25.0</td>\n      <td>f</td>\n      <td>f</td>\n      <td>2014-03-22</td>\n      <td>2e4d3ad18725662cf11b1f6348c2c36a</td>\n      <td>Kindergartners CAN Read and Write!</td>\n      <td>Read it again, Mrs. Fortino!\" \"Can we put it o...</td>\n      <td>My students need MANY books by Eric Carle and ...</td>\n      <td>Read it again, Mrs. Fortino!\" \"Can we put it o...</td>\n    </tr>\n  </tbody>\n</table>\n<p>166024 rows × 41 columns</p>\n</div>"
     },
     "execution_count": 2,
     "metadata": {},
     "output_type": "execute_result"
    }
   ],
   "source": [
    "# Merging Projects with Essays, Outcomes, and Resources\n",
    "merged_df = projects_df.merge(essays_df, on='projectid', how='left')\n",
    "merged_df"
   ],
   "metadata": {
    "collapsed": false,
    "ExecuteTime": {
     "end_time": "2023-09-08T15:47:40.224808Z",
     "start_time": "2023-09-08T15:47:32.309264Z"
    }
   }
  },
  {
   "cell_type": "code",
   "execution_count": 3,
   "outputs": [
    {
     "data": {
      "text/plain": "        Unnamed: 0                         projectid  \\\n0             1062  dd291f97dc6b32b7c9f052794efc4929   \n1           277544  673d26170aeaf573d6e4c7565a65915b   \n2           388308  8f0e3bc89dc5304f71f167201242fa5e   \n3            77907  195d03cc23a38b2990dff4b81e774f28   \n4           523215  3c884a0ee29b7dea836b887d60d79c08   \n...            ...                               ...   \n166019      199335  32b34fea904ed58fe368fd382bc206c5   \n166020      383141  52cc035ca3e82620ef518acacf210fd9   \n166021      387473  eaede6c7d5b95ec9d7b618c85d5c9d5c   \n166022      383218  860f3577e8945fb713494070243b15de   \n166023       14673  2b4cfa9df719a703dded8da8ae995ff1   \n\n                        teacher_acctid_x                          schoolid  \\\n0       b98394d3a6221c59521a1985ad1696af  cebf1adb4f18927879baafbea1bf7895   \n1       0d7a6e32be3f2896ea319a2b1cf71bb5  bfae9533040b46a60a9d29eb76a2e008   \n2       e46076282af0b3483467992b38d64822  e2522cf2744a19c549d2990f7ef42a68   \n3       a17b7278f1038b0cd6ff697f865343db  4ff19db2d9b58202fdff46e041fa3f39   \n4       2350b8236de09f5e209714476d2e31a8  7da763ccf67ef06b9123c45edcec9ae1   \n...                                  ...                               ...   \n166019  661aa21922afef92fa1ff3aad8e3aadb  ed8e927636d436037f38a845cc87a75f   \n166020  1fb4b9831e3d6eb4166ad1abaa84f45d  1f6a9c4cc53886c8e267bb2ace747873   \n166021  00fca35372d5c597c5d33ac2cbfd6dd8  cacdaef0b1a0307860ccd60b4a55598d   \n166022  307f944f26888c7815c47956631c655a  541aa1e3442559a68a4734d319d62ccf   \n166023  2e4d3ad18725662cf11b1f6348c2c36a  a62b036a89621875db9c0d385a0d77f8   \n\n        school_ncesid  school_latitude  school_longitude    school_city  \\\n0        2.400090e+11        39.232740        -76.593257      Baltimore   \n1        6.228900e+10        33.954487       -118.081238  Santa Fe Spgs   \n2        6.343201e+10        32.747158       -117.208481      San Diego   \n3        2.502790e+11        42.326497        -71.070917        Roxbury   \n4        2.506210e+11        42.065704        -72.160109        Holland   \n...               ...              ...               ...            ...   \n166019   4.825740e+11        30.124562        -95.527444         Spring   \n166020   3.000005e+11        46.606198       -112.071989         Helena   \n166021   3.600079e+11        40.791367        -73.947866       New York   \n166022   1.200870e+11        27.943546        -82.298340        Brandon   \n166023   2.621150e+11        42.699628        -84.514779        Lansing   \n\n       school_state  school_zip  ... at_least_1_teacher_referred_donor  \\\n0                MD     21225.0  ...                               NaN   \n1                CA     90670.0  ...                                 f   \n2                CA     92110.0  ...                                 t   \n3                MA      2119.0  ...                                 f   \n4                MA      1521.0  ...                               NaN   \n...             ...         ...  ...                               ...   \n166019           TX     77389.0  ...                                 t   \n166020           MT     59601.0  ...                                 f   \n166021           NY     10029.0  ...                                 f   \n166022           FL     33510.0  ...                                 f   \n166023           MI     48910.0  ...                               NaN   \n\n       fully_funded at_least_1_green_donation great_chat  \\\n0               NaN                       NaN        NaN   \n1                 t                         t          f   \n2                 t                         t          t   \n3                 t                         t          f   \n4                 f                       NaN          f   \n...             ...                       ...        ...   \n166019            t                         t          f   \n166020            t                         f          f   \n166021            f                         f          t   \n166022            t                         t          f   \n166023          NaN                       NaN        NaN   \n\n       three_or_more_non_teacher_referred_donors  \\\n0                                            NaN   \n1                                              f   \n2                                              t   \n3                                              f   \n4                                            NaN   \n...                                          ...   \n166019                                         t   \n166020                                         f   \n166021                                         f   \n166022                                         t   \n166023                                       NaN   \n\n       one_non_teacher_referred_donor_giving_100_plus  \\\n0                                                 NaN   \n1                                                   t   \n2                                                   t   \n3                                                   f   \n4                                                 NaN   \n...                                               ...   \n166019                                              t   \n166020                                              t   \n166021                                              f   \n166022                                              f   \n166023                                            NaN   \n\n       donation_from_thoughtful_donor great_messages_proportion  \\\n0                                 NaN                       NaN   \n1                                   f                      50.0   \n2                                   f                      75.0   \n3                                   f                      33.0   \n4                                 NaN                       NaN   \n...                               ...                       ...   \n166019                              f                      50.0   \n166020                              f                       0.0   \n166021                              f                     100.0   \n166022                              f                       0.0   \n166023                            NaN                       NaN   \n\n       teacher_referred_count non_teacher_referred_count  \n0                         NaN                        NaN  \n1                         0.0                        2.0  \n2                         1.0                        4.0  \n3                         0.0                        2.0  \n4                         NaN                        NaN  \n...                       ...                        ...  \n166019                    1.0                        3.0  \n166020                    0.0                        2.0  \n166021                    0.0                        1.0  \n166022                    0.0                       18.0  \n166023                    NaN                        NaN  \n\n[166024 rows x 52 columns]",
      "text/html": "<div>\n<style scoped>\n    .dataframe tbody tr th:only-of-type {\n        vertical-align: middle;\n    }\n\n    .dataframe tbody tr th {\n        vertical-align: top;\n    }\n\n    .dataframe thead th {\n        text-align: right;\n    }\n</style>\n<table border=\"1\" class=\"dataframe\">\n  <thead>\n    <tr style=\"text-align: right;\">\n      <th></th>\n      <th>Unnamed: 0</th>\n      <th>projectid</th>\n      <th>teacher_acctid_x</th>\n      <th>schoolid</th>\n      <th>school_ncesid</th>\n      <th>school_latitude</th>\n      <th>school_longitude</th>\n      <th>school_city</th>\n      <th>school_state</th>\n      <th>school_zip</th>\n      <th>...</th>\n      <th>at_least_1_teacher_referred_donor</th>\n      <th>fully_funded</th>\n      <th>at_least_1_green_donation</th>\n      <th>great_chat</th>\n      <th>three_or_more_non_teacher_referred_donors</th>\n      <th>one_non_teacher_referred_donor_giving_100_plus</th>\n      <th>donation_from_thoughtful_donor</th>\n      <th>great_messages_proportion</th>\n      <th>teacher_referred_count</th>\n      <th>non_teacher_referred_count</th>\n    </tr>\n  </thead>\n  <tbody>\n    <tr>\n      <th>0</th>\n      <td>1062</td>\n      <td>dd291f97dc6b32b7c9f052794efc4929</td>\n      <td>b98394d3a6221c59521a1985ad1696af</td>\n      <td>cebf1adb4f18927879baafbea1bf7895</td>\n      <td>2.400090e+11</td>\n      <td>39.232740</td>\n      <td>-76.593257</td>\n      <td>Baltimore</td>\n      <td>MD</td>\n      <td>21225.0</td>\n      <td>...</td>\n      <td>NaN</td>\n      <td>NaN</td>\n      <td>NaN</td>\n      <td>NaN</td>\n      <td>NaN</td>\n      <td>NaN</td>\n      <td>NaN</td>\n      <td>NaN</td>\n      <td>NaN</td>\n      <td>NaN</td>\n    </tr>\n    <tr>\n      <th>1</th>\n      <td>277544</td>\n      <td>673d26170aeaf573d6e4c7565a65915b</td>\n      <td>0d7a6e32be3f2896ea319a2b1cf71bb5</td>\n      <td>bfae9533040b46a60a9d29eb76a2e008</td>\n      <td>6.228900e+10</td>\n      <td>33.954487</td>\n      <td>-118.081238</td>\n      <td>Santa Fe Spgs</td>\n      <td>CA</td>\n      <td>90670.0</td>\n      <td>...</td>\n      <td>f</td>\n      <td>t</td>\n      <td>t</td>\n      <td>f</td>\n      <td>f</td>\n      <td>t</td>\n      <td>f</td>\n      <td>50.0</td>\n      <td>0.0</td>\n      <td>2.0</td>\n    </tr>\n    <tr>\n      <th>2</th>\n      <td>388308</td>\n      <td>8f0e3bc89dc5304f71f167201242fa5e</td>\n      <td>e46076282af0b3483467992b38d64822</td>\n      <td>e2522cf2744a19c549d2990f7ef42a68</td>\n      <td>6.343201e+10</td>\n      <td>32.747158</td>\n      <td>-117.208481</td>\n      <td>San Diego</td>\n      <td>CA</td>\n      <td>92110.0</td>\n      <td>...</td>\n      <td>t</td>\n      <td>t</td>\n      <td>t</td>\n      <td>t</td>\n      <td>t</td>\n      <td>t</td>\n      <td>f</td>\n      <td>75.0</td>\n      <td>1.0</td>\n      <td>4.0</td>\n    </tr>\n    <tr>\n      <th>3</th>\n      <td>77907</td>\n      <td>195d03cc23a38b2990dff4b81e774f28</td>\n      <td>a17b7278f1038b0cd6ff697f865343db</td>\n      <td>4ff19db2d9b58202fdff46e041fa3f39</td>\n      <td>2.502790e+11</td>\n      <td>42.326497</td>\n      <td>-71.070917</td>\n      <td>Roxbury</td>\n      <td>MA</td>\n      <td>2119.0</td>\n      <td>...</td>\n      <td>f</td>\n      <td>t</td>\n      <td>t</td>\n      <td>f</td>\n      <td>f</td>\n      <td>f</td>\n      <td>f</td>\n      <td>33.0</td>\n      <td>0.0</td>\n      <td>2.0</td>\n    </tr>\n    <tr>\n      <th>4</th>\n      <td>523215</td>\n      <td>3c884a0ee29b7dea836b887d60d79c08</td>\n      <td>2350b8236de09f5e209714476d2e31a8</td>\n      <td>7da763ccf67ef06b9123c45edcec9ae1</td>\n      <td>2.506210e+11</td>\n      <td>42.065704</td>\n      <td>-72.160109</td>\n      <td>Holland</td>\n      <td>MA</td>\n      <td>1521.0</td>\n      <td>...</td>\n      <td>NaN</td>\n      <td>f</td>\n      <td>NaN</td>\n      <td>f</td>\n      <td>NaN</td>\n      <td>NaN</td>\n      <td>NaN</td>\n      <td>NaN</td>\n      <td>NaN</td>\n      <td>NaN</td>\n    </tr>\n    <tr>\n      <th>...</th>\n      <td>...</td>\n      <td>...</td>\n      <td>...</td>\n      <td>...</td>\n      <td>...</td>\n      <td>...</td>\n      <td>...</td>\n      <td>...</td>\n      <td>...</td>\n      <td>...</td>\n      <td>...</td>\n      <td>...</td>\n      <td>...</td>\n      <td>...</td>\n      <td>...</td>\n      <td>...</td>\n      <td>...</td>\n      <td>...</td>\n      <td>...</td>\n      <td>...</td>\n      <td>...</td>\n    </tr>\n    <tr>\n      <th>166019</th>\n      <td>199335</td>\n      <td>32b34fea904ed58fe368fd382bc206c5</td>\n      <td>661aa21922afef92fa1ff3aad8e3aadb</td>\n      <td>ed8e927636d436037f38a845cc87a75f</td>\n      <td>4.825740e+11</td>\n      <td>30.124562</td>\n      <td>-95.527444</td>\n      <td>Spring</td>\n      <td>TX</td>\n      <td>77389.0</td>\n      <td>...</td>\n      <td>t</td>\n      <td>t</td>\n      <td>t</td>\n      <td>f</td>\n      <td>t</td>\n      <td>t</td>\n      <td>f</td>\n      <td>50.0</td>\n      <td>1.0</td>\n      <td>3.0</td>\n    </tr>\n    <tr>\n      <th>166020</th>\n      <td>383141</td>\n      <td>52cc035ca3e82620ef518acacf210fd9</td>\n      <td>1fb4b9831e3d6eb4166ad1abaa84f45d</td>\n      <td>1f6a9c4cc53886c8e267bb2ace747873</td>\n      <td>3.000005e+11</td>\n      <td>46.606198</td>\n      <td>-112.071989</td>\n      <td>Helena</td>\n      <td>MT</td>\n      <td>59601.0</td>\n      <td>...</td>\n      <td>f</td>\n      <td>t</td>\n      <td>f</td>\n      <td>f</td>\n      <td>f</td>\n      <td>t</td>\n      <td>f</td>\n      <td>0.0</td>\n      <td>0.0</td>\n      <td>2.0</td>\n    </tr>\n    <tr>\n      <th>166021</th>\n      <td>387473</td>\n      <td>eaede6c7d5b95ec9d7b618c85d5c9d5c</td>\n      <td>00fca35372d5c597c5d33ac2cbfd6dd8</td>\n      <td>cacdaef0b1a0307860ccd60b4a55598d</td>\n      <td>3.600079e+11</td>\n      <td>40.791367</td>\n      <td>-73.947866</td>\n      <td>New York</td>\n      <td>NY</td>\n      <td>10029.0</td>\n      <td>...</td>\n      <td>f</td>\n      <td>f</td>\n      <td>f</td>\n      <td>t</td>\n      <td>f</td>\n      <td>f</td>\n      <td>f</td>\n      <td>100.0</td>\n      <td>0.0</td>\n      <td>1.0</td>\n    </tr>\n    <tr>\n      <th>166022</th>\n      <td>383218</td>\n      <td>860f3577e8945fb713494070243b15de</td>\n      <td>307f944f26888c7815c47956631c655a</td>\n      <td>541aa1e3442559a68a4734d319d62ccf</td>\n      <td>1.200870e+11</td>\n      <td>27.943546</td>\n      <td>-82.298340</td>\n      <td>Brandon</td>\n      <td>FL</td>\n      <td>33510.0</td>\n      <td>...</td>\n      <td>f</td>\n      <td>t</td>\n      <td>t</td>\n      <td>f</td>\n      <td>t</td>\n      <td>f</td>\n      <td>f</td>\n      <td>0.0</td>\n      <td>0.0</td>\n      <td>18.0</td>\n    </tr>\n    <tr>\n      <th>166023</th>\n      <td>14673</td>\n      <td>2b4cfa9df719a703dded8da8ae995ff1</td>\n      <td>2e4d3ad18725662cf11b1f6348c2c36a</td>\n      <td>a62b036a89621875db9c0d385a0d77f8</td>\n      <td>2.621150e+11</td>\n      <td>42.699628</td>\n      <td>-84.514779</td>\n      <td>Lansing</td>\n      <td>MI</td>\n      <td>48910.0</td>\n      <td>...</td>\n      <td>NaN</td>\n      <td>NaN</td>\n      <td>NaN</td>\n      <td>NaN</td>\n      <td>NaN</td>\n      <td>NaN</td>\n      <td>NaN</td>\n      <td>NaN</td>\n      <td>NaN</td>\n      <td>NaN</td>\n    </tr>\n  </tbody>\n</table>\n<p>166024 rows × 52 columns</p>\n</div>"
     },
     "execution_count": 3,
     "metadata": {},
     "output_type": "execute_result"
    }
   ],
   "source": [
    "merged_df = merged_df.merge(outcomes_df, on='projectid', how='left')\n",
    "merged_df"
   ],
   "metadata": {
    "collapsed": false,
    "ExecuteTime": {
     "end_time": "2023-09-08T15:48:47.084282Z",
     "start_time": "2023-09-08T15:48:43.921521Z"
    }
   }
  },
  {
   "cell_type": "code",
   "execution_count": 4,
   "outputs": [
    {
     "data": {
      "text/plain": "        Unnamed: 0                         projectid  \\\n0             1062  dd291f97dc6b32b7c9f052794efc4929   \n1           277544  673d26170aeaf573d6e4c7565a65915b   \n2           388308  8f0e3bc89dc5304f71f167201242fa5e   \n3            77907  195d03cc23a38b2990dff4b81e774f28   \n4           523215  3c884a0ee29b7dea836b887d60d79c08   \n...            ...                               ...   \n166019      199335  32b34fea904ed58fe368fd382bc206c5   \n166020      383141  52cc035ca3e82620ef518acacf210fd9   \n166021      387473  eaede6c7d5b95ec9d7b618c85d5c9d5c   \n166022      383218  860f3577e8945fb713494070243b15de   \n166023       14673  2b4cfa9df719a703dded8da8ae995ff1   \n\n                        teacher_acctid_x                          schoolid  \\\n0       b98394d3a6221c59521a1985ad1696af  cebf1adb4f18927879baafbea1bf7895   \n1       0d7a6e32be3f2896ea319a2b1cf71bb5  bfae9533040b46a60a9d29eb76a2e008   \n2       e46076282af0b3483467992b38d64822  e2522cf2744a19c549d2990f7ef42a68   \n3       a17b7278f1038b0cd6ff697f865343db  4ff19db2d9b58202fdff46e041fa3f39   \n4       2350b8236de09f5e209714476d2e31a8  7da763ccf67ef06b9123c45edcec9ae1   \n...                                  ...                               ...   \n166019  661aa21922afef92fa1ff3aad8e3aadb  ed8e927636d436037f38a845cc87a75f   \n166020  1fb4b9831e3d6eb4166ad1abaa84f45d  1f6a9c4cc53886c8e267bb2ace747873   \n166021  00fca35372d5c597c5d33ac2cbfd6dd8  cacdaef0b1a0307860ccd60b4a55598d   \n166022  307f944f26888c7815c47956631c655a  541aa1e3442559a68a4734d319d62ccf   \n166023  2e4d3ad18725662cf11b1f6348c2c36a  a62b036a89621875db9c0d385a0d77f8   \n\n        school_ncesid  school_latitude  school_longitude    school_city  \\\n0        2.400090e+11        39.232740        -76.593257      Baltimore   \n1        6.228900e+10        33.954487       -118.081238  Santa Fe Spgs   \n2        6.343201e+10        32.747158       -117.208481      San Diego   \n3        2.502790e+11        42.326497        -71.070917        Roxbury   \n4        2.506210e+11        42.065704        -72.160109        Holland   \n...               ...              ...               ...            ...   \n166019   4.825740e+11        30.124562        -95.527444         Spring   \n166020   3.000005e+11        46.606198       -112.071989         Helena   \n166021   3.600079e+11        40.791367        -73.947866       New York   \n166022   1.200870e+11        27.943546        -82.298340        Brandon   \n166023   2.621150e+11        42.699628        -84.514779        Lansing   \n\n       school_state  school_zip  ... at_least_1_green_donation great_chat  \\\n0                MD     21225.0  ...                       NaN        NaN   \n1                CA     90670.0  ...                         t          f   \n2                CA     92110.0  ...                         t          t   \n3                MA      2119.0  ...                         t          f   \n4                MA      1521.0  ...                       NaN          f   \n...             ...         ...  ...                       ...        ...   \n166019           TX     77389.0  ...                         t          f   \n166020           MT     59601.0  ...                         f          f   \n166021           NY     10029.0  ...                         f          t   \n166022           FL     33510.0  ...                         t          f   \n166023           MI     48910.0  ...                       NaN        NaN   \n\n       three_or_more_non_teacher_referred_donors  \\\n0                                            NaN   \n1                                              f   \n2                                              t   \n3                                              f   \n4                                            NaN   \n...                                          ...   \n166019                                         t   \n166020                                         f   \n166021                                         f   \n166022                                         t   \n166023                                       NaN   \n\n       one_non_teacher_referred_donor_giving_100_plus  \\\n0                                                 NaN   \n1                                                   t   \n2                                                   t   \n3                                                   f   \n4                                                 NaN   \n...                                               ...   \n166019                                              t   \n166020                                              t   \n166021                                              f   \n166022                                              f   \n166023                                            NaN   \n\n       donation_from_thoughtful_donor great_messages_proportion  \\\n0                                 NaN                       NaN   \n1                                   f                      50.0   \n2                                   f                      75.0   \n3                                   f                      33.0   \n4                                 NaN                       NaN   \n...                               ...                       ...   \n166019                              f                      50.0   \n166020                              f                       0.0   \n166021                              f                     100.0   \n166022                              f                       0.0   \n166023                            NaN                       NaN   \n\n       teacher_referred_count non_teacher_referred_count item_unit_price  \\\n0                         NaN                        NaN         1899.99   \n1                         0.0                        2.0           89.15   \n2                         1.0                        4.0          139.00   \n3                         0.0                        2.0           59.44   \n4                         NaN                        NaN          329.99   \n...                       ...                        ...             ...   \n166019                    1.0                        3.0          259.79   \n166020                    0.0                        2.0           53.78   \n166021                    0.0                        1.0          268.37   \n166022                    0.0                       18.0          510.99   \n166023                    NaN                        NaN          371.47   \n\n       item_quantity  \n0                1.0  \n1               21.0  \n2                1.0  \n3                7.0  \n4                1.0  \n...              ...  \n166019           5.0  \n166020          34.0  \n166021           5.0  \n166022           1.0  \n166023          58.0  \n\n[166024 rows x 54 columns]",
      "text/html": "<div>\n<style scoped>\n    .dataframe tbody tr th:only-of-type {\n        vertical-align: middle;\n    }\n\n    .dataframe tbody tr th {\n        vertical-align: top;\n    }\n\n    .dataframe thead th {\n        text-align: right;\n    }\n</style>\n<table border=\"1\" class=\"dataframe\">\n  <thead>\n    <tr style=\"text-align: right;\">\n      <th></th>\n      <th>Unnamed: 0</th>\n      <th>projectid</th>\n      <th>teacher_acctid_x</th>\n      <th>schoolid</th>\n      <th>school_ncesid</th>\n      <th>school_latitude</th>\n      <th>school_longitude</th>\n      <th>school_city</th>\n      <th>school_state</th>\n      <th>school_zip</th>\n      <th>...</th>\n      <th>at_least_1_green_donation</th>\n      <th>great_chat</th>\n      <th>three_or_more_non_teacher_referred_donors</th>\n      <th>one_non_teacher_referred_donor_giving_100_plus</th>\n      <th>donation_from_thoughtful_donor</th>\n      <th>great_messages_proportion</th>\n      <th>teacher_referred_count</th>\n      <th>non_teacher_referred_count</th>\n      <th>item_unit_price</th>\n      <th>item_quantity</th>\n    </tr>\n  </thead>\n  <tbody>\n    <tr>\n      <th>0</th>\n      <td>1062</td>\n      <td>dd291f97dc6b32b7c9f052794efc4929</td>\n      <td>b98394d3a6221c59521a1985ad1696af</td>\n      <td>cebf1adb4f18927879baafbea1bf7895</td>\n      <td>2.400090e+11</td>\n      <td>39.232740</td>\n      <td>-76.593257</td>\n      <td>Baltimore</td>\n      <td>MD</td>\n      <td>21225.0</td>\n      <td>...</td>\n      <td>NaN</td>\n      <td>NaN</td>\n      <td>NaN</td>\n      <td>NaN</td>\n      <td>NaN</td>\n      <td>NaN</td>\n      <td>NaN</td>\n      <td>NaN</td>\n      <td>1899.99</td>\n      <td>1.0</td>\n    </tr>\n    <tr>\n      <th>1</th>\n      <td>277544</td>\n      <td>673d26170aeaf573d6e4c7565a65915b</td>\n      <td>0d7a6e32be3f2896ea319a2b1cf71bb5</td>\n      <td>bfae9533040b46a60a9d29eb76a2e008</td>\n      <td>6.228900e+10</td>\n      <td>33.954487</td>\n      <td>-118.081238</td>\n      <td>Santa Fe Spgs</td>\n      <td>CA</td>\n      <td>90670.0</td>\n      <td>...</td>\n      <td>t</td>\n      <td>f</td>\n      <td>f</td>\n      <td>t</td>\n      <td>f</td>\n      <td>50.0</td>\n      <td>0.0</td>\n      <td>2.0</td>\n      <td>89.15</td>\n      <td>21.0</td>\n    </tr>\n    <tr>\n      <th>2</th>\n      <td>388308</td>\n      <td>8f0e3bc89dc5304f71f167201242fa5e</td>\n      <td>e46076282af0b3483467992b38d64822</td>\n      <td>e2522cf2744a19c549d2990f7ef42a68</td>\n      <td>6.343201e+10</td>\n      <td>32.747158</td>\n      <td>-117.208481</td>\n      <td>San Diego</td>\n      <td>CA</td>\n      <td>92110.0</td>\n      <td>...</td>\n      <td>t</td>\n      <td>t</td>\n      <td>t</td>\n      <td>t</td>\n      <td>f</td>\n      <td>75.0</td>\n      <td>1.0</td>\n      <td>4.0</td>\n      <td>139.00</td>\n      <td>1.0</td>\n    </tr>\n    <tr>\n      <th>3</th>\n      <td>77907</td>\n      <td>195d03cc23a38b2990dff4b81e774f28</td>\n      <td>a17b7278f1038b0cd6ff697f865343db</td>\n      <td>4ff19db2d9b58202fdff46e041fa3f39</td>\n      <td>2.502790e+11</td>\n      <td>42.326497</td>\n      <td>-71.070917</td>\n      <td>Roxbury</td>\n      <td>MA</td>\n      <td>2119.0</td>\n      <td>...</td>\n      <td>t</td>\n      <td>f</td>\n      <td>f</td>\n      <td>f</td>\n      <td>f</td>\n      <td>33.0</td>\n      <td>0.0</td>\n      <td>2.0</td>\n      <td>59.44</td>\n      <td>7.0</td>\n    </tr>\n    <tr>\n      <th>4</th>\n      <td>523215</td>\n      <td>3c884a0ee29b7dea836b887d60d79c08</td>\n      <td>2350b8236de09f5e209714476d2e31a8</td>\n      <td>7da763ccf67ef06b9123c45edcec9ae1</td>\n      <td>2.506210e+11</td>\n      <td>42.065704</td>\n      <td>-72.160109</td>\n      <td>Holland</td>\n      <td>MA</td>\n      <td>1521.0</td>\n      <td>...</td>\n      <td>NaN</td>\n      <td>f</td>\n      <td>NaN</td>\n      <td>NaN</td>\n      <td>NaN</td>\n      <td>NaN</td>\n      <td>NaN</td>\n      <td>NaN</td>\n      <td>329.99</td>\n      <td>1.0</td>\n    </tr>\n    <tr>\n      <th>...</th>\n      <td>...</td>\n      <td>...</td>\n      <td>...</td>\n      <td>...</td>\n      <td>...</td>\n      <td>...</td>\n      <td>...</td>\n      <td>...</td>\n      <td>...</td>\n      <td>...</td>\n      <td>...</td>\n      <td>...</td>\n      <td>...</td>\n      <td>...</td>\n      <td>...</td>\n      <td>...</td>\n      <td>...</td>\n      <td>...</td>\n      <td>...</td>\n      <td>...</td>\n      <td>...</td>\n    </tr>\n    <tr>\n      <th>166019</th>\n      <td>199335</td>\n      <td>32b34fea904ed58fe368fd382bc206c5</td>\n      <td>661aa21922afef92fa1ff3aad8e3aadb</td>\n      <td>ed8e927636d436037f38a845cc87a75f</td>\n      <td>4.825740e+11</td>\n      <td>30.124562</td>\n      <td>-95.527444</td>\n      <td>Spring</td>\n      <td>TX</td>\n      <td>77389.0</td>\n      <td>...</td>\n      <td>t</td>\n      <td>f</td>\n      <td>t</td>\n      <td>t</td>\n      <td>f</td>\n      <td>50.0</td>\n      <td>1.0</td>\n      <td>3.0</td>\n      <td>259.79</td>\n      <td>5.0</td>\n    </tr>\n    <tr>\n      <th>166020</th>\n      <td>383141</td>\n      <td>52cc035ca3e82620ef518acacf210fd9</td>\n      <td>1fb4b9831e3d6eb4166ad1abaa84f45d</td>\n      <td>1f6a9c4cc53886c8e267bb2ace747873</td>\n      <td>3.000005e+11</td>\n      <td>46.606198</td>\n      <td>-112.071989</td>\n      <td>Helena</td>\n      <td>MT</td>\n      <td>59601.0</td>\n      <td>...</td>\n      <td>f</td>\n      <td>f</td>\n      <td>f</td>\n      <td>t</td>\n      <td>f</td>\n      <td>0.0</td>\n      <td>0.0</td>\n      <td>2.0</td>\n      <td>53.78</td>\n      <td>34.0</td>\n    </tr>\n    <tr>\n      <th>166021</th>\n      <td>387473</td>\n      <td>eaede6c7d5b95ec9d7b618c85d5c9d5c</td>\n      <td>00fca35372d5c597c5d33ac2cbfd6dd8</td>\n      <td>cacdaef0b1a0307860ccd60b4a55598d</td>\n      <td>3.600079e+11</td>\n      <td>40.791367</td>\n      <td>-73.947866</td>\n      <td>New York</td>\n      <td>NY</td>\n      <td>10029.0</td>\n      <td>...</td>\n      <td>f</td>\n      <td>t</td>\n      <td>f</td>\n      <td>f</td>\n      <td>f</td>\n      <td>100.0</td>\n      <td>0.0</td>\n      <td>1.0</td>\n      <td>268.37</td>\n      <td>5.0</td>\n    </tr>\n    <tr>\n      <th>166022</th>\n      <td>383218</td>\n      <td>860f3577e8945fb713494070243b15de</td>\n      <td>307f944f26888c7815c47956631c655a</td>\n      <td>541aa1e3442559a68a4734d319d62ccf</td>\n      <td>1.200870e+11</td>\n      <td>27.943546</td>\n      <td>-82.298340</td>\n      <td>Brandon</td>\n      <td>FL</td>\n      <td>33510.0</td>\n      <td>...</td>\n      <td>t</td>\n      <td>f</td>\n      <td>t</td>\n      <td>f</td>\n      <td>f</td>\n      <td>0.0</td>\n      <td>0.0</td>\n      <td>18.0</td>\n      <td>510.99</td>\n      <td>1.0</td>\n    </tr>\n    <tr>\n      <th>166023</th>\n      <td>14673</td>\n      <td>2b4cfa9df719a703dded8da8ae995ff1</td>\n      <td>2e4d3ad18725662cf11b1f6348c2c36a</td>\n      <td>a62b036a89621875db9c0d385a0d77f8</td>\n      <td>2.621150e+11</td>\n      <td>42.699628</td>\n      <td>-84.514779</td>\n      <td>Lansing</td>\n      <td>MI</td>\n      <td>48910.0</td>\n      <td>...</td>\n      <td>NaN</td>\n      <td>NaN</td>\n      <td>NaN</td>\n      <td>NaN</td>\n      <td>NaN</td>\n      <td>NaN</td>\n      <td>NaN</td>\n      <td>NaN</td>\n      <td>371.47</td>\n      <td>58.0</td>\n    </tr>\n  </tbody>\n</table>\n<p>166024 rows × 54 columns</p>\n</div>"
     },
     "execution_count": 4,
     "metadata": {},
     "output_type": "execute_result"
    }
   ],
   "source": [
    "merged_df = merged_df.merge(resources_df.groupby('projectid').agg({'item_unit_price':'sum', 'item_quantity':'sum'}).reset_index(), on='projectid', how='left')\n",
    "merged_df"
   ],
   "metadata": {
    "collapsed": false,
    "ExecuteTime": {
     "end_time": "2023-09-08T15:49:45.846473Z",
     "start_time": "2023-09-08T15:49:41.067123Z"
    }
   }
  },
  {
   "cell_type": "code",
   "execution_count": 6,
   "outputs": [
    {
     "data": {
      "text/plain": "                               projectid  total_donations  unique_donors\n0       00001ccc0e81598c4bd86bacb94d7acb          1498.61              3\n1       00002bff514104264a6b798356fdd893           561.55              2\n2       00002d691c05c51a5fdfbb2baef0ba25           120.00              5\n3       0000b38bbc7252972f7984848cf58098           644.54              2\n4       0000ee613c92ddc5298bf63142996a5c           452.78              5\n...                                  ...              ...            ...\n525037  fffeebf4827d745aa36b17c2d38d1966           938.00              1\n525038  ffff2d9c769c8fb5335e949c615425eb           682.05              8\n525039  ffff418bb42fad24347527ad96100f81            25.00              1\n525040  ffff97ed93720407d70a2787475932b0           517.66              3\n525041  ffffac55ee02a49d1abc87ba6fc61135           221.91              7\n\n[525042 rows x 3 columns]",
      "text/html": "<div>\n<style scoped>\n    .dataframe tbody tr th:only-of-type {\n        vertical-align: middle;\n    }\n\n    .dataframe tbody tr th {\n        vertical-align: top;\n    }\n\n    .dataframe thead th {\n        text-align: right;\n    }\n</style>\n<table border=\"1\" class=\"dataframe\">\n  <thead>\n    <tr style=\"text-align: right;\">\n      <th></th>\n      <th>projectid</th>\n      <th>total_donations</th>\n      <th>unique_donors</th>\n    </tr>\n  </thead>\n  <tbody>\n    <tr>\n      <th>0</th>\n      <td>00001ccc0e81598c4bd86bacb94d7acb</td>\n      <td>1498.61</td>\n      <td>3</td>\n    </tr>\n    <tr>\n      <th>1</th>\n      <td>00002bff514104264a6b798356fdd893</td>\n      <td>561.55</td>\n      <td>2</td>\n    </tr>\n    <tr>\n      <th>2</th>\n      <td>00002d691c05c51a5fdfbb2baef0ba25</td>\n      <td>120.00</td>\n      <td>5</td>\n    </tr>\n    <tr>\n      <th>3</th>\n      <td>0000b38bbc7252972f7984848cf58098</td>\n      <td>644.54</td>\n      <td>2</td>\n    </tr>\n    <tr>\n      <th>4</th>\n      <td>0000ee613c92ddc5298bf63142996a5c</td>\n      <td>452.78</td>\n      <td>5</td>\n    </tr>\n    <tr>\n      <th>...</th>\n      <td>...</td>\n      <td>...</td>\n      <td>...</td>\n    </tr>\n    <tr>\n      <th>525037</th>\n      <td>fffeebf4827d745aa36b17c2d38d1966</td>\n      <td>938.00</td>\n      <td>1</td>\n    </tr>\n    <tr>\n      <th>525038</th>\n      <td>ffff2d9c769c8fb5335e949c615425eb</td>\n      <td>682.05</td>\n      <td>8</td>\n    </tr>\n    <tr>\n      <th>525039</th>\n      <td>ffff418bb42fad24347527ad96100f81</td>\n      <td>25.00</td>\n      <td>1</td>\n    </tr>\n    <tr>\n      <th>525040</th>\n      <td>ffff97ed93720407d70a2787475932b0</td>\n      <td>517.66</td>\n      <td>3</td>\n    </tr>\n    <tr>\n      <th>525041</th>\n      <td>ffffac55ee02a49d1abc87ba6fc61135</td>\n      <td>221.91</td>\n      <td>7</td>\n    </tr>\n  </tbody>\n</table>\n<p>525042 rows × 3 columns</p>\n</div>"
     },
     "execution_count": 6,
     "metadata": {},
     "output_type": "execute_result"
    }
   ],
   "source": [
    "# Merging Donations (aggregated) with the main merged dataframe\n",
    "donation_features = donations_df.groupby('projectid').agg({'donation_total':'sum', 'donor_acctid':'nunique'}).reset_index()\n",
    "donation_features.rename(columns={'donation_total':'total_donations', 'donor_acctid':'unique_donors'}, inplace=True)\n",
    "donation_features"
   ],
   "metadata": {
    "collapsed": false,
    "ExecuteTime": {
     "end_time": "2023-09-08T15:52:29.281013Z",
     "start_time": "2023-09-08T15:52:23.579880Z"
    }
   }
  },
  {
   "cell_type": "code",
   "execution_count": 7,
   "outputs": [
    {
     "data": {
      "text/plain": "        Unnamed: 0                         projectid  \\\n0             1062  dd291f97dc6b32b7c9f052794efc4929   \n1           277544  673d26170aeaf573d6e4c7565a65915b   \n2           388308  8f0e3bc89dc5304f71f167201242fa5e   \n3            77907  195d03cc23a38b2990dff4b81e774f28   \n4           523215  3c884a0ee29b7dea836b887d60d79c08   \n...            ...                               ...   \n166019      199335  32b34fea904ed58fe368fd382bc206c5   \n166020      383141  52cc035ca3e82620ef518acacf210fd9   \n166021      387473  eaede6c7d5b95ec9d7b618c85d5c9d5c   \n166022      383218  860f3577e8945fb713494070243b15de   \n166023       14673  2b4cfa9df719a703dded8da8ae995ff1   \n\n                        teacher_acctid_x                          schoolid  \\\n0       b98394d3a6221c59521a1985ad1696af  cebf1adb4f18927879baafbea1bf7895   \n1       0d7a6e32be3f2896ea319a2b1cf71bb5  bfae9533040b46a60a9d29eb76a2e008   \n2       e46076282af0b3483467992b38d64822  e2522cf2744a19c549d2990f7ef42a68   \n3       a17b7278f1038b0cd6ff697f865343db  4ff19db2d9b58202fdff46e041fa3f39   \n4       2350b8236de09f5e209714476d2e31a8  7da763ccf67ef06b9123c45edcec9ae1   \n...                                  ...                               ...   \n166019  661aa21922afef92fa1ff3aad8e3aadb  ed8e927636d436037f38a845cc87a75f   \n166020  1fb4b9831e3d6eb4166ad1abaa84f45d  1f6a9c4cc53886c8e267bb2ace747873   \n166021  00fca35372d5c597c5d33ac2cbfd6dd8  cacdaef0b1a0307860ccd60b4a55598d   \n166022  307f944f26888c7815c47956631c655a  541aa1e3442559a68a4734d319d62ccf   \n166023  2e4d3ad18725662cf11b1f6348c2c36a  a62b036a89621875db9c0d385a0d77f8   \n\n        school_ncesid  school_latitude  school_longitude    school_city  \\\n0        2.400090e+11        39.232740        -76.593257      Baltimore   \n1        6.228900e+10        33.954487       -118.081238  Santa Fe Spgs   \n2        6.343201e+10        32.747158       -117.208481      San Diego   \n3        2.502790e+11        42.326497        -71.070917        Roxbury   \n4        2.506210e+11        42.065704        -72.160109        Holland   \n...               ...              ...               ...            ...   \n166019   4.825740e+11        30.124562        -95.527444         Spring   \n166020   3.000005e+11        46.606198       -112.071989         Helena   \n166021   3.600079e+11        40.791367        -73.947866       New York   \n166022   1.200870e+11        27.943546        -82.298340        Brandon   \n166023   2.621150e+11        42.699628        -84.514779        Lansing   \n\n       school_state  school_zip  ...  \\\n0                MD     21225.0  ...   \n1                CA     90670.0  ...   \n2                CA     92110.0  ...   \n3                MA      2119.0  ...   \n4                MA      1521.0  ...   \n...             ...         ...  ...   \n166019           TX     77389.0  ...   \n166020           MT     59601.0  ...   \n166021           NY     10029.0  ...   \n166022           FL     33510.0  ...   \n166023           MI     48910.0  ...   \n\n       three_or_more_non_teacher_referred_donors  \\\n0                                            NaN   \n1                                              f   \n2                                              t   \n3                                              f   \n4                                            NaN   \n...                                          ...   \n166019                                         t   \n166020                                         f   \n166021                                         f   \n166022                                         t   \n166023                                       NaN   \n\n       one_non_teacher_referred_donor_giving_100_plus  \\\n0                                                 NaN   \n1                                                   t   \n2                                                   t   \n3                                                   f   \n4                                                 NaN   \n...                                               ...   \n166019                                              t   \n166020                                              t   \n166021                                              f   \n166022                                              f   \n166023                                            NaN   \n\n       donation_from_thoughtful_donor great_messages_proportion  \\\n0                                 NaN                       NaN   \n1                                   f                      50.0   \n2                                   f                      75.0   \n3                                   f                      33.0   \n4                                 NaN                       NaN   \n...                               ...                       ...   \n166019                              f                      50.0   \n166020                              f                       0.0   \n166021                              f                     100.0   \n166022                              f                       0.0   \n166023                            NaN                       NaN   \n\n       teacher_referred_count non_teacher_referred_count item_unit_price  \\\n0                         NaN                        NaN         1899.99   \n1                         0.0                        2.0           89.15   \n2                         1.0                        4.0          139.00   \n3                         0.0                        2.0           59.44   \n4                         NaN                        NaN          329.99   \n...                       ...                        ...             ...   \n166019                    1.0                        3.0          259.79   \n166020                    0.0                        2.0           53.78   \n166021                    0.0                        1.0          268.37   \n166022                    0.0                       18.0          510.99   \n166023                    NaN                        NaN          371.47   \n\n       item_quantity total_donations unique_donors  \n0                1.0             NaN           NaN  \n1               21.0          267.49           2.0  \n2                1.0          222.12           5.0  \n3                7.0          152.15           2.0  \n4                1.0             NaN           NaN  \n...              ...             ...           ...  \n166019           5.0          336.69           4.0  \n166020          34.0          260.78           2.0  \n166021           5.0           25.00           1.0  \n166022           1.0          665.47          18.0  \n166023          58.0             NaN           NaN  \n\n[166024 rows x 56 columns]",
      "text/html": "<div>\n<style scoped>\n    .dataframe tbody tr th:only-of-type {\n        vertical-align: middle;\n    }\n\n    .dataframe tbody tr th {\n        vertical-align: top;\n    }\n\n    .dataframe thead th {\n        text-align: right;\n    }\n</style>\n<table border=\"1\" class=\"dataframe\">\n  <thead>\n    <tr style=\"text-align: right;\">\n      <th></th>\n      <th>Unnamed: 0</th>\n      <th>projectid</th>\n      <th>teacher_acctid_x</th>\n      <th>schoolid</th>\n      <th>school_ncesid</th>\n      <th>school_latitude</th>\n      <th>school_longitude</th>\n      <th>school_city</th>\n      <th>school_state</th>\n      <th>school_zip</th>\n      <th>...</th>\n      <th>three_or_more_non_teacher_referred_donors</th>\n      <th>one_non_teacher_referred_donor_giving_100_plus</th>\n      <th>donation_from_thoughtful_donor</th>\n      <th>great_messages_proportion</th>\n      <th>teacher_referred_count</th>\n      <th>non_teacher_referred_count</th>\n      <th>item_unit_price</th>\n      <th>item_quantity</th>\n      <th>total_donations</th>\n      <th>unique_donors</th>\n    </tr>\n  </thead>\n  <tbody>\n    <tr>\n      <th>0</th>\n      <td>1062</td>\n      <td>dd291f97dc6b32b7c9f052794efc4929</td>\n      <td>b98394d3a6221c59521a1985ad1696af</td>\n      <td>cebf1adb4f18927879baafbea1bf7895</td>\n      <td>2.400090e+11</td>\n      <td>39.232740</td>\n      <td>-76.593257</td>\n      <td>Baltimore</td>\n      <td>MD</td>\n      <td>21225.0</td>\n      <td>...</td>\n      <td>NaN</td>\n      <td>NaN</td>\n      <td>NaN</td>\n      <td>NaN</td>\n      <td>NaN</td>\n      <td>NaN</td>\n      <td>1899.99</td>\n      <td>1.0</td>\n      <td>NaN</td>\n      <td>NaN</td>\n    </tr>\n    <tr>\n      <th>1</th>\n      <td>277544</td>\n      <td>673d26170aeaf573d6e4c7565a65915b</td>\n      <td>0d7a6e32be3f2896ea319a2b1cf71bb5</td>\n      <td>bfae9533040b46a60a9d29eb76a2e008</td>\n      <td>6.228900e+10</td>\n      <td>33.954487</td>\n      <td>-118.081238</td>\n      <td>Santa Fe Spgs</td>\n      <td>CA</td>\n      <td>90670.0</td>\n      <td>...</td>\n      <td>f</td>\n      <td>t</td>\n      <td>f</td>\n      <td>50.0</td>\n      <td>0.0</td>\n      <td>2.0</td>\n      <td>89.15</td>\n      <td>21.0</td>\n      <td>267.49</td>\n      <td>2.0</td>\n    </tr>\n    <tr>\n      <th>2</th>\n      <td>388308</td>\n      <td>8f0e3bc89dc5304f71f167201242fa5e</td>\n      <td>e46076282af0b3483467992b38d64822</td>\n      <td>e2522cf2744a19c549d2990f7ef42a68</td>\n      <td>6.343201e+10</td>\n      <td>32.747158</td>\n      <td>-117.208481</td>\n      <td>San Diego</td>\n      <td>CA</td>\n      <td>92110.0</td>\n      <td>...</td>\n      <td>t</td>\n      <td>t</td>\n      <td>f</td>\n      <td>75.0</td>\n      <td>1.0</td>\n      <td>4.0</td>\n      <td>139.00</td>\n      <td>1.0</td>\n      <td>222.12</td>\n      <td>5.0</td>\n    </tr>\n    <tr>\n      <th>3</th>\n      <td>77907</td>\n      <td>195d03cc23a38b2990dff4b81e774f28</td>\n      <td>a17b7278f1038b0cd6ff697f865343db</td>\n      <td>4ff19db2d9b58202fdff46e041fa3f39</td>\n      <td>2.502790e+11</td>\n      <td>42.326497</td>\n      <td>-71.070917</td>\n      <td>Roxbury</td>\n      <td>MA</td>\n      <td>2119.0</td>\n      <td>...</td>\n      <td>f</td>\n      <td>f</td>\n      <td>f</td>\n      <td>33.0</td>\n      <td>0.0</td>\n      <td>2.0</td>\n      <td>59.44</td>\n      <td>7.0</td>\n      <td>152.15</td>\n      <td>2.0</td>\n    </tr>\n    <tr>\n      <th>4</th>\n      <td>523215</td>\n      <td>3c884a0ee29b7dea836b887d60d79c08</td>\n      <td>2350b8236de09f5e209714476d2e31a8</td>\n      <td>7da763ccf67ef06b9123c45edcec9ae1</td>\n      <td>2.506210e+11</td>\n      <td>42.065704</td>\n      <td>-72.160109</td>\n      <td>Holland</td>\n      <td>MA</td>\n      <td>1521.0</td>\n      <td>...</td>\n      <td>NaN</td>\n      <td>NaN</td>\n      <td>NaN</td>\n      <td>NaN</td>\n      <td>NaN</td>\n      <td>NaN</td>\n      <td>329.99</td>\n      <td>1.0</td>\n      <td>NaN</td>\n      <td>NaN</td>\n    </tr>\n    <tr>\n      <th>...</th>\n      <td>...</td>\n      <td>...</td>\n      <td>...</td>\n      <td>...</td>\n      <td>...</td>\n      <td>...</td>\n      <td>...</td>\n      <td>...</td>\n      <td>...</td>\n      <td>...</td>\n      <td>...</td>\n      <td>...</td>\n      <td>...</td>\n      <td>...</td>\n      <td>...</td>\n      <td>...</td>\n      <td>...</td>\n      <td>...</td>\n      <td>...</td>\n      <td>...</td>\n      <td>...</td>\n    </tr>\n    <tr>\n      <th>166019</th>\n      <td>199335</td>\n      <td>32b34fea904ed58fe368fd382bc206c5</td>\n      <td>661aa21922afef92fa1ff3aad8e3aadb</td>\n      <td>ed8e927636d436037f38a845cc87a75f</td>\n      <td>4.825740e+11</td>\n      <td>30.124562</td>\n      <td>-95.527444</td>\n      <td>Spring</td>\n      <td>TX</td>\n      <td>77389.0</td>\n      <td>...</td>\n      <td>t</td>\n      <td>t</td>\n      <td>f</td>\n      <td>50.0</td>\n      <td>1.0</td>\n      <td>3.0</td>\n      <td>259.79</td>\n      <td>5.0</td>\n      <td>336.69</td>\n      <td>4.0</td>\n    </tr>\n    <tr>\n      <th>166020</th>\n      <td>383141</td>\n      <td>52cc035ca3e82620ef518acacf210fd9</td>\n      <td>1fb4b9831e3d6eb4166ad1abaa84f45d</td>\n      <td>1f6a9c4cc53886c8e267bb2ace747873</td>\n      <td>3.000005e+11</td>\n      <td>46.606198</td>\n      <td>-112.071989</td>\n      <td>Helena</td>\n      <td>MT</td>\n      <td>59601.0</td>\n      <td>...</td>\n      <td>f</td>\n      <td>t</td>\n      <td>f</td>\n      <td>0.0</td>\n      <td>0.0</td>\n      <td>2.0</td>\n      <td>53.78</td>\n      <td>34.0</td>\n      <td>260.78</td>\n      <td>2.0</td>\n    </tr>\n    <tr>\n      <th>166021</th>\n      <td>387473</td>\n      <td>eaede6c7d5b95ec9d7b618c85d5c9d5c</td>\n      <td>00fca35372d5c597c5d33ac2cbfd6dd8</td>\n      <td>cacdaef0b1a0307860ccd60b4a55598d</td>\n      <td>3.600079e+11</td>\n      <td>40.791367</td>\n      <td>-73.947866</td>\n      <td>New York</td>\n      <td>NY</td>\n      <td>10029.0</td>\n      <td>...</td>\n      <td>f</td>\n      <td>f</td>\n      <td>f</td>\n      <td>100.0</td>\n      <td>0.0</td>\n      <td>1.0</td>\n      <td>268.37</td>\n      <td>5.0</td>\n      <td>25.00</td>\n      <td>1.0</td>\n    </tr>\n    <tr>\n      <th>166022</th>\n      <td>383218</td>\n      <td>860f3577e8945fb713494070243b15de</td>\n      <td>307f944f26888c7815c47956631c655a</td>\n      <td>541aa1e3442559a68a4734d319d62ccf</td>\n      <td>1.200870e+11</td>\n      <td>27.943546</td>\n      <td>-82.298340</td>\n      <td>Brandon</td>\n      <td>FL</td>\n      <td>33510.0</td>\n      <td>...</td>\n      <td>t</td>\n      <td>f</td>\n      <td>f</td>\n      <td>0.0</td>\n      <td>0.0</td>\n      <td>18.0</td>\n      <td>510.99</td>\n      <td>1.0</td>\n      <td>665.47</td>\n      <td>18.0</td>\n    </tr>\n    <tr>\n      <th>166023</th>\n      <td>14673</td>\n      <td>2b4cfa9df719a703dded8da8ae995ff1</td>\n      <td>2e4d3ad18725662cf11b1f6348c2c36a</td>\n      <td>a62b036a89621875db9c0d385a0d77f8</td>\n      <td>2.621150e+11</td>\n      <td>42.699628</td>\n      <td>-84.514779</td>\n      <td>Lansing</td>\n      <td>MI</td>\n      <td>48910.0</td>\n      <td>...</td>\n      <td>NaN</td>\n      <td>NaN</td>\n      <td>NaN</td>\n      <td>NaN</td>\n      <td>NaN</td>\n      <td>NaN</td>\n      <td>371.47</td>\n      <td>58.0</td>\n      <td>NaN</td>\n      <td>NaN</td>\n    </tr>\n  </tbody>\n</table>\n<p>166024 rows × 56 columns</p>\n</div>"
     },
     "execution_count": 7,
     "metadata": {},
     "output_type": "execute_result"
    }
   ],
   "source": [
    "merged_df = merged_df.merge(donation_features, on='projectid', how='left')\n",
    "merged_df"
   ],
   "metadata": {
    "collapsed": false,
    "ExecuteTime": {
     "end_time": "2023-09-08T15:53:18.233867Z",
     "start_time": "2023-09-08T15:53:16.134480Z"
    }
   }
  },
  {
   "cell_type": "code",
   "execution_count": 12,
   "outputs": [
    {
     "ename": "KeyError",
     "evalue": "'resourceid'",
     "output_type": "error",
     "traceback": [
      "\u001B[0;31m---------------------------------------------------------------------------\u001B[0m",
      "\u001B[0;31mKeyError\u001B[0m                                  Traceback (most recent call last)",
      "File \u001B[0;32m~/git/CAAFE-Multiple-Tables/vevn/lib/python3.8/site-packages/pandas/core/indexes/base.py:3653\u001B[0m, in \u001B[0;36mIndex.get_loc\u001B[0;34m(self, key)\u001B[0m\n\u001B[1;32m   3652\u001B[0m \u001B[38;5;28;01mtry\u001B[39;00m:\n\u001B[0;32m-> 3653\u001B[0m     \u001B[38;5;28;01mreturn\u001B[39;00m \u001B[38;5;28;43mself\u001B[39;49m\u001B[38;5;241;43m.\u001B[39;49m\u001B[43m_engine\u001B[49m\u001B[38;5;241;43m.\u001B[39;49m\u001B[43mget_loc\u001B[49m\u001B[43m(\u001B[49m\u001B[43mcasted_key\u001B[49m\u001B[43m)\u001B[49m\n\u001B[1;32m   3654\u001B[0m \u001B[38;5;28;01mexcept\u001B[39;00m \u001B[38;5;167;01mKeyError\u001B[39;00m \u001B[38;5;28;01mas\u001B[39;00m err:\n",
      "File \u001B[0;32m~/git/CAAFE-Multiple-Tables/vevn/lib/python3.8/site-packages/pandas/_libs/index.pyx:147\u001B[0m, in \u001B[0;36mpandas._libs.index.IndexEngine.get_loc\u001B[0;34m()\u001B[0m\n",
      "File \u001B[0;32m~/git/CAAFE-Multiple-Tables/vevn/lib/python3.8/site-packages/pandas/_libs/index.pyx:176\u001B[0m, in \u001B[0;36mpandas._libs.index.IndexEngine.get_loc\u001B[0;34m()\u001B[0m\n",
      "File \u001B[0;32mpandas/_libs/hashtable_class_helper.pxi:7080\u001B[0m, in \u001B[0;36mpandas._libs.hashtable.PyObjectHashTable.get_item\u001B[0;34m()\u001B[0m\n",
      "File \u001B[0;32mpandas/_libs/hashtable_class_helper.pxi:7088\u001B[0m, in \u001B[0;36mpandas._libs.hashtable.PyObjectHashTable.get_item\u001B[0;34m()\u001B[0m\n",
      "\u001B[0;31mKeyError\u001B[0m: 'resourceid'",
      "\nThe above exception was the direct cause of the following exception:\n",
      "\u001B[0;31mKeyError\u001B[0m                                  Traceback (most recent call last)",
      "Cell \u001B[0;32mIn[12], line 5\u001B[0m\n\u001B[1;32m      1\u001B[0m \u001B[38;5;66;03m# Feature name and description: total_cost_of_project - Sum of total price including optional support and total donations\u001B[39;00m\n\u001B[1;32m      2\u001B[0m \u001B[38;5;66;03m# Usefulness: This feature could help in determining how financially heavy a project is, which could be related to its 'exciting' status.\u001B[39;00m\n\u001B[1;32m      3\u001B[0m \u001B[38;5;66;03m# Input samples: 'total_price_including_optional_support': [2527.64, 267.49, 222.12], 'total_donations': [2300.0, 267.49, 222.12]\u001B[39;00m\n\u001B[1;32m      4\u001B[0m merged_df[\u001B[38;5;124m'\u001B[39m\u001B[38;5;124mtotal_cost_of_project\u001B[39m\u001B[38;5;124m'\u001B[39m] \u001B[38;5;241m=\u001B[39m merged_df[\u001B[38;5;124m'\u001B[39m\u001B[38;5;124mtotal_price_including_optional_support\u001B[39m\u001B[38;5;124m'\u001B[39m] \u001B[38;5;241m+\u001B[39m merged_df[\u001B[38;5;124m'\u001B[39m\u001B[38;5;124mtotal_donations\u001B[39m\u001B[38;5;124m'\u001B[39m]\u001B[38;5;241m.\u001B[39mfillna(\u001B[38;5;241m0\u001B[39m)\n\u001B[0;32m----> 5\u001B[0m \u001B[43mmerged_df\u001B[49m\u001B[43m[\u001B[49m\u001B[38;5;124;43m'\u001B[39;49m\u001B[38;5;124;43mresourceid\u001B[39;49m\u001B[38;5;124;43m'\u001B[39;49m\u001B[43m]\u001B[49m\n",
      "File \u001B[0;32m~/git/CAAFE-Multiple-Tables/vevn/lib/python3.8/site-packages/pandas/core/frame.py:3761\u001B[0m, in \u001B[0;36mDataFrame.__getitem__\u001B[0;34m(self, key)\u001B[0m\n\u001B[1;32m   3759\u001B[0m \u001B[38;5;28;01mif\u001B[39;00m \u001B[38;5;28mself\u001B[39m\u001B[38;5;241m.\u001B[39mcolumns\u001B[38;5;241m.\u001B[39mnlevels \u001B[38;5;241m>\u001B[39m \u001B[38;5;241m1\u001B[39m:\n\u001B[1;32m   3760\u001B[0m     \u001B[38;5;28;01mreturn\u001B[39;00m \u001B[38;5;28mself\u001B[39m\u001B[38;5;241m.\u001B[39m_getitem_multilevel(key)\n\u001B[0;32m-> 3761\u001B[0m indexer \u001B[38;5;241m=\u001B[39m \u001B[38;5;28;43mself\u001B[39;49m\u001B[38;5;241;43m.\u001B[39;49m\u001B[43mcolumns\u001B[49m\u001B[38;5;241;43m.\u001B[39;49m\u001B[43mget_loc\u001B[49m\u001B[43m(\u001B[49m\u001B[43mkey\u001B[49m\u001B[43m)\u001B[49m\n\u001B[1;32m   3762\u001B[0m \u001B[38;5;28;01mif\u001B[39;00m is_integer(indexer):\n\u001B[1;32m   3763\u001B[0m     indexer \u001B[38;5;241m=\u001B[39m [indexer]\n",
      "File \u001B[0;32m~/git/CAAFE-Multiple-Tables/vevn/lib/python3.8/site-packages/pandas/core/indexes/base.py:3655\u001B[0m, in \u001B[0;36mIndex.get_loc\u001B[0;34m(self, key)\u001B[0m\n\u001B[1;32m   3653\u001B[0m     \u001B[38;5;28;01mreturn\u001B[39;00m \u001B[38;5;28mself\u001B[39m\u001B[38;5;241m.\u001B[39m_engine\u001B[38;5;241m.\u001B[39mget_loc(casted_key)\n\u001B[1;32m   3654\u001B[0m \u001B[38;5;28;01mexcept\u001B[39;00m \u001B[38;5;167;01mKeyError\u001B[39;00m \u001B[38;5;28;01mas\u001B[39;00m err:\n\u001B[0;32m-> 3655\u001B[0m     \u001B[38;5;28;01mraise\u001B[39;00m \u001B[38;5;167;01mKeyError\u001B[39;00m(key) \u001B[38;5;28;01mfrom\u001B[39;00m \u001B[38;5;21;01merr\u001B[39;00m\n\u001B[1;32m   3656\u001B[0m \u001B[38;5;28;01mexcept\u001B[39;00m \u001B[38;5;167;01mTypeError\u001B[39;00m:\n\u001B[1;32m   3657\u001B[0m     \u001B[38;5;66;03m# If we have a listlike key, _check_indexing_error will raise\u001B[39;00m\n\u001B[1;32m   3658\u001B[0m     \u001B[38;5;66;03m#  InvalidIndexError. Otherwise we fall through and re-raise\u001B[39;00m\n\u001B[1;32m   3659\u001B[0m     \u001B[38;5;66;03m#  the TypeError.\u001B[39;00m\n\u001B[1;32m   3660\u001B[0m     \u001B[38;5;28mself\u001B[39m\u001B[38;5;241m.\u001B[39m_check_indexing_error(key)\n",
      "\u001B[0;31mKeyError\u001B[0m: 'resourceid'"
     ]
    }
   ],
   "source": [
    "# Feature name and description: total_cost_of_project - Sum of total price including optional support and total donations\n",
    "# Usefulness: This feature could help in determining how financially heavy a project is, which could be related to its 'exciting' status.\n",
    "# Input samples: 'total_price_including_optional_support': [2527.64, 267.49, 222.12], 'total_donations': [2300.0, 267.49, 222.12]\n",
    "merged_df['total_cost_of_project'] = merged_df['total_price_including_optional_support'] + merged_df['total_donations'].fillna(0)"
   ],
   "metadata": {
    "collapsed": false,
    "ExecuteTime": {
     "end_time": "2023-09-08T15:55:56.136861Z",
     "start_time": "2023-09-08T15:55:55.224007Z"
    }
   }
  },
  {
   "cell_type": "code",
   "execution_count": 9,
   "outputs": [],
   "source": [
    "# Feature name and description: total_items_needed - Total quantity of items needed for the project\n",
    "# Usefulness: A project requiring a large number of items may be more 'exciting' due to its scale.\n",
    "# Input samples: 'item_quantity': [1.0, 8.0, 5.0]\n",
    "merged_df['total_items_needed'] = merged_df['item_quantity'].fillna(0)"
   ],
   "metadata": {
    "collapsed": false,
    "ExecuteTime": {
     "end_time": "2023-09-08T15:54:48.516574Z",
     "start_time": "2023-09-08T15:54:48.470345Z"
    }
   }
  },
  {
   "cell_type": "code",
   "execution_count": 13,
   "outputs": [
    {
     "data": {
      "text/plain": "        Unnamed: 0                         projectid  \\\n0             1062  dd291f97dc6b32b7c9f052794efc4929   \n1           277544  673d26170aeaf573d6e4c7565a65915b   \n2           388308  8f0e3bc89dc5304f71f167201242fa5e   \n3            77907  195d03cc23a38b2990dff4b81e774f28   \n4           523215  3c884a0ee29b7dea836b887d60d79c08   \n...            ...                               ...   \n166019      199335  32b34fea904ed58fe368fd382bc206c5   \n166020      383141  52cc035ca3e82620ef518acacf210fd9   \n166021      387473  eaede6c7d5b95ec9d7b618c85d5c9d5c   \n166022      383218  860f3577e8945fb713494070243b15de   \n166023       14673  2b4cfa9df719a703dded8da8ae995ff1   \n\n                        teacher_acctid_x                          schoolid  \\\n0       b98394d3a6221c59521a1985ad1696af  cebf1adb4f18927879baafbea1bf7895   \n1       0d7a6e32be3f2896ea319a2b1cf71bb5  bfae9533040b46a60a9d29eb76a2e008   \n2       e46076282af0b3483467992b38d64822  e2522cf2744a19c549d2990f7ef42a68   \n3       a17b7278f1038b0cd6ff697f865343db  4ff19db2d9b58202fdff46e041fa3f39   \n4       2350b8236de09f5e209714476d2e31a8  7da763ccf67ef06b9123c45edcec9ae1   \n...                                  ...                               ...   \n166019  661aa21922afef92fa1ff3aad8e3aadb  ed8e927636d436037f38a845cc87a75f   \n166020  1fb4b9831e3d6eb4166ad1abaa84f45d  1f6a9c4cc53886c8e267bb2ace747873   \n166021  00fca35372d5c597c5d33ac2cbfd6dd8  cacdaef0b1a0307860ccd60b4a55598d   \n166022  307f944f26888c7815c47956631c655a  541aa1e3442559a68a4734d319d62ccf   \n166023  2e4d3ad18725662cf11b1f6348c2c36a  a62b036a89621875db9c0d385a0d77f8   \n\n        school_ncesid  school_latitude  school_longitude    school_city  \\\n0        2.400090e+11        39.232740        -76.593257      Baltimore   \n1        6.228900e+10        33.954487       -118.081238  Santa Fe Spgs   \n2        6.343201e+10        32.747158       -117.208481      San Diego   \n3        2.502790e+11        42.326497        -71.070917        Roxbury   \n4        2.506210e+11        42.065704        -72.160109        Holland   \n...               ...              ...               ...            ...   \n166019   4.825740e+11        30.124562        -95.527444         Spring   \n166020   3.000005e+11        46.606198       -112.071989         Helena   \n166021   3.600079e+11        40.791367        -73.947866       New York   \n166022   1.200870e+11        27.943546        -82.298340        Brandon   \n166023   2.621150e+11        42.699628        -84.514779        Lansing   \n\n       school_state  school_zip  ... great_messages_proportion  \\\n0                MD     21225.0  ...                       NaN   \n1                CA     90670.0  ...                      50.0   \n2                CA     92110.0  ...                      75.0   \n3                MA      2119.0  ...                      33.0   \n4                MA      1521.0  ...                       NaN   \n...             ...         ...  ...                       ...   \n166019           TX     77389.0  ...                      50.0   \n166020           MT     59601.0  ...                       0.0   \n166021           NY     10029.0  ...                     100.0   \n166022           FL     33510.0  ...                       0.0   \n166023           MI     48910.0  ...                       NaN   \n\n       teacher_referred_count non_teacher_referred_count item_unit_price  \\\n0                         NaN                        NaN         1899.99   \n1                         0.0                        2.0           89.15   \n2                         1.0                        4.0          139.00   \n3                         0.0                        2.0           59.44   \n4                         NaN                        NaN          329.99   \n...                       ...                        ...             ...   \n166019                    1.0                        3.0          259.79   \n166020                    0.0                        2.0           53.78   \n166021                    0.0                        1.0          268.37   \n166022                    0.0                       18.0          510.99   \n166023                    NaN                        NaN          371.47   \n\n       item_quantity total_donations unique_donors total_cost_of_project  \\\n0                1.0             NaN           NaN               2527.64   \n1               21.0          267.49           2.0                534.98   \n2                1.0          222.12           5.0                444.24   \n3                7.0          152.15           2.0                321.77   \n4                1.0             NaN           NaN                473.46   \n...              ...             ...           ...                   ...   \n166019           5.0          336.69           4.0                682.21   \n166020          34.0          260.78           2.0                521.56   \n166021           5.0           25.00           1.0                472.26   \n166022           1.0          665.47          18.0               1330.94   \n166023          58.0             NaN           NaN                478.87   \n\n       total_items_needed unique_donors_per_project  \n0                     1.0                       0.0  \n1                    21.0                       2.0  \n2                     1.0                       5.0  \n3                     7.0                       2.0  \n4                     1.0                       0.0  \n...                   ...                       ...  \n166019                5.0                       4.0  \n166020               34.0                       2.0  \n166021                5.0                       1.0  \n166022                1.0                      18.0  \n166023               58.0                       0.0  \n\n[166024 rows x 59 columns]",
      "text/html": "<div>\n<style scoped>\n    .dataframe tbody tr th:only-of-type {\n        vertical-align: middle;\n    }\n\n    .dataframe tbody tr th {\n        vertical-align: top;\n    }\n\n    .dataframe thead th {\n        text-align: right;\n    }\n</style>\n<table border=\"1\" class=\"dataframe\">\n  <thead>\n    <tr style=\"text-align: right;\">\n      <th></th>\n      <th>Unnamed: 0</th>\n      <th>projectid</th>\n      <th>teacher_acctid_x</th>\n      <th>schoolid</th>\n      <th>school_ncesid</th>\n      <th>school_latitude</th>\n      <th>school_longitude</th>\n      <th>school_city</th>\n      <th>school_state</th>\n      <th>school_zip</th>\n      <th>...</th>\n      <th>great_messages_proportion</th>\n      <th>teacher_referred_count</th>\n      <th>non_teacher_referred_count</th>\n      <th>item_unit_price</th>\n      <th>item_quantity</th>\n      <th>total_donations</th>\n      <th>unique_donors</th>\n      <th>total_cost_of_project</th>\n      <th>total_items_needed</th>\n      <th>unique_donors_per_project</th>\n    </tr>\n  </thead>\n  <tbody>\n    <tr>\n      <th>0</th>\n      <td>1062</td>\n      <td>dd291f97dc6b32b7c9f052794efc4929</td>\n      <td>b98394d3a6221c59521a1985ad1696af</td>\n      <td>cebf1adb4f18927879baafbea1bf7895</td>\n      <td>2.400090e+11</td>\n      <td>39.232740</td>\n      <td>-76.593257</td>\n      <td>Baltimore</td>\n      <td>MD</td>\n      <td>21225.0</td>\n      <td>...</td>\n      <td>NaN</td>\n      <td>NaN</td>\n      <td>NaN</td>\n      <td>1899.99</td>\n      <td>1.0</td>\n      <td>NaN</td>\n      <td>NaN</td>\n      <td>2527.64</td>\n      <td>1.0</td>\n      <td>0.0</td>\n    </tr>\n    <tr>\n      <th>1</th>\n      <td>277544</td>\n      <td>673d26170aeaf573d6e4c7565a65915b</td>\n      <td>0d7a6e32be3f2896ea319a2b1cf71bb5</td>\n      <td>bfae9533040b46a60a9d29eb76a2e008</td>\n      <td>6.228900e+10</td>\n      <td>33.954487</td>\n      <td>-118.081238</td>\n      <td>Santa Fe Spgs</td>\n      <td>CA</td>\n      <td>90670.0</td>\n      <td>...</td>\n      <td>50.0</td>\n      <td>0.0</td>\n      <td>2.0</td>\n      <td>89.15</td>\n      <td>21.0</td>\n      <td>267.49</td>\n      <td>2.0</td>\n      <td>534.98</td>\n      <td>21.0</td>\n      <td>2.0</td>\n    </tr>\n    <tr>\n      <th>2</th>\n      <td>388308</td>\n      <td>8f0e3bc89dc5304f71f167201242fa5e</td>\n      <td>e46076282af0b3483467992b38d64822</td>\n      <td>e2522cf2744a19c549d2990f7ef42a68</td>\n      <td>6.343201e+10</td>\n      <td>32.747158</td>\n      <td>-117.208481</td>\n      <td>San Diego</td>\n      <td>CA</td>\n      <td>92110.0</td>\n      <td>...</td>\n      <td>75.0</td>\n      <td>1.0</td>\n      <td>4.0</td>\n      <td>139.00</td>\n      <td>1.0</td>\n      <td>222.12</td>\n      <td>5.0</td>\n      <td>444.24</td>\n      <td>1.0</td>\n      <td>5.0</td>\n    </tr>\n    <tr>\n      <th>3</th>\n      <td>77907</td>\n      <td>195d03cc23a38b2990dff4b81e774f28</td>\n      <td>a17b7278f1038b0cd6ff697f865343db</td>\n      <td>4ff19db2d9b58202fdff46e041fa3f39</td>\n      <td>2.502790e+11</td>\n      <td>42.326497</td>\n      <td>-71.070917</td>\n      <td>Roxbury</td>\n      <td>MA</td>\n      <td>2119.0</td>\n      <td>...</td>\n      <td>33.0</td>\n      <td>0.0</td>\n      <td>2.0</td>\n      <td>59.44</td>\n      <td>7.0</td>\n      <td>152.15</td>\n      <td>2.0</td>\n      <td>321.77</td>\n      <td>7.0</td>\n      <td>2.0</td>\n    </tr>\n    <tr>\n      <th>4</th>\n      <td>523215</td>\n      <td>3c884a0ee29b7dea836b887d60d79c08</td>\n      <td>2350b8236de09f5e209714476d2e31a8</td>\n      <td>7da763ccf67ef06b9123c45edcec9ae1</td>\n      <td>2.506210e+11</td>\n      <td>42.065704</td>\n      <td>-72.160109</td>\n      <td>Holland</td>\n      <td>MA</td>\n      <td>1521.0</td>\n      <td>...</td>\n      <td>NaN</td>\n      <td>NaN</td>\n      <td>NaN</td>\n      <td>329.99</td>\n      <td>1.0</td>\n      <td>NaN</td>\n      <td>NaN</td>\n      <td>473.46</td>\n      <td>1.0</td>\n      <td>0.0</td>\n    </tr>\n    <tr>\n      <th>...</th>\n      <td>...</td>\n      <td>...</td>\n      <td>...</td>\n      <td>...</td>\n      <td>...</td>\n      <td>...</td>\n      <td>...</td>\n      <td>...</td>\n      <td>...</td>\n      <td>...</td>\n      <td>...</td>\n      <td>...</td>\n      <td>...</td>\n      <td>...</td>\n      <td>...</td>\n      <td>...</td>\n      <td>...</td>\n      <td>...</td>\n      <td>...</td>\n      <td>...</td>\n      <td>...</td>\n    </tr>\n    <tr>\n      <th>166019</th>\n      <td>199335</td>\n      <td>32b34fea904ed58fe368fd382bc206c5</td>\n      <td>661aa21922afef92fa1ff3aad8e3aadb</td>\n      <td>ed8e927636d436037f38a845cc87a75f</td>\n      <td>4.825740e+11</td>\n      <td>30.124562</td>\n      <td>-95.527444</td>\n      <td>Spring</td>\n      <td>TX</td>\n      <td>77389.0</td>\n      <td>...</td>\n      <td>50.0</td>\n      <td>1.0</td>\n      <td>3.0</td>\n      <td>259.79</td>\n      <td>5.0</td>\n      <td>336.69</td>\n      <td>4.0</td>\n      <td>682.21</td>\n      <td>5.0</td>\n      <td>4.0</td>\n    </tr>\n    <tr>\n      <th>166020</th>\n      <td>383141</td>\n      <td>52cc035ca3e82620ef518acacf210fd9</td>\n      <td>1fb4b9831e3d6eb4166ad1abaa84f45d</td>\n      <td>1f6a9c4cc53886c8e267bb2ace747873</td>\n      <td>3.000005e+11</td>\n      <td>46.606198</td>\n      <td>-112.071989</td>\n      <td>Helena</td>\n      <td>MT</td>\n      <td>59601.0</td>\n      <td>...</td>\n      <td>0.0</td>\n      <td>0.0</td>\n      <td>2.0</td>\n      <td>53.78</td>\n      <td>34.0</td>\n      <td>260.78</td>\n      <td>2.0</td>\n      <td>521.56</td>\n      <td>34.0</td>\n      <td>2.0</td>\n    </tr>\n    <tr>\n      <th>166021</th>\n      <td>387473</td>\n      <td>eaede6c7d5b95ec9d7b618c85d5c9d5c</td>\n      <td>00fca35372d5c597c5d33ac2cbfd6dd8</td>\n      <td>cacdaef0b1a0307860ccd60b4a55598d</td>\n      <td>3.600079e+11</td>\n      <td>40.791367</td>\n      <td>-73.947866</td>\n      <td>New York</td>\n      <td>NY</td>\n      <td>10029.0</td>\n      <td>...</td>\n      <td>100.0</td>\n      <td>0.0</td>\n      <td>1.0</td>\n      <td>268.37</td>\n      <td>5.0</td>\n      <td>25.00</td>\n      <td>1.0</td>\n      <td>472.26</td>\n      <td>5.0</td>\n      <td>1.0</td>\n    </tr>\n    <tr>\n      <th>166022</th>\n      <td>383218</td>\n      <td>860f3577e8945fb713494070243b15de</td>\n      <td>307f944f26888c7815c47956631c655a</td>\n      <td>541aa1e3442559a68a4734d319d62ccf</td>\n      <td>1.200870e+11</td>\n      <td>27.943546</td>\n      <td>-82.298340</td>\n      <td>Brandon</td>\n      <td>FL</td>\n      <td>33510.0</td>\n      <td>...</td>\n      <td>0.0</td>\n      <td>0.0</td>\n      <td>18.0</td>\n      <td>510.99</td>\n      <td>1.0</td>\n      <td>665.47</td>\n      <td>18.0</td>\n      <td>1330.94</td>\n      <td>1.0</td>\n      <td>18.0</td>\n    </tr>\n    <tr>\n      <th>166023</th>\n      <td>14673</td>\n      <td>2b4cfa9df719a703dded8da8ae995ff1</td>\n      <td>2e4d3ad18725662cf11b1f6348c2c36a</td>\n      <td>a62b036a89621875db9c0d385a0d77f8</td>\n      <td>2.621150e+11</td>\n      <td>42.699628</td>\n      <td>-84.514779</td>\n      <td>Lansing</td>\n      <td>MI</td>\n      <td>48910.0</td>\n      <td>...</td>\n      <td>NaN</td>\n      <td>NaN</td>\n      <td>NaN</td>\n      <td>371.47</td>\n      <td>58.0</td>\n      <td>NaN</td>\n      <td>NaN</td>\n      <td>478.87</td>\n      <td>58.0</td>\n      <td>0.0</td>\n    </tr>\n  </tbody>\n</table>\n<p>166024 rows × 59 columns</p>\n</div>"
     },
     "execution_count": 13,
     "metadata": {},
     "output_type": "execute_result"
    }
   ],
   "source": [
    "# Feature name and description: unique_donors_per_project - Number of unique donors for each project\n",
    "# Usefulness: More unique donors could indicate higher excitement around the project.\n",
    "# Input samples: 'unique_donors': [2, 5, 1]\n",
    "merged_df['unique_donors_per_project'] = merged_df['unique_donors'].fillna(0)\n",
    "merged_df"
   ],
   "metadata": {
    "collapsed": false,
    "ExecuteTime": {
     "end_time": "2023-09-08T15:57:11.783514Z",
     "start_time": "2023-09-08T15:57:11.447982Z"
    }
   }
  },
  {
   "cell_type": "code",
   "execution_count": 14,
   "outputs": [
    {
     "data": {
      "text/plain": "Index(['Unnamed: 0', 'projectid', 'teacher_acctid_x', 'schoolid',\n       'school_ncesid', 'school_latitude', 'school_longitude', 'school_city',\n       'school_state', 'school_zip', 'school_metro', 'school_district',\n       'school_county', 'school_charter', 'school_magnet', 'school_year_round',\n       'school_nlns', 'school_kipp', 'school_charter_ready_promise',\n       'teacher_prefix', 'teacher_teach_for_america',\n       'teacher_ny_teaching_fellow', 'primary_focus_subject',\n       'primary_focus_area', 'secondary_focus_subject', 'secondary_focus_area',\n       'resource_type', 'poverty_level', 'grade_level',\n       'fulfillment_labor_materials', 'total_price_excluding_optional_support',\n       'total_price_including_optional_support', 'students_reached',\n       'eligible_double_your_impact_match', 'eligible_almost_home_match',\n       'date_posted', 'teacher_acctid_y', 'title', 'short_description',\n       'need_statement', 'essay', 'is_exciting',\n       'at_least_1_teacher_referred_donor', 'fully_funded',\n       'at_least_1_green_donation', 'great_chat',\n       'three_or_more_non_teacher_referred_donors',\n       'one_non_teacher_referred_donor_giving_100_plus',\n       'donation_from_thoughtful_donor', 'great_messages_proportion',\n       'teacher_referred_count', 'non_teacher_referred_count',\n       'item_unit_price', 'item_quantity', 'total_donations', 'unique_donors',\n       'total_cost_of_project', 'total_items_needed',\n       'unique_donors_per_project'],\n      dtype='object')"
     },
     "execution_count": 14,
     "metadata": {},
     "output_type": "execute_result"
    }
   ],
   "source": [
    "merged_df.columns"
   ],
   "metadata": {
    "collapsed": false,
    "ExecuteTime": {
     "end_time": "2023-09-08T15:57:34.786548Z",
     "start_time": "2023-09-08T15:57:34.764553Z"
    }
   }
  },
  {
   "cell_type": "code",
   "execution_count": 52,
   "outputs": [],
   "source": [
    "# Explanation why the columns are dropped: Dropping columns that have been used to create new features or are identifiers.\n",
    "merged_df.drop(columns=['total_price_including_optional_support', 'total_donations', 'item_quantity', 'unique_donors', 'Unnamed: 0'],inplace=True)\n",
    "#, 'resourceid', 'vendorid', 'vendor_name'], inplace=True)\n"
   ],
   "metadata": {
    "collapsed": false,
    "ExecuteTime": {
     "end_time": "2023-09-08T16:26:04.156172Z",
     "start_time": "2023-09-08T16:26:03.210860Z"
    }
   }
  },
  {
   "cell_type": "markdown",
   "source": [
    "### Model Building"
   ],
   "metadata": {
    "collapsed": false
   }
  },
  {
   "cell_type": "code",
   "execution_count": 53,
   "outputs": [],
   "source": [
    "from sklearn.preprocessing import LabelEncoder\n",
    "# Handle missing values by filling them with zeros or encoding categorical variables\n",
    "for column in merged_df.columns:\n",
    "    if merged_df[column].dtype == 'object' and not merged_df[column].mode().empty:\n",
    "        merged_df[column].fillna(merged_df[column].mode()[0], inplace=True)\n",
    "    else:\n",
    "        merged_df[column].fillna(0, inplace=True)\n",
    "\n",
    "# Handle categorical variables\n",
    "label_cols = merged_df.select_dtypes(include=['object']).columns.difference(['projectid'])\n",
    "for col in label_cols:\n",
    "    le = LabelEncoder()\n",
    "    merged_df[col] = le.fit_transform(merged_df[col].astype(str))\n",
    "\n",
    "# Drop the 'projectid' as it is just an identifier\n",
    "if 'projectid' in merged_df.columns:\n",
    "    merged_df.drop(columns=['projectid'], inplace=True)"
   ],
   "metadata": {
    "collapsed": false,
    "ExecuteTime": {
     "end_time": "2023-09-08T16:26:14.470263Z",
     "start_time": "2023-09-08T16:26:14.428420Z"
    }
   }
  },
  {
   "cell_type": "code",
   "execution_count": 68,
   "outputs": [],
   "source": [
    "from sklearn.ensemble import RandomForestClassifier\n",
    "from sklearn.model_selection import train_test_split\n",
    "from sklearn.metrics import accuracy_score\n",
    "# Extract the target variable 'is_exciting' and features from the merged dataframe\n",
    "X = merged_df.drop(columns=['is_exciting'])\n",
    "y = merged_df['is_exciting']\n",
    "\n",
    "# Split the data into training and validation sets (70% training, 30% validation)\n",
    "X_train, X_val, y_train, y_val = train_test_split(X, y, test_size=0.3, random_state=42)"
   ],
   "metadata": {
    "collapsed": false,
    "ExecuteTime": {
     "end_time": "2023-09-08T16:33:34.601094Z",
     "start_time": "2023-09-08T16:33:32.429986Z"
    }
   }
  },
  {
   "cell_type": "code",
   "execution_count": 56,
   "outputs": [],
   "source": [
    "# Initialize and train the Random Forest Classifier\n",
    "rf_clf = RandomForestClassifier(random_state=42)\n",
    "rf_clf.fit(X_train, y_train)\n",
    "\n",
    "# Predict the target variable for the validation set\n",
    "y_val_pred = rf_clf.predict(X_val)\n",
    "\n",
    "# Calculate the accuracy score of the model\n",
    "accuracy = accuracy_score(y_val, y_val_pred)"
   ],
   "metadata": {
    "collapsed": false,
    "ExecuteTime": {
     "end_time": "2023-09-08T16:27:10.067893Z",
     "start_time": "2023-09-08T16:26:52.325655Z"
    }
   }
  },
  {
   "cell_type": "code",
   "execution_count": 70,
   "outputs": [
    {
     "data": {
      "text/plain": "0.9999397687118535"
     },
     "execution_count": 70,
     "metadata": {},
     "output_type": "execute_result"
    }
   ],
   "source": [
    "accuracy"
   ],
   "metadata": {
    "collapsed": false,
    "ExecuteTime": {
     "end_time": "2023-09-08T16:34:24.256046Z",
     "start_time": "2023-09-08T16:34:24.178796Z"
    }
   }
  },
  {
   "cell_type": "markdown",
   "source": [
    "### For Submission"
   ],
   "metadata": {
    "collapsed": false
   }
  },
  {
   "cell_type": "code",
   "execution_count": 32,
   "outputs": [],
   "source": [
    "test_project_ids = sample_submission_df[\"projectid\"]"
   ],
   "metadata": {
    "collapsed": false,
    "ExecuteTime": {
     "end_time": "2023-09-08T16:12:48.549492Z",
     "start_time": "2023-09-08T16:12:48.519834Z"
    }
   }
  },
  {
   "cell_type": "code",
   "execution_count": 78,
   "outputs": [
    {
     "data": {
      "text/plain": "44772"
     },
     "execution_count": 78,
     "metadata": {},
     "output_type": "execute_result"
    }
   ],
   "source": [
    "len(set(test_project_ids))"
   ],
   "metadata": {
    "collapsed": false,
    "ExecuteTime": {
     "end_time": "2023-09-09T06:37:56.338473Z",
     "start_time": "2023-09-09T06:37:56.185195Z"
    }
   }
  },
  {
   "cell_type": "code",
   "execution_count": 85,
   "outputs": [
    {
     "data": {
      "text/plain": "       Unnamed: 0                         projectid  \\\n0             NaN  ffff7266778f71242675416e600b94e1   \n1         28184.0  fffeb510ee37a0bb01079f06bf141246   \n2             NaN  fff979abefa35a6bdd133b4e4150b737   \n3             NaN  fff8beec6de8c9411520d15d1f6979bf   \n4         16294.0  fff745e9c0b8cc9e73e8c4c9a0ef4292   \n...           ...                               ...   \n44767         NaN  000b6e707ad50a597ab46eedff6bde05   \n44768         NaN  0008c67f27dd29ea7be5a7cc5a866df8   \n44769     31464.0  00059e63bb0567708b2b0c9e3d9c43d6   \n44770         NaN  00057f424b5498c7ece13d13ce3e2178   \n44771         NaN  00034e54ed99042609edad55031c8861   \n\n                         teacher_acctid                          schoolid  \\\n0                                   NaN                               NaN   \n1      eee00f06bb674f025175f07490e7269c  af0447c301915d0c3cd67ec0c97d082a   \n2                                   NaN                               NaN   \n3                                   NaN                               NaN   \n4      6b2f281d7143a3363bbe74fb88a66227  7083409afbfa2d56b48bb8ce6227d7c5   \n...                                 ...                               ...   \n44767                               NaN                               NaN   \n44768                               NaN                               NaN   \n44769  404bc64798ecf3cc13aa5ef36f3b8af6  be6b91fce44c87342f7adce46a86e580   \n44770                               NaN                               NaN   \n44771                               NaN                               NaN   \n\n       school_ncesid  school_latitude  school_longitude  school_city  \\\n0                NaN              NaN               NaN          NaN   \n1                NaN        41.746249        -87.652208      Chicago   \n2                NaN              NaN               NaN          NaN   \n3                NaN              NaN               NaN          NaN   \n4       4.818540e+11        32.316716        -96.637445        Ennis   \n...              ...              ...               ...          ...   \n44767            NaN              NaN               NaN          NaN   \n44768            NaN              NaN               NaN          NaN   \n44769   1.302610e+11        34.422806        -83.851959  Gainesville   \n44770            NaN              NaN               NaN          NaN   \n44771            NaN              NaN               NaN          NaN   \n\n      school_state  school_zip  ...     poverty_level    grade_level  \\\n0              NaN         NaN  ...               NaN            NaN   \n1               IL     60620.0  ...   highest poverty    Grades 9-12   \n2              NaN         NaN  ...               NaN            NaN   \n3              NaN         NaN  ...               NaN            NaN   \n4               TX     75119.0  ...   highest poverty  Grades PreK-2   \n...            ...         ...  ...               ...            ...   \n44767          NaN         NaN  ...               NaN            NaN   \n44768          NaN         NaN  ...               NaN            NaN   \n44769           GA     30506.0  ...  moderate poverty     Grades 6-8   \n44770          NaN         NaN  ...               NaN            NaN   \n44771          NaN         NaN  ...               NaN            NaN   \n\n      fulfillment_labor_materials total_price_excluding_optional_support  \\\n0                             NaN                                    NaN   \n1                            30.0                                 435.95   \n2                             NaN                                    NaN   \n3                             NaN                                    NaN   \n4                            30.0                                 299.78   \n...                           ...                                    ...   \n44767                         NaN                                    NaN   \n44768                         NaN                                    NaN   \n44769                        30.0                                1017.35   \n44770                         NaN                                    NaN   \n44771                         NaN                                    NaN   \n\n      total_price_including_optional_support students_reached  \\\n0                                        NaN              NaN   \n1                                     512.88             50.0   \n2                                        NaN              NaN   \n3                                        NaN              NaN   \n4                                     352.68            500.0   \n...                                      ...              ...   \n44767                                    NaN              NaN   \n44768                                    NaN              NaN   \n44769                                1196.88             10.0   \n44770                                    NaN              NaN   \n44771                                    NaN              NaN   \n\n      eligible_double_your_impact_match eligible_almost_home_match  \\\n0                                   NaN                        NaN   \n1                                     t                          f   \n2                                   NaN                        NaN   \n3                                   NaN                        NaN   \n4                                     f                          f   \n...                                 ...                        ...   \n44767                               NaN                        NaN   \n44768                               NaN                        NaN   \n44769                                 f                          f   \n44770                               NaN                        NaN   \n44771                               NaN                        NaN   \n\n      date_posted is_exciting  \n0             NaN           0  \n1      2014-02-17           0  \n2             NaN           0  \n3             NaN           0  \n4      2014-03-19           0  \n...           ...         ...  \n44767         NaN           0  \n44768         NaN           0  \n44769  2014-02-08           0  \n44770         NaN           0  \n44771         NaN           0  \n\n[44772 rows x 37 columns]",
      "text/html": "<div>\n<style scoped>\n    .dataframe tbody tr th:only-of-type {\n        vertical-align: middle;\n    }\n\n    .dataframe tbody tr th {\n        vertical-align: top;\n    }\n\n    .dataframe thead th {\n        text-align: right;\n    }\n</style>\n<table border=\"1\" class=\"dataframe\">\n  <thead>\n    <tr style=\"text-align: right;\">\n      <th></th>\n      <th>Unnamed: 0</th>\n      <th>projectid</th>\n      <th>teacher_acctid</th>\n      <th>schoolid</th>\n      <th>school_ncesid</th>\n      <th>school_latitude</th>\n      <th>school_longitude</th>\n      <th>school_city</th>\n      <th>school_state</th>\n      <th>school_zip</th>\n      <th>...</th>\n      <th>poverty_level</th>\n      <th>grade_level</th>\n      <th>fulfillment_labor_materials</th>\n      <th>total_price_excluding_optional_support</th>\n      <th>total_price_including_optional_support</th>\n      <th>students_reached</th>\n      <th>eligible_double_your_impact_match</th>\n      <th>eligible_almost_home_match</th>\n      <th>date_posted</th>\n      <th>is_exciting</th>\n    </tr>\n  </thead>\n  <tbody>\n    <tr>\n      <th>0</th>\n      <td>NaN</td>\n      <td>ffff7266778f71242675416e600b94e1</td>\n      <td>NaN</td>\n      <td>NaN</td>\n      <td>NaN</td>\n      <td>NaN</td>\n      <td>NaN</td>\n      <td>NaN</td>\n      <td>NaN</td>\n      <td>NaN</td>\n      <td>...</td>\n      <td>NaN</td>\n      <td>NaN</td>\n      <td>NaN</td>\n      <td>NaN</td>\n      <td>NaN</td>\n      <td>NaN</td>\n      <td>NaN</td>\n      <td>NaN</td>\n      <td>NaN</td>\n      <td>0</td>\n    </tr>\n    <tr>\n      <th>1</th>\n      <td>28184.0</td>\n      <td>fffeb510ee37a0bb01079f06bf141246</td>\n      <td>eee00f06bb674f025175f07490e7269c</td>\n      <td>af0447c301915d0c3cd67ec0c97d082a</td>\n      <td>NaN</td>\n      <td>41.746249</td>\n      <td>-87.652208</td>\n      <td>Chicago</td>\n      <td>IL</td>\n      <td>60620.0</td>\n      <td>...</td>\n      <td>highest poverty</td>\n      <td>Grades 9-12</td>\n      <td>30.0</td>\n      <td>435.95</td>\n      <td>512.88</td>\n      <td>50.0</td>\n      <td>t</td>\n      <td>f</td>\n      <td>2014-02-17</td>\n      <td>0</td>\n    </tr>\n    <tr>\n      <th>2</th>\n      <td>NaN</td>\n      <td>fff979abefa35a6bdd133b4e4150b737</td>\n      <td>NaN</td>\n      <td>NaN</td>\n      <td>NaN</td>\n      <td>NaN</td>\n      <td>NaN</td>\n      <td>NaN</td>\n      <td>NaN</td>\n      <td>NaN</td>\n      <td>...</td>\n      <td>NaN</td>\n      <td>NaN</td>\n      <td>NaN</td>\n      <td>NaN</td>\n      <td>NaN</td>\n      <td>NaN</td>\n      <td>NaN</td>\n      <td>NaN</td>\n      <td>NaN</td>\n      <td>0</td>\n    </tr>\n    <tr>\n      <th>3</th>\n      <td>NaN</td>\n      <td>fff8beec6de8c9411520d15d1f6979bf</td>\n      <td>NaN</td>\n      <td>NaN</td>\n      <td>NaN</td>\n      <td>NaN</td>\n      <td>NaN</td>\n      <td>NaN</td>\n      <td>NaN</td>\n      <td>NaN</td>\n      <td>...</td>\n      <td>NaN</td>\n      <td>NaN</td>\n      <td>NaN</td>\n      <td>NaN</td>\n      <td>NaN</td>\n      <td>NaN</td>\n      <td>NaN</td>\n      <td>NaN</td>\n      <td>NaN</td>\n      <td>0</td>\n    </tr>\n    <tr>\n      <th>4</th>\n      <td>16294.0</td>\n      <td>fff745e9c0b8cc9e73e8c4c9a0ef4292</td>\n      <td>6b2f281d7143a3363bbe74fb88a66227</td>\n      <td>7083409afbfa2d56b48bb8ce6227d7c5</td>\n      <td>4.818540e+11</td>\n      <td>32.316716</td>\n      <td>-96.637445</td>\n      <td>Ennis</td>\n      <td>TX</td>\n      <td>75119.0</td>\n      <td>...</td>\n      <td>highest poverty</td>\n      <td>Grades PreK-2</td>\n      <td>30.0</td>\n      <td>299.78</td>\n      <td>352.68</td>\n      <td>500.0</td>\n      <td>f</td>\n      <td>f</td>\n      <td>2014-03-19</td>\n      <td>0</td>\n    </tr>\n    <tr>\n      <th>...</th>\n      <td>...</td>\n      <td>...</td>\n      <td>...</td>\n      <td>...</td>\n      <td>...</td>\n      <td>...</td>\n      <td>...</td>\n      <td>...</td>\n      <td>...</td>\n      <td>...</td>\n      <td>...</td>\n      <td>...</td>\n      <td>...</td>\n      <td>...</td>\n      <td>...</td>\n      <td>...</td>\n      <td>...</td>\n      <td>...</td>\n      <td>...</td>\n      <td>...</td>\n      <td>...</td>\n    </tr>\n    <tr>\n      <th>44767</th>\n      <td>NaN</td>\n      <td>000b6e707ad50a597ab46eedff6bde05</td>\n      <td>NaN</td>\n      <td>NaN</td>\n      <td>NaN</td>\n      <td>NaN</td>\n      <td>NaN</td>\n      <td>NaN</td>\n      <td>NaN</td>\n      <td>NaN</td>\n      <td>...</td>\n      <td>NaN</td>\n      <td>NaN</td>\n      <td>NaN</td>\n      <td>NaN</td>\n      <td>NaN</td>\n      <td>NaN</td>\n      <td>NaN</td>\n      <td>NaN</td>\n      <td>NaN</td>\n      <td>0</td>\n    </tr>\n    <tr>\n      <th>44768</th>\n      <td>NaN</td>\n      <td>0008c67f27dd29ea7be5a7cc5a866df8</td>\n      <td>NaN</td>\n      <td>NaN</td>\n      <td>NaN</td>\n      <td>NaN</td>\n      <td>NaN</td>\n      <td>NaN</td>\n      <td>NaN</td>\n      <td>NaN</td>\n      <td>...</td>\n      <td>NaN</td>\n      <td>NaN</td>\n      <td>NaN</td>\n      <td>NaN</td>\n      <td>NaN</td>\n      <td>NaN</td>\n      <td>NaN</td>\n      <td>NaN</td>\n      <td>NaN</td>\n      <td>0</td>\n    </tr>\n    <tr>\n      <th>44769</th>\n      <td>31464.0</td>\n      <td>00059e63bb0567708b2b0c9e3d9c43d6</td>\n      <td>404bc64798ecf3cc13aa5ef36f3b8af6</td>\n      <td>be6b91fce44c87342f7adce46a86e580</td>\n      <td>1.302610e+11</td>\n      <td>34.422806</td>\n      <td>-83.851959</td>\n      <td>Gainesville</td>\n      <td>GA</td>\n      <td>30506.0</td>\n      <td>...</td>\n      <td>moderate poverty</td>\n      <td>Grades 6-8</td>\n      <td>30.0</td>\n      <td>1017.35</td>\n      <td>1196.88</td>\n      <td>10.0</td>\n      <td>f</td>\n      <td>f</td>\n      <td>2014-02-08</td>\n      <td>0</td>\n    </tr>\n    <tr>\n      <th>44770</th>\n      <td>NaN</td>\n      <td>00057f424b5498c7ece13d13ce3e2178</td>\n      <td>NaN</td>\n      <td>NaN</td>\n      <td>NaN</td>\n      <td>NaN</td>\n      <td>NaN</td>\n      <td>NaN</td>\n      <td>NaN</td>\n      <td>NaN</td>\n      <td>...</td>\n      <td>NaN</td>\n      <td>NaN</td>\n      <td>NaN</td>\n      <td>NaN</td>\n      <td>NaN</td>\n      <td>NaN</td>\n      <td>NaN</td>\n      <td>NaN</td>\n      <td>NaN</td>\n      <td>0</td>\n    </tr>\n    <tr>\n      <th>44771</th>\n      <td>NaN</td>\n      <td>00034e54ed99042609edad55031c8861</td>\n      <td>NaN</td>\n      <td>NaN</td>\n      <td>NaN</td>\n      <td>NaN</td>\n      <td>NaN</td>\n      <td>NaN</td>\n      <td>NaN</td>\n      <td>NaN</td>\n      <td>...</td>\n      <td>NaN</td>\n      <td>NaN</td>\n      <td>NaN</td>\n      <td>NaN</td>\n      <td>NaN</td>\n      <td>NaN</td>\n      <td>NaN</td>\n      <td>NaN</td>\n      <td>NaN</td>\n      <td>0</td>\n    </tr>\n  </tbody>\n</table>\n<p>44772 rows × 37 columns</p>\n</div>"
     },
     "execution_count": 85,
     "metadata": {},
     "output_type": "execute_result"
    }
   ],
   "source": [
    "merged_df_test = projects_df.merge(sample_submission_df, on='projectid', how='right')\n",
    "merged_df_test"
   ],
   "metadata": {
    "collapsed": false,
    "ExecuteTime": {
     "end_time": "2023-09-09T06:45:54.485513Z",
     "start_time": "2023-09-09T06:45:47.525924Z"
    }
   }
  },
  {
   "cell_type": "code",
   "execution_count": 86,
   "outputs": [],
   "source": [
    "# Merging Projects with Essays, Outcomes and Resources\n",
    "merged_df_test = merged_df_test.merge(essays_df, on='projectid', how='left')\n",
    "merged_df_test = merged_df_test.merge(outcomes_df, on='projectid', how='left')\n",
    "merged_df_test = merged_df_test.merge(resources_df.groupby('projectid').agg({'item_unit_price':'sum', 'item_quantity':'sum'}).reset_index(), on='projectid', how='left')"
   ],
   "metadata": {
    "collapsed": false,
    "ExecuteTime": {
     "end_time": "2023-09-09T06:46:28.815036Z",
     "start_time": "2023-09-09T06:46:15.435778Z"
    }
   }
  },
  {
   "cell_type": "code",
   "execution_count": 88,
   "outputs": [],
   "source": [
    "# Merging Donations (aggregated) with the main merged dataframe\n",
    "donation_features = donations_df.groupby('projectid').agg({'donation_total':'sum', 'donor_acctid':'nunique'}).reset_index()\n",
    "donation_features.rename(columns={'donation_total':'total_donations', 'donor_acctid':'unique_donors'}, inplace=True)\n",
    "merged_df_test = merged_df_test.merge(donation_features, on='projectid', how='left')"
   ],
   "metadata": {
    "collapsed": false,
    "ExecuteTime": {
     "end_time": "2023-09-09T06:47:13.701660Z",
     "start_time": "2023-09-09T06:47:07.689461Z"
    }
   }
  },
  {
   "cell_type": "code",
   "execution_count": 89,
   "outputs": [
    {
     "data": {
      "text/plain": "44772"
     },
     "execution_count": 89,
     "metadata": {},
     "output_type": "execute_result"
    }
   ],
   "source": [
    "len(merged_df_test['projectid'])"
   ],
   "metadata": {
    "collapsed": false,
    "ExecuteTime": {
     "end_time": "2023-09-09T06:47:31.657791Z",
     "start_time": "2023-09-09T06:47:31.629858Z"
    }
   }
  },
  {
   "cell_type": "code",
   "execution_count": 90,
   "outputs": [],
   "source": [
    "# Feature name and description: total_cost_of_project - Sum of total price including optional support and total donations\n",
    "# Usefulness: This feature could help in determining how financially heavy a project is, which could be related to its 'exciting' status.\n",
    "# Input samples: 'total_price_including_optional_support': [2527.64, 267.49, 222.12], 'total_donations': [2300.0, 267.49, 222.12]\n",
    "merged_df_test['total_cost_of_project'] = merged_df_test['total_price_including_optional_support'] + merged_df_test['total_donations'].fillna(0)"
   ],
   "metadata": {
    "collapsed": false,
    "ExecuteTime": {
     "end_time": "2023-09-09T06:47:59.247282Z",
     "start_time": "2023-09-09T06:47:59.089750Z"
    }
   }
  },
  {
   "cell_type": "code",
   "execution_count": 91,
   "outputs": [],
   "source": [
    "# Feature name and description: total_items_needed - Total quantity of items needed for the project\n",
    "# Usefulness: A project requiring a large number of items may be more 'exciting' due to its scale.\n",
    "# Input samples: 'item_quantity': [1.0, 8.0, 5.0]\n",
    "merged_df_test['total_items_needed'] = merged_df_test['item_quantity'].fillna(0)"
   ],
   "metadata": {
    "collapsed": false,
    "ExecuteTime": {
     "end_time": "2023-09-09T06:48:18.694329Z",
     "start_time": "2023-09-09T06:48:18.658511Z"
    }
   }
  },
  {
   "cell_type": "code",
   "execution_count": 92,
   "outputs": [],
   "source": [
    "# Feature name and description: unique_donors_per_project - Number of unique donors for each project\n",
    "# Usefulness: More unique donors could indicate higher excitement around the project.\n",
    "# Input samples: 'unique_donors': [2, 5, 1]\n",
    "merged_df_test['unique_donors_per_project'] = merged_df_test['unique_donors'].fillna(0)"
   ],
   "metadata": {
    "collapsed": false,
    "ExecuteTime": {
     "end_time": "2023-09-09T06:48:31.602182Z",
     "start_time": "2023-09-09T06:48:31.588353Z"
    }
   }
  },
  {
   "cell_type": "code",
   "execution_count": 93,
   "outputs": [],
   "source": [
    "# Explanation why the columns are dropped: Dropping columns that have been used to create new features or are identifiers.\n",
    "merged_df_test.drop(columns=['total_price_including_optional_support', 'total_donations', 'item_quantity', 'unique_donors', 'Unnamed: 0'], inplace=True)#'resourceid', 'vendorid', 'vendor_name'], inplace=True)\n"
   ],
   "metadata": {
    "collapsed": false,
    "ExecuteTime": {
     "end_time": "2023-09-09T06:48:45.510885Z",
     "start_time": "2023-09-09T06:48:44.701870Z"
    }
   }
  },
  {
   "cell_type": "code",
   "execution_count": 94,
   "outputs": [],
   "source": [
    "# Handle missing values by filling them with zeros or encoding categorical variables\n",
    "for column in merged_df_test.columns:\n",
    "    if merged_df_test[column].dtype == 'object' and not merged_df_test[column].mode().empty:\n",
    "        merged_df_test[column].fillna(merged_df_test[column].mode()[0], inplace=True)\n",
    "    else:\n",
    "        merged_df_test[column].fillna(0, inplace=True)\n",
    "\n",
    "# Handle categorical variables\n",
    "label_cols = merged_df_test.select_dtypes(include=['object']).columns.difference(['projectid'])\n",
    "for col in label_cols:\n",
    "    le = LabelEncoder()\n",
    "    merged_df_test[col] = le.fit_transform(merged_df_test[col].astype(str))\n",
    "\n",
    "# Drop the 'projectid' as it is just an identifier\n",
    "if 'projectid' in merged_df_test.columns:\n",
    "    merged_df_test.drop(columns=['projectid'], inplace=True)"
   ],
   "metadata": {
    "collapsed": false,
    "ExecuteTime": {
     "end_time": "2023-09-09T06:49:16.092208Z",
     "start_time": "2023-09-09T06:48:57.768400Z"
    }
   }
  },
  {
   "cell_type": "code",
   "execution_count": 97,
   "outputs": [],
   "source": [
    "# Predict the target variable for the test set\n",
    "X_test = merged_df_test.drop(columns=['is_exciting_x','is_exciting_y'])\n",
    "y_test_pred = rf_clf.predict(X_test)"
   ],
   "metadata": {
    "collapsed": false,
    "ExecuteTime": {
     "end_time": "2023-09-09T06:50:40.472427Z",
     "start_time": "2023-09-09T06:50:38.710787Z"
    }
   }
  },
  {
   "cell_type": "code",
   "execution_count": 99,
   "outputs": [
    {
     "data": {
      "text/plain": "0"
     },
     "execution_count": 99,
     "metadata": {},
     "output_type": "execute_result"
    }
   ],
   "source": [
    "y_test_pred.sum()"
   ],
   "metadata": {
    "collapsed": false,
    "ExecuteTime": {
     "end_time": "2023-09-09T06:51:26.809049Z",
     "start_time": "2023-09-09T06:51:23.208595Z"
    }
   }
  },
  {
   "cell_type": "code",
   "execution_count": 49,
   "outputs": [
    {
     "data": {
      "text/plain": "Index(['Unnamed: 0', 'teacher_acctid_x', 'schoolid', 'school_ncesid',\n       'school_latitude', 'school_longitude', 'school_city', 'school_state',\n       'school_zip', 'school_metro', 'school_district', 'school_county',\n       'school_charter', 'school_magnet', 'school_year_round', 'school_nlns',\n       'school_kipp', 'school_charter_ready_promise', 'teacher_prefix',\n       'teacher_teach_for_america', 'teacher_ny_teaching_fellow',\n       'primary_focus_subject', 'primary_focus_area',\n       'secondary_focus_subject', 'secondary_focus_area', 'resource_type',\n       'poverty_level', 'grade_level', 'fulfillment_labor_materials',\n       'total_price_excluding_optional_support',\n       'total_price_including_optional_support', 'students_reached',\n       'eligible_double_your_impact_match', 'eligible_almost_home_match',\n       'date_posted', 'teacher_acctid_y', 'title', 'short_description',\n       'need_statement', 'essay', 'is_exciting',\n       'at_least_1_teacher_referred_donor', 'fully_funded',\n       'at_least_1_green_donation', 'great_chat',\n       'three_or_more_non_teacher_referred_donors',\n       'one_non_teacher_referred_donor_giving_100_plus',\n       'donation_from_thoughtful_donor', 'great_messages_proportion',\n       'teacher_referred_count', 'non_teacher_referred_count',\n       'item_unit_price', 'item_quantity', 'total_donations', 'unique_donors',\n       'total_cost_of_project', 'total_items_needed',\n       'unique_donors_per_project'],\n      dtype='object')"
     },
     "execution_count": 49,
     "metadata": {},
     "output_type": "execute_result"
    }
   ],
   "source": [
    "merged_df.columns"
   ],
   "metadata": {
    "collapsed": false,
    "ExecuteTime": {
     "end_time": "2023-09-08T16:24:49.366787Z",
     "start_time": "2023-09-08T16:24:49.332966Z"
    }
   }
  },
  {
   "cell_type": "code",
   "execution_count": 66,
   "outputs": [
    {
     "data": {
      "text/plain": "0         0\n1         0\n2         1\n3         0\n4         0\n         ..\n166019    0\n166020    0\n166021    0\n166022    0\n166023    0\nName: is_exciting, Length: 166024, dtype: int64"
     },
     "execution_count": 66,
     "metadata": {},
     "output_type": "execute_result"
    }
   ],
   "source": [
    "merged_df_test[\"is_exciting\"]"
   ],
   "metadata": {
    "collapsed": false,
    "ExecuteTime": {
     "end_time": "2023-09-08T16:32:02.837573Z",
     "start_time": "2023-09-08T16:32:02.418522Z"
    }
   }
  },
  {
   "cell_type": "code",
   "execution_count": 55,
   "outputs": [
    {
     "data": {
      "text/plain": "Index(['teacher_acctid_x', 'schoolid', 'school_ncesid', 'school_latitude',\n       'school_longitude', 'school_city', 'school_state', 'school_zip',\n       'school_metro', 'school_district', 'school_county', 'school_charter',\n       'school_magnet', 'school_year_round', 'school_nlns', 'school_kipp',\n       'school_charter_ready_promise', 'teacher_prefix',\n       'teacher_teach_for_america', 'teacher_ny_teaching_fellow',\n       'primary_focus_subject', 'primary_focus_area',\n       'secondary_focus_subject', 'secondary_focus_area', 'resource_type',\n       'poverty_level', 'grade_level', 'fulfillment_labor_materials',\n       'total_price_excluding_optional_support', 'students_reached',\n       'eligible_double_your_impact_match', 'eligible_almost_home_match',\n       'date_posted', 'teacher_acctid_y', 'title', 'short_description',\n       'need_statement', 'essay', 'at_least_1_teacher_referred_donor',\n       'fully_funded', 'at_least_1_green_donation', 'great_chat',\n       'three_or_more_non_teacher_referred_donors',\n       'one_non_teacher_referred_donor_giving_100_plus',\n       'donation_from_thoughtful_donor', 'great_messages_proportion',\n       'teacher_referred_count', 'non_teacher_referred_count',\n       'item_unit_price', 'total_cost_of_project', 'total_items_needed',\n       'unique_donors_per_project'],\n      dtype='object')"
     },
     "execution_count": 55,
     "metadata": {},
     "output_type": "execute_result"
    }
   ],
   "source": [
    "X_train.columns"
   ],
   "metadata": {
    "collapsed": false,
    "ExecuteTime": {
     "end_time": "2023-09-08T16:26:25.761622Z",
     "start_time": "2023-09-08T16:26:25.685072Z"
    }
   }
  },
  {
   "cell_type": "code",
   "execution_count": 69,
   "outputs": [
    {
     "data": {
      "text/plain": "Index(['teacher_acctid_x', 'schoolid', 'school_ncesid', 'school_latitude',\n       'school_longitude', 'school_city', 'school_state', 'school_zip',\n       'school_metro', 'school_district', 'school_county', 'school_charter',\n       'school_magnet', 'school_year_round', 'school_nlns', 'school_kipp',\n       'school_charter_ready_promise', 'teacher_prefix',\n       'teacher_teach_for_america', 'teacher_ny_teaching_fellow',\n       'primary_focus_subject', 'primary_focus_area',\n       'secondary_focus_subject', 'secondary_focus_area', 'resource_type',\n       'poverty_level', 'grade_level', 'fulfillment_labor_materials',\n       'total_price_excluding_optional_support', 'students_reached',\n       'eligible_double_your_impact_match', 'eligible_almost_home_match',\n       'date_posted', 'teacher_acctid_y', 'title', 'short_description',\n       'need_statement', 'essay', 'at_least_1_teacher_referred_donor',\n       'fully_funded', 'at_least_1_green_donation', 'great_chat',\n       'three_or_more_non_teacher_referred_donors',\n       'one_non_teacher_referred_donor_giving_100_plus',\n       'donation_from_thoughtful_donor', 'great_messages_proportion',\n       'teacher_referred_count', 'non_teacher_referred_count',\n       'item_unit_price', 'total_cost_of_project', 'total_items_needed',\n       'unique_donors_per_project'],\n      dtype='object')"
     },
     "execution_count": 69,
     "metadata": {},
     "output_type": "execute_result"
    }
   ],
   "source": [
    "X.columns"
   ],
   "metadata": {
    "collapsed": false,
    "ExecuteTime": {
     "end_time": "2023-09-08T16:33:45.542942Z",
     "start_time": "2023-09-08T16:33:45.512139Z"
    }
   }
  },
  {
   "cell_type": "code",
   "execution_count": null,
   "outputs": [],
   "source": [
    "set(sample_s)"
   ],
   "metadata": {
    "collapsed": false
   }
  }
 ],
 "metadata": {
  "kernelspec": {
   "display_name": "Python 3",
   "language": "python",
   "name": "python3"
  },
  "language_info": {
   "codemirror_mode": {
    "name": "ipython",
    "version": 2
   },
   "file_extension": ".py",
   "mimetype": "text/x-python",
   "name": "python",
   "nbconvert_exporter": "python",
   "pygments_lexer": "ipython2",
   "version": "2.7.6"
  }
 },
 "nbformat": 4,
 "nbformat_minor": 0
}
